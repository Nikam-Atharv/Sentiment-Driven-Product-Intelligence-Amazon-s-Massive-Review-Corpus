{
  "cells": [
    {
      "cell_type": "markdown",
      "source": [
        "### Name: Atharv Satish Nikam\n",
        "### Sentiment Analysis:\n",
        "\n",
        "#### Dataset: Amazon Product Reviews [category: Software]"
      ],
      "metadata": {
        "id": "4mg0dXcmUuyX"
      }
    },
    {
      "cell_type": "markdown",
      "source": [
        "## Importing and Downloading required packages"
      ],
      "metadata": {
        "id": "UnoYUBahUnpk"
      }
    },
    {
      "cell_type": "code",
      "execution_count": 1,
      "metadata": {
        "id": "J4QdXPxnyv5s"
      },
      "outputs": [],
      "source": [
        "import numpy as np\n",
        "import pandas as pd\n",
        "import json\n",
        "import nltk"
      ]
    },
    {
      "cell_type": "code",
      "execution_count": 2,
      "metadata": {
        "colab": {
          "base_uri": "https://localhost:8080/"
        },
        "id": "-etRn1mOzFyU",
        "outputId": "438a48f0-45bc-49d5-99a1-6eea5833d952"
      },
      "outputs": [
        {
          "output_type": "stream",
          "name": "stdout",
          "text": [
            "Mounted at /gdrive\n"
          ]
        }
      ],
      "source": [
        "from google.colab import drive\n",
        "drive.mount('/gdrive')"
      ]
    },
    {
      "cell_type": "code",
      "execution_count": 3,
      "metadata": {
        "colab": {
          "base_uri": "https://localhost:8080/"
        },
        "id": "JkXzVeaf8vbc",
        "outputId": "0864d0ef-e7ca-4d83-d0b3-a3f54ab94bef"
      },
      "outputs": [
        {
          "output_type": "stream",
          "name": "stderr",
          "text": [
            "[nltk_data] Downloading package sentiwordnet to /root/nltk_data...\n",
            "[nltk_data]   Unzipping corpora/sentiwordnet.zip.\n",
            "[nltk_data] Downloading package wordnet to /root/nltk_data...\n",
            "[nltk_data] Downloading package punkt to /root/nltk_data...\n",
            "[nltk_data]   Unzipping tokenizers/punkt.zip.\n"
          ]
        },
        {
          "output_type": "execute_result",
          "data": {
            "text/plain": [
              "True"
            ]
          },
          "metadata": {},
          "execution_count": 3
        }
      ],
      "source": [
        "nltk.download('sentiwordnet')\n",
        "from nltk.corpus import sentiwordnet as swn\n",
        "\n",
        "nltk.download('wordnet')\n",
        "\n",
        "nltk.download('punkt')"
      ]
    },
    {
      "cell_type": "code",
      "source": [
        "from nltk.corpus import stopwords"
      ],
      "metadata": {
        "id": "mV67HKT-UmT_"
      },
      "execution_count": 46,
      "outputs": []
    },
    {
      "cell_type": "code",
      "source": [
        "nltk.download('stopwords')"
      ],
      "metadata": {
        "colab": {
          "base_uri": "https://localhost:8080/"
        },
        "id": "pH0tID0TWTYb",
        "outputId": "4f6b23a9-e554-4e58-dac7-097bc73d58be"
      },
      "execution_count": 48,
      "outputs": [
        {
          "output_type": "stream",
          "name": "stderr",
          "text": [
            "[nltk_data] Downloading package stopwords to /root/nltk_data...\n",
            "[nltk_data]   Unzipping corpora/stopwords.zip.\n"
          ]
        },
        {
          "output_type": "execute_result",
          "data": {
            "text/plain": [
              "True"
            ]
          },
          "metadata": {},
          "execution_count": 48
        }
      ]
    },
    {
      "cell_type": "code",
      "source": [
        "nltk.download('vader_lexicon')"
      ],
      "metadata": {
        "colab": {
          "base_uri": "https://localhost:8080/"
        },
        "id": "nbgPZr3me996",
        "outputId": "7d44b971-8e8f-403d-ab5f-9764f5e08deb"
      },
      "execution_count": 82,
      "outputs": [
        {
          "output_type": "stream",
          "name": "stderr",
          "text": [
            "[nltk_data] Downloading package vader_lexicon to /root/nltk_data...\n"
          ]
        },
        {
          "output_type": "execute_result",
          "data": {
            "text/plain": [
              "True"
            ]
          },
          "metadata": {},
          "execution_count": 82
        }
      ]
    },
    {
      "cell_type": "markdown",
      "metadata": {
        "id": "ka4S29ob830_"
      },
      "source": [
        "## Loading the JSON Data"
      ]
    },
    {
      "cell_type": "code",
      "execution_count": 4,
      "metadata": {
        "id": "5qYLS8KOzdJB"
      },
      "outputs": [],
      "source": [
        "data=[]\n",
        "with open('/gdrive/My Drive/Software.json', 'r') as jsonFile:\n",
        "    for line in jsonFile:\n",
        "        data.append(json.loads(line))"
      ]
    },
    {
      "cell_type": "code",
      "execution_count": 5,
      "metadata": {
        "colab": {
          "base_uri": "https://localhost:8080/"
        },
        "id": "TRrgg63q1rji",
        "outputId": "3cef3b17-bf53-4b50-f974-0e0097b0bb6d"
      },
      "outputs": [
        {
          "output_type": "stream",
          "name": "stdout",
          "text": [
            "Total number of reviews loaded:  459436\n"
          ]
        }
      ],
      "source": [
        "print(\"Total number of reviews loaded: \", len(data))"
      ]
    },
    {
      "cell_type": "code",
      "execution_count": 6,
      "metadata": {
        "colab": {
          "base_uri": "https://localhost:8080/"
        },
        "id": "MDDVNZfe_SLc",
        "outputId": "69ad1d1a-d1d7-4bcc-d4aa-c5bac89f77b4"
      },
      "outputs": [
        {
          "output_type": "execute_result",
          "data": {
            "text/plain": [
              "[{'overall': 4.0,\n",
              "  'verified': True,\n",
              "  'reviewTime': '02 23, 2014',\n",
              "  'reviewerID': 'A1YCCU0YRLS0FE',\n",
              "  'asin': '0077613252',\n",
              "  'style': {'Format:': ' Loose Leaf'},\n",
              "  'reviewerName': 'Rosalind White Ames',\n",
              "  'reviewText': 'I am really enjoying this book with the worksheets that make you review your goals, what to do when you do not make it, it reminds me  of my human sexuality classwork.',\n",
              "  'summary': 'Health',\n",
              "  'unixReviewTime': 1393113600},\n",
              " {'overall': 1.0,\n",
              "  'vote': '7',\n",
              "  'verified': True,\n",
              "  'reviewTime': '02 17, 2014',\n",
              "  'reviewerID': 'A1BJHRQDYVAY2J',\n",
              "  'asin': '0077613252',\n",
              "  'style': {'Format:': ' Loose Leaf'},\n",
              "  'reviewerName': 'Allan R. Baker',\n",
              "  'reviewText': 'IF YOU ARE TAKING THIS CLASS DON\"T WASTE YOUR MONEY ON THIS SO CALLED BOOK! $140.00 FOR A \"BOOK\" THAT ISIN\\'T EVEN BOUND LOOSE LEAFS, THAT I HAD TO PROVIDE MY OWN BINDER FOR. TURNS OUT YOU CAN BUY ACCESS TO THE BOOK AT MCGRAW HILL CONNECT CORE FOR $70.00\\n\\nTHIS BOOK IS A COMPLETE WASTE OF MONEY!',\n",
              "  'summary': 'ARE YOU KIDING ME?',\n",
              "  'unixReviewTime': 1392595200},\n",
              " {'overall': 3.0,\n",
              "  'vote': '3',\n",
              "  'verified': True,\n",
              "  'reviewTime': '02 17, 2014',\n",
              "  'reviewerID': 'APRDVZ6QBIQXT',\n",
              "  'asin': '0077613252',\n",
              "  'style': {'Format:': ' Loose Leaf'},\n",
              "  'reviewerName': 'Lucy',\n",
              "  'reviewText': \"This book was missing pages!!! Important pages. I couldn't answer some test questions because of it!! I have never had this happen before.\",\n",
              "  'summary': 'missing pages!!',\n",
              "  'unixReviewTime': 1392595200},\n",
              " {'overall': 5.0,\n",
              "  'verified': False,\n",
              "  'reviewTime': '10 14, 2013',\n",
              "  'reviewerID': 'A2JZTTBSLS1QXV',\n",
              "  'asin': '0077775473',\n",
              "  'reviewerName': 'Albert V.',\n",
              "  'reviewText': 'I have used LearnSmart and can officially say that this is an amazing study tool that quickly and simply adapts to your style of learning. You can access it at anytime and it is on the go! Once you start using LearnSmart you will quickly realize that this is the best way to learn and study.\\n\\nI am a business student and I did not use LearnSmart for my Accounting I class, however, I did use it for my Accounting II class. The grade difference from Accounting I to Accounting II was a whole letter grade... thanks to LearnSmart!\\n\\nEvery college student should definitely check it out!',\n",
              "  'summary': 'Best study product out there!',\n",
              "  'unixReviewTime': 1381708800}]"
            ]
          },
          "metadata": {},
          "execution_count": 6
        }
      ],
      "source": [
        "data[1:5]"
      ]
    },
    {
      "cell_type": "code",
      "execution_count": 7,
      "metadata": {
        "colab": {
          "base_uri": "https://localhost:8080/"
        },
        "id": "QF5wvA4-6eRc",
        "outputId": "8adfa00d-fae7-4cb0-ced0-c3120ba43747"
      },
      "outputs": [
        {
          "output_type": "stream",
          "name": "stdout",
          "text": [
            "dict_keys(['overall', 'verified', 'reviewTime', 'reviewerID', 'asin', 'style', 'reviewerName', 'reviewText', 'summary', 'unixReviewTime'])\n"
          ]
        }
      ],
      "source": [
        "#keys in the data\n",
        "print(data[0].keys())"
      ]
    },
    {
      "cell_type": "code",
      "execution_count": 8,
      "metadata": {
        "colab": {
          "base_uri": "https://localhost:8080/"
        },
        "id": "4TaX5LXL9CXW",
        "outputId": "db7aa288-4b13-496e-8022-4c0127e6cafb"
      },
      "outputs": [
        {
          "output_type": "stream",
          "name": "stdout",
          "text": [
            "The materials arrived early and were in excellent condition.  However for the money spent they really should've come with a binder and not just loose leaf.\n"
          ]
        }
      ],
      "source": [
        "print(data[0]['reviewText'])"
      ]
    },
    {
      "cell_type": "code",
      "execution_count": 9,
      "metadata": {
        "colab": {
          "base_uri": "https://localhost:8080/"
        },
        "id": "MVV7qnkY-E0H",
        "outputId": "834f0af7-3613-4970-bf82-18edef8a1be9"
      },
      "outputs": [
        {
          "output_type": "stream",
          "name": "stdout",
          "text": [
            "total no of reviews extracted from json:  459370\n"
          ]
        }
      ],
      "source": [
        "# to get only reviews from data\n",
        "reviews = []\n",
        "for item in data:\n",
        "  if \"reviewText\" in item.keys():\n",
        "    review = item[\"reviewText\"]\n",
        "    reviews.append(review)\n",
        "\n",
        "print(\"total no of reviews extracted from json: \", len(reviews))"
      ]
    },
    {
      "cell_type": "code",
      "execution_count": 10,
      "metadata": {
        "colab": {
          "base_uri": "https://localhost:8080/"
        },
        "id": "3cEiOaaJ_FYV",
        "outputId": "93a61857-e64e-407d-d772-1c0f474086b8"
      },
      "outputs": [
        {
          "output_type": "execute_result",
          "data": {
            "text/plain": [
              "['I am really enjoying this book with the worksheets that make you review your goals, what to do when you do not make it, it reminds me  of my human sexuality classwork.',\n",
              " 'IF YOU ARE TAKING THIS CLASS DON\"T WASTE YOUR MONEY ON THIS SO CALLED BOOK! $140.00 FOR A \"BOOK\" THAT ISIN\\'T EVEN BOUND LOOSE LEAFS, THAT I HAD TO PROVIDE MY OWN BINDER FOR. TURNS OUT YOU CAN BUY ACCESS TO THE BOOK AT MCGRAW HILL CONNECT CORE FOR $70.00\\n\\nTHIS BOOK IS A COMPLETE WASTE OF MONEY!',\n",
              " \"This book was missing pages!!! Important pages. I couldn't answer some test questions because of it!! I have never had this happen before.\",\n",
              " 'I have used LearnSmart and can officially say that this is an amazing study tool that quickly and simply adapts to your style of learning. You can access it at anytime and it is on the go! Once you start using LearnSmart you will quickly realize that this is the best way to learn and study.\\n\\nI am a business student and I did not use LearnSmart for my Accounting I class, however, I did use it for my Accounting II class. The grade difference from Accounting I to Accounting II was a whole letter grade... thanks to LearnSmart!\\n\\nEvery college student should definitely check it out!',\n",
              " 'Strong backgroung, good read, quite up to date. It takes a holistic approach to the subject. Lack of references is a bit surprising.\\nJorge',\n",
              " 'If you live on Mars and never heard of the internet, this is a good book to have.',\n",
              " 'i got this book on amazon and it ended up saving me a lot of money.  It was in great condition and has been extremely useful to me.',\n",
              " 'I was very happy with this purchase because the shipment was super fast.  Thanks',\n",
              " 'Recieved in a timely manner- book in great condition. Some markings- but ledgible. Will be ordering again from this site for my school books- saved over $200.']"
            ]
          },
          "metadata": {},
          "execution_count": 10
        }
      ],
      "source": [
        "reviews[1:10]"
      ]
    },
    {
      "cell_type": "markdown",
      "metadata": {
        "id": "KhosX_DhEk70"
      },
      "source": [
        "## HTML parsing"
      ]
    },
    {
      "cell_type": "code",
      "execution_count": 11,
      "metadata": {
        "id": "tRUjRaUL_Lei"
      },
      "outputs": [],
      "source": [
        "from html import unescape\n",
        "\n",
        "#to save parsed reviews\n",
        "parsedReviews = []"
      ]
    },
    {
      "cell_type": "code",
      "execution_count": 12,
      "metadata": {
        "id": "lYISyQ25Evy4"
      },
      "outputs": [],
      "source": [
        "#used loop to process each review\n",
        "for review in reviews:\n",
        "  parsedReview = unescape(review)\n",
        "  # print(parsedReview)\n",
        "  parsedReviews.append(parsedReview)"
      ]
    },
    {
      "cell_type": "code",
      "execution_count": 13,
      "metadata": {
        "colab": {
          "base_uri": "https://localhost:8080/"
        },
        "id": "LJZJLee7E_m4",
        "outputId": "116193be-e1c2-4891-caa2-c3900795732a"
      },
      "outputs": [
        {
          "output_type": "execute_result",
          "data": {
            "text/plain": [
              "['I am really enjoying this book with the worksheets that make you review your goals, what to do when you do not make it, it reminds me  of my human sexuality classwork.',\n",
              " 'IF YOU ARE TAKING THIS CLASS DON\"T WASTE YOUR MONEY ON THIS SO CALLED BOOK! $140.00 FOR A \"BOOK\" THAT ISIN\\'T EVEN BOUND LOOSE LEAFS, THAT I HAD TO PROVIDE MY OWN BINDER FOR. TURNS OUT YOU CAN BUY ACCESS TO THE BOOK AT MCGRAW HILL CONNECT CORE FOR $70.00\\n\\nTHIS BOOK IS A COMPLETE WASTE OF MONEY!',\n",
              " \"This book was missing pages!!! Important pages. I couldn't answer some test questions because of it!! I have never had this happen before.\",\n",
              " 'I have used LearnSmart and can officially say that this is an amazing study tool that quickly and simply adapts to your style of learning. You can access it at anytime and it is on the go! Once you start using LearnSmart you will quickly realize that this is the best way to learn and study.\\n\\nI am a business student and I did not use LearnSmart for my Accounting I class, however, I did use it for my Accounting II class. The grade difference from Accounting I to Accounting II was a whole letter grade... thanks to LearnSmart!\\n\\nEvery college student should definitely check it out!',\n",
              " 'Strong backgroung, good read, quite up to date. It takes a holistic approach to the subject. Lack of references is a bit surprising.\\nJorge',\n",
              " 'If you live on Mars and never heard of the internet, this is a good book to have.',\n",
              " 'i got this book on amazon and it ended up saving me a lot of money.  It was in great condition and has been extremely useful to me.',\n",
              " 'I was very happy with this purchase because the shipment was super fast.  Thanks',\n",
              " 'Recieved in a timely manner- book in great condition. Some markings- but ledgible. Will be ordering again from this site for my school books- saved over $200.']"
            ]
          },
          "metadata": {},
          "execution_count": 13
        }
      ],
      "source": [
        "parsedReviews[1:10]"
      ]
    },
    {
      "cell_type": "markdown",
      "metadata": {
        "id": "nif3vv0lFVpG"
      },
      "source": [
        "## Removing Punctuations"
      ]
    },
    {
      "cell_type": "code",
      "execution_count": 14,
      "metadata": {
        "id": "7XGIyf68FEu9"
      },
      "outputs": [],
      "source": [
        "# punctuations removal\n",
        "import re\n",
        "\n",
        "punc_pattern = r'[^\\w\\s]'"
      ]
    },
    {
      "cell_type": "code",
      "execution_count": 15,
      "metadata": {
        "id": "4V-9XhIfFf8n"
      },
      "outputs": [],
      "source": [
        "modifiedReviews = []"
      ]
    },
    {
      "cell_type": "code",
      "execution_count": 16,
      "metadata": {
        "id": "soiMBWdPFlDf"
      },
      "outputs": [],
      "source": [
        "for review in parsedReviews:\n",
        "  review2 = re.sub(punc_pattern, \"\", review)\n",
        "  modifiedReviews.append(review2)"
      ]
    },
    {
      "cell_type": "code",
      "execution_count": 17,
      "metadata": {
        "colab": {
          "base_uri": "https://localhost:8080/"
        },
        "id": "sjfoI_BPFye9",
        "outputId": "920ebe7b-a372-4127-9dbe-d6ec51aac908"
      },
      "outputs": [
        {
          "output_type": "execute_result",
          "data": {
            "text/plain": [
              "['I am really enjoying this book with the worksheets that make you review your goals what to do when you do not make it it reminds me  of my human sexuality classwork',\n",
              " 'IF YOU ARE TAKING THIS CLASS DONT WASTE YOUR MONEY ON THIS SO CALLED BOOK 14000 FOR A BOOK THAT ISINT EVEN BOUND LOOSE LEAFS THAT I HAD TO PROVIDE MY OWN BINDER FOR TURNS OUT YOU CAN BUY ACCESS TO THE BOOK AT MCGRAW HILL CONNECT CORE FOR 7000\\n\\nTHIS BOOK IS A COMPLETE WASTE OF MONEY',\n",
              " 'This book was missing pages Important pages I couldnt answer some test questions because of it I have never had this happen before',\n",
              " 'I have used LearnSmart and can officially say that this is an amazing study tool that quickly and simply adapts to your style of learning You can access it at anytime and it is on the go Once you start using LearnSmart you will quickly realize that this is the best way to learn and study\\n\\nI am a business student and I did not use LearnSmart for my Accounting I class however I did use it for my Accounting II class The grade difference from Accounting I to Accounting II was a whole letter grade thanks to LearnSmart\\n\\nEvery college student should definitely check it out',\n",
              " 'Strong backgroung good read quite up to date It takes a holistic approach to the subject Lack of references is a bit surprising\\nJorge',\n",
              " 'If you live on Mars and never heard of the internet this is a good book to have',\n",
              " 'i got this book on amazon and it ended up saving me a lot of money  It was in great condition and has been extremely useful to me',\n",
              " 'I was very happy with this purchase because the shipment was super fast  Thanks',\n",
              " 'Recieved in a timely manner book in great condition Some markings but ledgible Will be ordering again from this site for my school books saved over 200']"
            ]
          },
          "metadata": {},
          "execution_count": 17
        }
      ],
      "source": [
        "modifiedReviews[1:10]"
      ]
    },
    {
      "cell_type": "markdown",
      "metadata": {
        "id": "QhMh2puwaMht"
      },
      "source": [
        "## Removing \"\\n\""
      ]
    },
    {
      "cell_type": "code",
      "execution_count": 18,
      "metadata": {
        "id": "iNC1UyY-ZesH"
      },
      "outputs": [],
      "source": [
        "cleanedReviews = []"
      ]
    },
    {
      "cell_type": "code",
      "execution_count": 19,
      "metadata": {
        "id": "RO9UMxW4F3iP"
      },
      "outputs": [],
      "source": [
        "for review in modifiedReviews:\n",
        "    # replacing \"\\n\" with a space\n",
        "    cleanedReview = review.replace(\"\\n\", \" \")\n",
        "    cleanedReviews.append(cleanedReview)"
      ]
    },
    {
      "cell_type": "code",
      "execution_count": 20,
      "metadata": {
        "colab": {
          "base_uri": "https://localhost:8080/"
        },
        "id": "WtnfmBwlZrUV",
        "outputId": "160fa905-8efb-4ed8-9171-8f7978402286"
      },
      "outputs": [
        {
          "output_type": "execute_result",
          "data": {
            "text/plain": [
              "['I am really enjoying this book with the worksheets that make you review your goals what to do when you do not make it it reminds me  of my human sexuality classwork',\n",
              " 'IF YOU ARE TAKING THIS CLASS DONT WASTE YOUR MONEY ON THIS SO CALLED BOOK 14000 FOR A BOOK THAT ISINT EVEN BOUND LOOSE LEAFS THAT I HAD TO PROVIDE MY OWN BINDER FOR TURNS OUT YOU CAN BUY ACCESS TO THE BOOK AT MCGRAW HILL CONNECT CORE FOR 7000  THIS BOOK IS A COMPLETE WASTE OF MONEY',\n",
              " 'This book was missing pages Important pages I couldnt answer some test questions because of it I have never had this happen before',\n",
              " 'I have used LearnSmart and can officially say that this is an amazing study tool that quickly and simply adapts to your style of learning You can access it at anytime and it is on the go Once you start using LearnSmart you will quickly realize that this is the best way to learn and study  I am a business student and I did not use LearnSmart for my Accounting I class however I did use it for my Accounting II class The grade difference from Accounting I to Accounting II was a whole letter grade thanks to LearnSmart  Every college student should definitely check it out',\n",
              " 'Strong backgroung good read quite up to date It takes a holistic approach to the subject Lack of references is a bit surprising Jorge',\n",
              " 'If you live on Mars and never heard of the internet this is a good book to have',\n",
              " 'i got this book on amazon and it ended up saving me a lot of money  It was in great condition and has been extremely useful to me',\n",
              " 'I was very happy with this purchase because the shipment was super fast  Thanks',\n",
              " 'Recieved in a timely manner book in great condition Some markings but ledgible Will be ordering again from this site for my school books saved over 200']"
            ]
          },
          "metadata": {},
          "execution_count": 20
        }
      ],
      "source": [
        "cleanedReviews[1:10]"
      ]
    },
    {
      "cell_type": "markdown",
      "metadata": {
        "id": "7Z_oGeTXai2t"
      },
      "source": [
        "## Removing Apostrophe"
      ]
    },
    {
      "cell_type": "code",
      "execution_count": 21,
      "metadata": {
        "id": "fbICGnlSao56"
      },
      "outputs": [],
      "source": [
        "noApoReviews = []"
      ]
    },
    {
      "cell_type": "code",
      "execution_count": 22,
      "metadata": {
        "id": "AHdsk3N0ZwAD"
      },
      "outputs": [],
      "source": [
        "for review in cleanedReviews:\n",
        "  #removing apostrophe\n",
        "  # tweet = re.sub(\"'\", \"\", tweet)\n",
        "\n",
        "  #expanding\n",
        "  review = re.sub(r\"\\b([T|t])here's\\b\", r\"\\1here is\", review) #there's\n",
        "  review = re.sub(r\"\\b([I|i])sn't\\b\", r\"\\1s not\", review) #isn't\n",
        "  review = re.sub(r\"\\b([I|i])t's\\b\", r\"\\1t is\", review) #it's\n",
        "  review = re.sub(r\"\\b([I|i])'m\\b\", r\"\\1 am\", review) # i'm\n",
        "  review = re.sub(r\"\\b([Y|y])ou're\\b\", r\"\\1ou are\", review) # you're\n",
        "\n",
        "  noApoReviews.append(review)"
      ]
    },
    {
      "cell_type": "code",
      "execution_count": 23,
      "metadata": {
        "colab": {
          "base_uri": "https://localhost:8080/"
        },
        "id": "v68Gb0_ea7cx",
        "outputId": "bd5292cf-b318-4734-e93e-d900aad19b9e"
      },
      "outputs": [
        {
          "output_type": "execute_result",
          "data": {
            "text/plain": [
              "['I am really enjoying this book with the worksheets that make you review your goals what to do when you do not make it it reminds me  of my human sexuality classwork',\n",
              " 'IF YOU ARE TAKING THIS CLASS DONT WASTE YOUR MONEY ON THIS SO CALLED BOOK 14000 FOR A BOOK THAT ISINT EVEN BOUND LOOSE LEAFS THAT I HAD TO PROVIDE MY OWN BINDER FOR TURNS OUT YOU CAN BUY ACCESS TO THE BOOK AT MCGRAW HILL CONNECT CORE FOR 7000  THIS BOOK IS A COMPLETE WASTE OF MONEY',\n",
              " 'This book was missing pages Important pages I couldnt answer some test questions because of it I have never had this happen before',\n",
              " 'I have used LearnSmart and can officially say that this is an amazing study tool that quickly and simply adapts to your style of learning You can access it at anytime and it is on the go Once you start using LearnSmart you will quickly realize that this is the best way to learn and study  I am a business student and I did not use LearnSmart for my Accounting I class however I did use it for my Accounting II class The grade difference from Accounting I to Accounting II was a whole letter grade thanks to LearnSmart  Every college student should definitely check it out',\n",
              " 'Strong backgroung good read quite up to date It takes a holistic approach to the subject Lack of references is a bit surprising Jorge',\n",
              " 'If you live on Mars and never heard of the internet this is a good book to have',\n",
              " 'i got this book on amazon and it ended up saving me a lot of money  It was in great condition and has been extremely useful to me',\n",
              " 'I was very happy with this purchase because the shipment was super fast  Thanks',\n",
              " 'Recieved in a timely manner book in great condition Some markings but ledgible Will be ordering again from this site for my school books saved over 200']"
            ]
          },
          "metadata": {},
          "execution_count": 23
        }
      ],
      "source": [
        "noApoReviews[1:10]"
      ]
    },
    {
      "cell_type": "markdown",
      "metadata": {
        "id": "pUAKh4fifoyj"
      },
      "source": [
        "## Converting texts to lowercase"
      ]
    },
    {
      "cell_type": "code",
      "execution_count": 39,
      "metadata": {
        "id": "_mrhGNFYa-ob"
      },
      "outputs": [],
      "source": [
        "lReviews = []"
      ]
    },
    {
      "cell_type": "code",
      "execution_count": 40,
      "metadata": {
        "id": "32IvJGDegBs0"
      },
      "outputs": [],
      "source": [
        "for review in noApoReviews:\n",
        "    lReview = review.lower()\n",
        "    lReviews.append(lReview)"
      ]
    },
    {
      "cell_type": "code",
      "execution_count": 41,
      "metadata": {
        "colab": {
          "base_uri": "https://localhost:8080/"
        },
        "id": "BnaRWHf7gbUt",
        "outputId": "4d276233-a1fa-444a-abe5-a63c8e38afaf"
      },
      "outputs": [
        {
          "output_type": "execute_result",
          "data": {
            "text/plain": [
              "['i am really enjoying this book with the worksheets that make you review your goals what to do when you do not make it it reminds me  of my human sexuality classwork',\n",
              " 'if you are taking this class dont waste your money on this so called book 14000 for a book that isint even bound loose leafs that i had to provide my own binder for turns out you can buy access to the book at mcgraw hill connect core for 7000  this book is a complete waste of money',\n",
              " 'this book was missing pages important pages i couldnt answer some test questions because of it i have never had this happen before',\n",
              " 'i have used learnsmart and can officially say that this is an amazing study tool that quickly and simply adapts to your style of learning you can access it at anytime and it is on the go once you start using learnsmart you will quickly realize that this is the best way to learn and study  i am a business student and i did not use learnsmart for my accounting i class however i did use it for my accounting ii class the grade difference from accounting i to accounting ii was a whole letter grade thanks to learnsmart  every college student should definitely check it out',\n",
              " 'strong backgroung good read quite up to date it takes a holistic approach to the subject lack of references is a bit surprising jorge',\n",
              " 'if you live on mars and never heard of the internet this is a good book to have',\n",
              " 'i got this book on amazon and it ended up saving me a lot of money  it was in great condition and has been extremely useful to me',\n",
              " 'i was very happy with this purchase because the shipment was super fast  thanks',\n",
              " 'recieved in a timely manner book in great condition some markings but ledgible will be ordering again from this site for my school books saved over 200']"
            ]
          },
          "metadata": {},
          "execution_count": 41
        }
      ],
      "source": [
        "lReviews[1:10]"
      ]
    },
    {
      "cell_type": "markdown",
      "source": [
        "## Removing StopWords"
      ],
      "metadata": {
        "id": "JcVc6k-QWLQ5"
      }
    },
    {
      "cell_type": "code",
      "source": [
        "noStopReviews = []"
      ],
      "metadata": {
        "id": "TdWWfgYbXOSA"
      },
      "execution_count": 50,
      "outputs": []
    },
    {
      "cell_type": "code",
      "execution_count": 51,
      "metadata": {
        "id": "332hbpOfkWxO"
      },
      "outputs": [],
      "source": [
        "stop = stopwords.words('english')"
      ]
    },
    {
      "cell_type": "code",
      "source": [
        "for review in lReviews:\n",
        "    # Tokenizing\n",
        "    tokens = nltk.tokenize.word_tokenize(review)\n",
        "\n",
        "    #new list to store the sentence without stopwords\n",
        "    newReview = []\n",
        "    for word in tokens:\n",
        "        if word not in stop:\n",
        "            newReview.append(word)\n",
        "\n",
        "    # Converting list to a string\n",
        "    noStopReview = \" \".join(newReview)\n",
        "    noStopReviews.append(noStopReview)"
      ],
      "metadata": {
        "id": "_E3knubIWOq8"
      },
      "execution_count": 52,
      "outputs": []
    },
    {
      "cell_type": "code",
      "source": [
        "noStopReviews[1:10]"
      ],
      "metadata": {
        "colab": {
          "base_uri": "https://localhost:8080/"
        },
        "id": "KcBjE_4FXRg6",
        "outputId": "d4103021-8777-4ee6-e66c-b7fb6cf7b89e"
      },
      "execution_count": 53,
      "outputs": [
        {
          "output_type": "execute_result",
          "data": {
            "text/plain": [
              "['really enjoying book worksheets make review goals make reminds human sexuality classwork',\n",
              " 'taking class dont waste money called book 14000 book isint even bound loose leafs provide binder turns buy access book mcgraw hill connect core 7000 book complete waste money',\n",
              " 'book missing pages important pages couldnt answer test questions never happen',\n",
              " 'used learnsmart officially say amazing study tool quickly simply adapts style learning access anytime go start using learnsmart quickly realize best way learn study business student use learnsmart accounting class however use accounting ii class grade difference accounting accounting ii whole letter grade thanks learnsmart every college student definitely check',\n",
              " 'strong backgroung good read quite date takes holistic approach subject lack references bit surprising jorge',\n",
              " 'live mars never heard internet good book',\n",
              " 'got book amazon ended saving lot money great condition extremely useful',\n",
              " 'happy purchase shipment super fast thanks',\n",
              " 'recieved timely manner book great condition markings ledgible ordering site school books saved 200']"
            ]
          },
          "metadata": {},
          "execution_count": 53
        }
      ]
    },
    {
      "cell_type": "markdown",
      "source": [
        "## Calculating the polarity for Sentiment Analysis of the reviews"
      ],
      "metadata": {
        "id": "ASsnLw8aRVFz"
      }
    },
    {
      "cell_type": "code",
      "execution_count": 66,
      "metadata": {
        "id": "VT71reaJ7-bt"
      },
      "outputs": [],
      "source": [
        "def polarity(review):\n",
        "  tokens = nltk.tokenize.word_tokenize(review)\n",
        "\n",
        "  pos_score = 0\n",
        "  neg_score = 0\n",
        "  obj_score = 0\n",
        "\n",
        "  #score for each token\n",
        "  for token in tokens:\n",
        "    synsets = list(swn.senti_synsets(token))\n",
        "\n",
        "    if synsets:\n",
        "      synset = synsets[0]\n",
        "      pos_score += synset.pos_score()\n",
        "      neg_score += synset.neg_score()\n",
        "      obj_score += synset.obj_score()\n",
        "    #if the word is not present in sentiwordnet\n",
        "    #then assigning 0 scores\n",
        "    else:\n",
        "      pos_score += 0.0\n",
        "      neg_score += 0.0\n",
        "\n",
        "  return pos_score, neg_score, obj_score"
      ]
    },
    {
      "cell_type": "code",
      "execution_count": 68,
      "metadata": {
        "id": "gL3tBypCjptU"
      },
      "outputs": [],
      "source": [
        "polarityList = []"
      ]
    },
    {
      "cell_type": "markdown",
      "source": [
        "### Here, processing 100 reviews for faster processing; full data [490,000] took 7.5 hours to complete processing"
      ],
      "metadata": {
        "id": "HM3iYaX1RkRZ"
      }
    },
    {
      "cell_type": "code",
      "execution_count": 69,
      "metadata": {
        "id": "Yn-t0wi6juE5"
      },
      "outputs": [],
      "source": [
        "for review in noStopReviews[:100]:\n",
        "  pos_score, neg_score, obj_score = polarity(review)\n",
        "  polarityList.append((pos_score, neg_score, obj_score))"
      ]
    },
    {
      "cell_type": "code",
      "execution_count": 70,
      "metadata": {
        "id": "eYoA1sIWkIPm",
        "colab": {
          "base_uri": "https://localhost:8080/"
        },
        "outputId": "8144dcfa-3e29-4ffb-f6f7-2e56841cb6be"
      },
      "outputs": [
        {
          "output_type": "stream",
          "name": "stdout",
          "text": [
            "Review: The materials arrived early and were in excellent condition.  However for the money spent they really should've come with a binder and not just loose leaf.\n",
            "Positive score: 2.25\n",
            "Negative score: 0.5\n",
            "Objective score: 10.25\n",
            "SENTIMENT OF A REVIEW IS POSITIVE.\n",
            "\n",
            "Review: I am really enjoying this book with the worksheets that make you review your goals, what to do when you do not make it, it reminds me  of my human sexuality classwork.\n",
            "Positive score: 2.125\n",
            "Negative score: 0.0\n",
            "Objective score: 9.875\n",
            "SENTIMENT OF A REVIEW IS POSITIVE.\n",
            "\n",
            "Review: IF YOU ARE TAKING THIS CLASS DON\"T WASTE YOUR MONEY ON THIS SO CALLED BOOK! $140.00 FOR A \"BOOK\" THAT ISIN'T EVEN BOUND LOOSE LEAFS, THAT I HAD TO PROVIDE MY OWN BINDER FOR. TURNS OUT YOU CAN BUY ACCESS TO THE BOOK AT MCGRAW HILL CONNECT CORE FOR $70.00\n",
            "\n",
            "THIS BOOK IS A COMPLETE WASTE OF MONEY!\n",
            "Positive score: 1.375\n",
            "Negative score: 0.0\n",
            "Objective score: 23.625\n",
            "SENTIMENT OF A REVIEW IS POSITIVE.\n",
            "\n",
            "Review: This book was missing pages!!! Important pages. I couldn't answer some test questions because of it!! I have never had this happen before.\n",
            "Positive score: 1.125\n",
            "Negative score: 1.125\n",
            "Objective score: 7.75\n",
            "SENTIMENT OF A REVIEW IS NEUTRAL.\n",
            "\n",
            "Review: I have used LearnSmart and can officially say that this is an amazing study tool that quickly and simply adapts to your style of learning. You can access it at anytime and it is on the go! Once you start using LearnSmart you will quickly realize that this is the best way to learn and study.\n",
            "\n",
            "I am a business student and I did not use LearnSmart for my Accounting I class, however, I did use it for my Accounting II class. The grade difference from Accounting I to Accounting II was a whole letter grade... thanks to LearnSmart!\n",
            "\n",
            "Every college student should definitely check it out!\n",
            "Positive score: 2.0\n",
            "Negative score: 1.625\n",
            "Objective score: 41.375\n",
            "SENTIMENT OF A REVIEW IS POSITIVE.\n",
            "\n",
            "Review: Strong backgroung, good read, quite up to date. It takes a holistic approach to the subject. Lack of references is a bit surprising.\n",
            "Jorge\n",
            "Positive score: 1.625\n",
            "Negative score: 0.875\n",
            "Objective score: 10.5\n",
            "SENTIMENT OF A REVIEW IS POSITIVE.\n",
            "\n",
            "Review: If you live on Mars and never heard of the internet, this is a good book to have.\n",
            "Positive score: 0.5\n",
            "Negative score: 0.625\n",
            "Objective score: 5.875\n",
            "SENTIMENT OF A REVIEW IS NEGATIVE.\n",
            "\n",
            "Review: i got this book on amazon and it ended up saving me a lot of money.  It was in great condition and has been extremely useful to me.\n",
            "Positive score: 0.875\n",
            "Negative score: 0.0\n",
            "Objective score: 10.125\n",
            "SENTIMENT OF A REVIEW IS POSITIVE.\n",
            "\n",
            "Review: I was very happy with this purchase because the shipment was super fast.  Thanks\n",
            "Positive score: 1.0\n",
            "Negative score: 0.0\n",
            "Objective score: 5.0\n",
            "SENTIMENT OF A REVIEW IS POSITIVE.\n",
            "\n",
            "Review: Recieved in a timely manner- book in great condition. Some markings- but ledgible. Will be ordering again from this site for my school books- saved over $200.\n",
            "Positive score: 0.625\n",
            "Negative score: 0.0\n",
            "Objective score: 11.375\n",
            "SENTIMENT OF A REVIEW IS POSITIVE.\n",
            "\n",
            "Review: Maybe it's just me (I have no marketing background but desperately want to learn for my start-up) but I cannot get hardly anything out of this text. I have tried very hard to tread through the writing and learn something useful but chapter after chapter seems to be the exact same thing... overly wordy, rambling & unnecessarily academic writing with no comprehensible message behind it, no strategies I can apply to my own business and no organization that I can make sense of. Feels almost like I'm reading a paper a college student BSed their way through with a whole bunch of long words and cryptic sentences in order to sound impressive. What a rip-off. I paid $70 for this and it has been the most useless book I've paid for in my research process (and I've read 16 other books thus far to help me with my venture).\n",
            "\n",
            "The only reason I'm giving this two stars and not one star is that out of the first six chapters I've read, two of them actually made sense. One was on International Marketing and did a very good job explaining the technology limitations of other countries and the ways foreign citizens adapt to this and use technology. This is actually very helpful information and I'm going to use it. The second was on the legal and ethical aspects of using the internet. It gave an extremely concise explanation with lots of info and it was easily understandable. Unfortunately, I've read a chapter like this over and over and over again in pretty much every e-business book I've picked up so far so it's getting old.\n",
            "Positive score: 10.0\n",
            "Negative score: 4.625\n",
            "Objective score: 112.375\n",
            "SENTIMENT OF A REVIEW IS POSITIVE.\n",
            "\n",
            "Review: This was the textbook that I used for my E-Commerce course. I was able to understand it and to stay focused while I read it.\n",
            "Positive score: 0.875\n",
            "Negative score: 0.0\n",
            "Objective score: 7.125\n",
            "SENTIMENT OF A REVIEW IS POSITIVE.\n",
            "\n",
            "Review: Not worth the price. Most of the concepts are pretty superficial. The authors are also a little behind on the times.\n",
            "Positive score: 1.375\n",
            "Negative score: 0.875\n",
            "Objective score: 7.75\n",
            "SENTIMENT OF A REVIEW IS POSITIVE.\n",
            "\n",
            "Review: This book served as the textbook for the first of a 3-course series on internet marketing for my MBA course.  While it was acceptable as a textbook - a broad survey of E-commerce for academic use - it would not be worth the considerable cost for someone who did not need it for a course.\n",
            "\n",
            "For an academic course, the book serves as a base by providing definitions and explanations for a broad range of topics.  In my course, the book was used to introduce a number of topics that were discussed in further detail during class discussions, and it was supplemented by case studies, videos, and articles with more depth.  A non-academic reader would not have those enrichment elements available, thus would likely find the book less useful.\n",
            "\n",
            "The book does not explain how to do anything (set up an online store, write a blog article, configure analytics, etc.).  It is a decent text for someone looking for a broad view of e-commerce with emphasis on defining terms and covering the big picture.\n",
            "\n",
            "I do not recommend this book for anything other than a required course text.\n",
            "Positive score: 5.25\n",
            "Negative score: 2.125\n",
            "Objective score: 76.625\n",
            "SENTIMENT OF A REVIEW IS POSITIVE.\n",
            "\n",
            "Review: I love how this book is structurated and the fact that it contains details graphics so the newbie cannot be lost at any minute.\n",
            "\n",
            "Also, it has a pretty amazing list of sites and webmaster tools, which makes this book \"a must\" on everybodys Internet marketers shelf :)\n",
            "Positive score: 2.5\n",
            "Negative score: 0.5\n",
            "Objective score: 19.0\n",
            "SENTIMENT OF A REVIEW IS POSITIVE.\n",
            "\n",
            "Review: Great on the delivery...doing my assignments as I write.  The shipping charge was a little pricy, but the book was in great condition (and did not smell like smoke...as other books I had purchased).  Thank you.\n",
            "Positive score: 0.625\n",
            "Negative score: 0.25\n",
            "Objective score: 14.125\n",
            "SENTIMENT OF A REVIEW IS POSITIVE.\n",
            "\n",
            "Review: The book was delivered faster then I had been told and was in great condition. This book is a required text for my college class and is well written.\n",
            "Positive score: 0.25\n",
            "Negative score: 0.25\n",
            "Objective score: 12.5\n",
            "SENTIMENT OF A REVIEW IS NEUTRAL.\n",
            "\n",
            "Review: Required to buy this book for Marketing 3721 class and we rarely used it. Even when we did, I felt the text was out dated and not very informational.\n",
            "Positive score: 0.875\n",
            "Negative score: 0.375\n",
            "Objective score: 10.75\n",
            "SENTIMENT OF A REVIEW IS POSITIVE.\n",
            "\n",
            "Review: Didn't help me much in my course.  I didn't learn much from it.  Had to look information on web to pass my course.\n",
            "Positive score: 1.0\n",
            "Negative score: 0.25\n",
            "Objective score: 8.75\n",
            "SENTIMENT OF A REVIEW IS POSITIVE.\n",
            "\n",
            "Review: Disappointing textbook. To start, the lack of color is dismal, but of less importance. However, from a MARKETING book, I expected it to be a little more eye-grabbing.\n",
            "More importantly this book regularly cites wikipedia as a source, and I caught at least two examples of incorrect information when discussing how companies fit certain profiles. In one example it states that Kit Kat is a Nestle brand when it is produced by Hershey's. It also uses companies as examples that have long since been bought out by other companies. While neither of these two items errodes the core idea of marketing, they were just easily spotted. It makes it difficult to trust the core information when something so simple as a little research could correct these errors. Along with the wikipedia citing, I don't know that I would trust this source as 'authoritive'\n",
            "Positive score: 4.125\n",
            "Negative score: 6.5\n",
            "Objective score: 57.375\n",
            "SENTIMENT OF A REVIEW IS NEGATIVE.\n",
            "\n",
            "Review: This book provides me many useful knowledge about E-marketing, from the most basic steps. So I really enjoy to read!\n",
            "Positive score: 1.25\n",
            "Negative score: 0.0\n",
            "Objective score: 8.75\n",
            "SENTIMENT OF A REVIEW IS POSITIVE.\n",
            "\n",
            "Review: I've been using Dreamweaver (and it's predecessor Macromedia's UltraDev) for many years.  For someone who is an experienced web designer, this course is a high-level review of the CS5 version of Dreamweaver, but it doesn't go into a great enough level of detail to find it very useful.\n",
            "\n",
            "On the other hand, this is a great tool for someone who is a relative novice at web design.  It starts off with a basic overview of HTML and continues through the concepts necessary to build a modern web site.  Someone who goes through this course should exit with enough knowledge to create something that does what you want it do do...within reason.  Don't expect to go off and build an entire e-commerce system with only this class under your belt.\n",
            "\n",
            "It's important to note that there's a long gap from site design to actual implementation.  This course teaches you how to implement a design.  The user interface and overall user experience is a different subject that isn't covered here...it's possible to do a great implementation of an absolutely abysmal design.  I speak from experience.  :)\n",
            "\n",
            "As I said above, if you're a novice, a relative newcomer or just an experienced web designer who wants a refresher course, this is a good way to do it.\n",
            "Positive score: 6.0\n",
            "Negative score: 2.5\n",
            "Objective score: 85.5\n",
            "SENTIMENT OF A REVIEW IS POSITIVE.\n",
            "\n",
            "Review: The demo is done with the PC version, with references to the Mac version when needed. The video is closed-captioned. You can set bookmarks. There are self-tests for each chapter as well.\n",
            "\n",
            "Starts off with \"what is HTML\" and some other basic stuff. Includes topics such as: Planning your Website; Defining a site in DW; Creating a new web page; Adding Text; Formatting with CSS; Images and rich media; Links; Page layout w/ CSS; Tables; Forms; Reusable Content; Testing; etc. Each section has sub-sections with their own video, and some have sub-sub-sections to flesh out the material, such as the one regarding project management, or CSS, which includes discussion of CSS for print. It is not, however, a tutorial on \"the best way to lay out a site using CSS\" or anything like that. For that, you'll need a book or two on that subject.\n",
            "\n",
            "She has a site that has some helpful resources, e.g. checklists for project management and site development, and helpful URLs. All in all, it's a decent introduction to creating web sites.\n",
            "\n",
            "She sounds weird, though, like a robot (or Stephen Hawking's voicebox) with her halting, clipped delivery. She tends to be slightly chatty and repeat material, but it's not that bad; could be helpful for retention for people new to the subject.\n",
            "\n",
            "UI - at the top of the interface, there's a \"Previous Video\" button and \"Next Video\" button. The \"Next Video\" button is disabled for the last video of each chapter, so to get to the next one you'll have to use other navigation. This is because the last item is the test. Kinda dumb UI choice, initially confusing. They could have changed it to read \"Take Test\" instead of putting up a virtual dead end. There is a sidebar which is normally hidden (you are cued that you can display it when the mouse strays into the video area), which has information on the current video and lists/links to the other videos in the chapter. The title bar (under the top-left tabs) is a dropdown to navigate the content.\n",
            "\n",
            "There's a \"Watch and Work\" mode which shrinks the video display to let you work with your copy of DreamWeaver (not included). You can move the video window around BUT you CANNOT resize it - and it may be kind of tiny to watch in that mode. So if you have a dual monitor setup, you'll want to drag the Standard Mode video player to the other screen; Standard Mode cannot be resized to be smaller, either.\n",
            "\n",
            "All in all, a good value if you want to learn DreamWeaver.\n",
            "Positive score: 7.625\n",
            "Negative score: 3.375\n",
            "Objective score: 193.0\n",
            "SENTIMENT OF A REVIEW IS POSITIVE.\n",
            "\n",
            "Review: If you've been wanting to learn how to create your own website, but have either lacked the confidence or knowledge, this affordable combination book and video course will enable you to learn at your own leisure.  There are more than twelve hours of video training included in this package, most of it split up in the small, absorbable sections.  This courseware is \"Certified Associate,\" approved courseware.  Dreamweaver is the premier product for website creation.  It offers several new advantages/features for the user.  It has improved dynamic applications, new CSS features that offer more control over your design, you can turn individual CSS properties on and off (you can see how they affect your designs), and you can fuse box model elements to troubleshoot directly within Dreamweaver.  If you are confident this DVD/book bundle is for you, you can simply bypass this review or read some shorter versions (this is a very long review).  If not, keep on reading.\n",
            "\n",
            "With this software you'll learn a lot of basics, however, if you are already a web designer or have a lot of experience, you may find a lot of the material to be redundant.  On the other hand, if you are anxious to learn web design, this is the perfect place to start.  Taking a course can cost you a lot of $, but this course is quite affordable ... if you decide it is not for you, then you can hand it along to someone else.  You'll be getting more than twelve hours of video training from \"Adobe Certified Instructors\", a reference book, lesson files, and you can copy certain files to your iPhone, iPod, or iPad.\n",
            "\n",
            "For the hearing impaired the script to the dialogue runs along the bottom as the narrator speaks. You can stop the video at any time to get a closer look at what is being done and/or absorb the material.  At the end of each section is a \"test\" to enable you to know just how you are progressing on each section.\n",
            "\n",
            "If you are in a bookstore you can easily pick up a copy and glance at the book, but you cannot see what is on the DVD.  I'll try to describe what is on the DVD to the buyer can get a good understanding of what is on there and can decide if Adobe Dreamweaver CS5 is what they need. I've simply listed the few words under the contents and have tried to briefly explain what you'll be learning on the videos.\n",
            "\n",
            "CONTENTS:\n",
            "\n",
            "1) HTML Refresher - This is an excellent section for someone who already knows HTML, but could use a refresher in the form of a \"crash course.\"  You'll find a URL overview, an HTML intro (tags, how some browsers read tags differently, and what Dreamweaver \"does behind the scenes).\n",
            "\n",
            "2) Dreamweaver Introduction - You'll finally be able to learn what WYSIWYG is, you'll be introduced to Dreamweaver Design, Code, and split screens, and the welcome screen.  You'll learn about the Dreamweaver interface, the Workplace Switcher (the software's workplaces, arranging and saving your workspace), how to customize your workspace, setting up our preferences, an dhow to customize the insert bar.\n",
            "\n",
            "3) Getting a Quick Start - You'll learn about several starter layouts you can customize with CSS, how to build a starter layout page, how to create and set up the header area on a homepage, how to add a navigation bar (shows how to customize with CSS), how to use CSS to format your main content, you'll learn how to add links using CSS formatting, how to modify HTML tags and background color using CSS, and how to add a page border.\n",
            "\n",
            "4) Planning Your Website - You'll learn about project management (five videos), site development (two videos), and how to test your site (two videos).  You can opt to play all the videos in each section consecutively.\n",
            "\n",
            "5) Defining a Site in Dreamweaver - You'll learn about defining a site, what the benefits there are to defining, the course setup (copying & storing the files you'll need for your website), defining a site in Dreamweaver, and how to use the files panel.\n",
            "\n",
            "6) Creating a New Web Page - You'll learn how to create a web page by using the Welcome Screen, how to save a web page (considerations needed when naming a page), how to assign a proper title to a web page, and you'll learn what meta tags do and why they are important.\n",
            "\n",
            "7) Adding the Tex Content - You'll learn three ways to add text to your webpage (typing, copying/pasting or importing), how to set up headings, how to create lists for web pages (unordered, ordered, and definition), several ways of highlighting text, and how to insert special characters.\n",
            "\n",
            "8) Formatting Text with CSS - You'll receive an overview of text formatting options with CSS, you'll learn where you can manage and store the styles for you site, how to \"create a .CSS file and link your web pages to it,\" create styles for HTML tags, create class styles, edit styles, you'll learn how to add font styles (custom font stack), you'll learn about styles created by page properties, CSS styles for printing, and how to use the code navigator.\n",
            "\n",
            "9) Images and Rich Media - You'll learn how to pick the right web image, how to choose the file format for your project, the importance of inserting alternate text, inserting images, understanding and creating file paths, you'll learn how to use the assets panel, how to modify images, you'll learn how to work with Photoshop Smart Objects, use Flash Files to enrich your site, use Flash Video (FLV), and will learn how to optimize the use of your favorites panel.\n",
            "\n",
            "10) Creating Links - You'll learn where you can insert hyperlinks, the different kinds of links you can create, how you can link to an Internet resource, how you can create a \"local lin\" for a document within a single site, how to link to a Word or Microsoft Excel file, how to create an anchor link, how to create an email lin (with the recipients address pre-filled), you'll learn about images and image mapping (clickable hotspots), how to create rollover images, and how to insert a navigation bar (Fireworks).\n",
            "\n",
            "11) Page Layout with CSS - You'll learn background information about CSS, how to master the mechanics of CSS page layout, how to understand the box model, how to insert a div tag, how to add different styles to your div tags so CSS can control you page content, you'll learn how to edit CSS style for a div tag, how to insert a div tag (increase your efficiency), options for using div tags, fine tuning your page with different styles, customize your links (make your site attractive and consistent), center your page content, use AP elements, use inspection tools to edit and troubleshoot, you'll learn about the four types of positioning with CSS, and you'll learn how to use CSS selector types and tools.\n",
            "\n",
            "12) Tables - You'll learn how easy it is to create a table, options you can use to modify a table, use CSS for formatting tables (match text to the rest of your website), importing tabular data, merging and splitting table cells, working on rows and columns, and table alignment (border background colors, centering).\n",
            "\n",
            "13) Forms - You'll learn how create a basic for, how to use text fields (common HTML elements), ensure \"user input gets back to you,\" form validation (checkboxes, submit buttons), how to validate forms, and use Spry for from validation (implement Ajax).\n",
            "\n",
            "14) Reusable Content - You'll learn about templates and library items, how to use the library, modify a library item (keeping your pages contemporary), converting HTML to a template, creating additional pages based on your template, controlling and working with \"editable\" regions, template application, and you'll learn how to detach a page from a template.\n",
            "\n",
            "15) Testing - You'll learn how to use the spell-checker, search for a fix broken links, how you can preview your work, how to check browser compatibility, dealing with browser issues, how to allow users to test your site and offer valuable feedback, learn about page loading time an dfile size, and Dreamweaver extensions.\n",
            "\n",
            "16) Publishing and Maintenance - You'll learn how to manage you files, set up your web server to upload and download files directly to the site from Dreamweaver, learn how to expand files, incontext editing (allows non-technical users to edit the web page), Subversion control and integration features.\n",
            "\n",
            "You'll also be treated to four bonus videos.  This was a long review, but hopefully anyone looking for core training in web communication will now know exactly what they will receive when they purchase this program.\n",
            "Positive score: 39.125\n",
            "Negative score: 16.75\n",
            "Objective score: 693.125\n",
            "SENTIMENT OF A REVIEW IS POSITIVE.\n",
            "\n",
            "Review: I've been working with Dreamweaver for a few years now - learning as I go. When I got a chance to request these videos, I thought I'd get a chance to learn Dreamweaver, finally, to maximize its capabilities. And I was totally blown away.\n",
            "\n",
            "The videos are superb. The female voiceover is pleasant and very straightforward; there's no attempt at humor and no attempt to replicate a classroom course. The program uses live action sequences to walk us through specific examples, step by step. I was amazed at how many Dreamweaver features I haven't used, just because I didn't even notice they were there.\n",
            "\n",
            "I am not a web designer but I do know HTML and some CSS. If you don't, I'm not sure the opening video will be enough. It's not like Wordpress where you just dive in.\n",
            "\n",
            "The only negative comment I can offer is that the DVD was really hard to dig out of the box! Grab some scissors before getting started.\n",
            "Positive score: 6.5\n",
            "Negative score: 2.5\n",
            "Objective score: 62.0\n",
            "SENTIMENT OF A REVIEW IS POSITIVE.\n",
            "\n",
            "Review: I've been creating websites with Dreamweaver for years now, and all that experience has taught me one thing - I'm a hack web designer.  Recently I have been trying to learn industry CSS standards and had heard that Dreamweaver has made great advances in CSS management in CS4 and CS5. I'm embarrassed to say what version I am using.\n",
            "\n",
            "When I got a chance to get a reviewer copy of this training set I jumped for two reasons, first I was mulling over spending the money to upgrade to DW CS5 and I second I have always that I was missing out on a lot of DW's capabilities.  It's now obvious that I should upgrade for the CSS management upgrades alone.\n",
            "\n",
            "As for the value of the training - I couldn't be happier.  This is not an advanced tips and tricks resource, nor is it an exhaustive boot camp in web page authoring, but it is a fairly thorough training taking you from site planning and design to creation and publishing.  I watched the videos from beginning to end and they start pretty basic with an HTML refresher then move to the meatier DW specific training.  I can see myself returning to several sections later to brush up.\n",
            "\n",
            "Personally, the CSS, Media, and Forms training videos were enough to justify the price tag.  The training lessons were short and easily digestible.  I liked that it broke training into 3-10 minutes so I had some time to do a little more in-depth googling on subjects like text wrapping on absolute positioned CSS objects (which it won't.) or checking my version of DW.\n",
            "\n",
            "  What this is\n",
            "  - An Adobe Certification Training Aid - so it starts from a very low level introduction and  goes through the entire DW web creation process\n",
            "  - A wonderfully designed interface\n",
            "  - A great overview of using DW\n",
            "\n",
            "What it isn't\n",
            "  - A substitute for spending the time working with DW (but it will jump start a novice)\n",
            "  - An expert tips and tricks reference\n",
            "\n",
            "All in all, I highly recommend this to anyone trying to learn DW or even web design in general. The CSS placement section has been the most enlightening coverage of the topic I have been able to find.  The author's delivery on the videos is great and the interface is the best, most intuitive I have seen. The only bad thing I can say is that the closed captioning is defaulted on, so at times it covered the bottom of the properties table at the bottom of the screen. So sometimes I had to close it to see things the author was pointing out.  But all in all, this is an absolutely wonderful product.\n",
            "Positive score: 14.25\n",
            "Negative score: 4.875\n",
            "Objective score: 182.875\n",
            "SENTIMENT OF A REVIEW IS POSITIVE.\n",
            "\n",
            "Review: I decided (after trying a number of other products) to switch to the gold standard of web site management, Dreamweaver. I bought a few books, did some Lynda courses and still found myself wanting more. This was the perfect product for that \"more\".\n",
            "\n",
            "I think some reviewers are confused about both Dreamweaver and this product - these aren't for \"design\". If you don't already know what you want to do, picking up Dreamweaver is not going to help! The product being reviewed here is how to use Dreamweaver - not how to design for the web. Both expect you already have the design part.\n",
            "\n",
            "I used a pure HTML editor, which for beginners is the best way to go. You'll learn HTML and CSS along with exactly how your code changes your page. DW is more for time savings and automation. That said, it's also massively complex with a steep learning curve. And that's where Learn Adobe Dreamweaver comes in. It very clearly takes you through learning DW so that you can get on with designing web pages.\n",
            "\n",
            "Excellent addition to my library and excellent companion to Dreamweaver itself. The only other thing you might need is one of the large reference books on DW to refer back to if you have questions.\n",
            "Positive score: 6.375\n",
            "Negative score: 2.125\n",
            "Objective score: 80.5\n",
            "SENTIMENT OF A REVIEW IS POSITIVE.\n",
            "\n",
            "Review: The video is well-paced and delivered in an understandable manner.  It allows you to work with the software while watching and following the directions of instructor Candyce Mairs.  To me, the book is more of a reference guide, something I would access with a specific need or question, because overall I learn better by seeing and doing than by reading.  The video starts with the basics and builds logically.  This is everything you want in a teaching video/book!\n",
            "Positive score: 1.0\n",
            "Negative score: 0.625\n",
            "Objective score: 28.375\n",
            "SENTIMENT OF A REVIEW IS POSITIVE.\n",
            "\n",
            "Review: I've taken classes, read books and did the dummies books but can't seem to learn Dreamweaver well enough to design a web site the way I want. I had really hoped that this dvd video that is \"Adobe Approved\" would have helped, but it fell short. First off I do want to give kudos for the way the software interface is designed. They made it very easy to navigate and find specific contents and general ease. Candyce Mairs, the teacher, gives excellent explanations and speaks clearly and at a good pace. The pace isn't too fast or too slow and I never had to rewind to listen to instructions over and over.\n",
            "\n",
            "The course begins with the absolute basics so this is where it really breaks everything down about Dreamweaver. Being I knew most of the basics, after an hour, skipped some of it because I already knew it. The first problem I have with this training video is that you are taught to design websites from 1990. The look of them is so out dated and old its a waste of time learning it this way because anyone wanting to design a web site would not want one that looks so out dated and blah. When the videos finally get around to showing the \"CSS\" style designing, they show an example of a web site that is current in design and style. Exactly what I was wanting to learn but they don't use it for the training...WHAT? are they joking? They go back to the 1990 styled site that they show you in the beginning of these videos and TRY to update and revamp it into CSS. I wanted to focus on the CSS portion because for my needs, this is the missing info that has held me back on finally learning and make a modern web site using Dreamweaver.\n",
            "\n",
            "The sample that they should have used to teach the CSS had many bells and whistles like when you scroll thru the site the background didn't move. The background was a great illustration photo! Then there were great drop down sub nav links that all had different colors, maps, columns, video etc. Again, all the modern bells and whistles. Yes, they do teach many of these features but in the OLD 1990 style, not in the CSS which is a complete different way of putting things into the program. I really wish they used the sample which they showed about how great CSS is. TOTAL BUMMER!!!!\n",
            "\n",
            "I have plenty of experience with web design, i'm no expert but have worked with many programs over the years as well as designed many custom sites that look modern. But unfortunately, I still am on the search to find the info I need to use Dreamweaver the way I want.\n",
            "Positive score: 14.375\n",
            "Negative score: 5.875\n",
            "Objective score: 191.75\n",
            "SENTIMENT OF A REVIEW IS POSITIVE.\n",
            "\n",
            "Review: Candyce Mairs' offering is not only excellent, it is \"distintive.\"  Her presentational style is perfectly paced, and always directly to the point at hand.  I learned so much about Adobe's new version of Dreamweaver (CS5), that I cannot begin to explain.  Of particular note are the \"assets\" (Dreamweaver and related files) which are included on the DVD, making personal practice of the skills learned a snap.  For those new to web design, Candyce covers many foundational skills (such as HTML and CSS), along with Dreamweaver-specific functionality.  I would give this title six (6) stars, if I could.  In addition to thanking Candyce Mairs, I also applaud the folks at Video2Brain.  Great pedagogical tools!  Thank you to all who facilitated my learning of the CS5 in a \"ramped up\" fashion.\n",
            "Dennis Woodhall, M.I.S., Woodhall Web Design and Hosting.\n",
            "Positive score: 5.75\n",
            "Negative score: 0.25\n",
            "Objective score: 56.0\n",
            "SENTIMENT OF A REVIEW IS POSITIVE.\n",
            "\n",
            "Review: I spent several hours on the lesson and I love it.\n",
            "It is very detailed and very clear.\n",
            "The instructions with the graph and the audio and the video playback is very nice.\n",
            "You can cut or repeat any lesson you need and come back and review at your convenience.\n",
            "The lesson starts with very fundamental knowledge of what an URL is and allow the students to know what is the source code, the layout and how to use the tools and maneuver in the Dreamweaver app.\n",
            "It is an excellent tool to have.\n",
            "Most of us uses some of the tools but not all of the tools.  Some I don't even know the function was there.\n",
            "It is nice to have a teacher like this I can go to easily without calling expensive tech support.\n",
            "Highly recommend this teaching series.\n",
            "Positive score: 5.375\n",
            "Negative score: 0.75\n",
            "Objective score: 50.875\n",
            "SENTIMENT OF A REVIEW IS POSITIVE.\n",
            "\n",
            "Review: I'm about 3/4 through this course.  I have been using Dreamweaver for about 10 years but find it's good to take a course now and then to learn more about the program.  I mostly learned by myself so it's good to learn things I wasn't aware of.\n",
            "\n",
            "I find the instructors voice pleasant and thorough although I thought it took way too long to get down to business.  I didn't really feel like I was learning or doing anything until well into the lessons.  She also seemed to wander off course to much for my liking.\n",
            "\n",
            "I also found that she didn't prep me well enough for each lesson by telling me what files I needed and setting up Dreamweaver for each lesson.  I was frequently going to the DVD's Assets folder to get files that were missing from the lessons.  Luckily I have been using Dreamweaver long enough to know how to troubleshoot and find the missing parts.  But I wonder if a beginner would get confused and not know what to do without careful lesson setup.\n",
            "\n",
            "And I could swear there were a few mistakes on the lesson's end in the quiz answers at the end of each lesson.  Some questions were confusing.\n",
            "\n",
            "All in all this is great way to learn visually.  Much better than a book in my opinion.  But I would ask for a good deal more attention in not leaving the student in the dark at times.\n",
            "Positive score: 12.875\n",
            "Negative score: 4.625\n",
            "Objective score: 85.5\n",
            "SENTIMENT OF A REVIEW IS POSITIVE.\n",
            "\n",
            "Review: This is my honest review of the Adobe Dreamweaver Learn by Video.  The DVD comes in a standard plastic disc holder in a cardboard box, which is part of the whole box package.  It DOES NOT come with Dreamweaver CS5.\n",
            "\n",
            "I thought it was a standard video DVD.  It is in fact a program that has to be executed (without installing anything on your computer.)  I am running it on a PC workstation.  My antivirus/spyware programs have not gone off yet, so there does not seem to be any malware associated with it.\n",
            "\n",
            "The video contains over 12 hours of video instruction, and is accompanied by a printed guide book to teach the fundamentals of Adobe Dreamweaver CS5.  It also goes through some basic principles and fundamentals of web design.  The presenter (Candyce Mairs) is a clear and eloquent speaker, and is an Adobe Certified Instructor.  The video runs in the middle of the window, and you can select to have the sidebar available or hidden.\n",
            "\n",
            "First few chapters are very basic.  It is intended for those who have little or no background/experience with the terminology, such as \"URL\" and \"domain name.\"  Yeah, it's goes to the fundamentals.  I like the subtitle at the bottom of the video.  The first few chapters are so basic that I actually started writing this review while I the video is running on the other monitor (I have a dual-monitor setup).  The first chapter is dedicated to HTML fundamentals and also acts as a refresher for those who have the experience.  The second chapter is an introduction to what Dreamweaver is and what it can do.  Chapter 3 is a \"Quick Start\" chapter that gets the user setup with putting together a homepage (basic starter layouts, building the homepage, creating header area, etc.).  There are some tests at the end of each chapter to help reinforce what you've learned.\n",
            "\n",
            "What I liked:\n",
            "-This is a book designed for beginners.  As such, the first few chapters will be mostly overview and fundamentals.\n",
            "-The DVD comes with a guide book.  It helps with the video, and it can be brought around so you can read it without the video.\n",
            "-The course layout is logical, and therefore it makes sense.  I've seen so many poorly designed guides that jump all over the place, and this video guide is not one of these.\n",
            "-Having the a \"video\" of what the speaker is talking about really helps.  You can follow what the screen should look like.\n",
            "-The caption at the bottom of the video.  This was such a major positive.  A+++\n",
            "\n",
            "What I did not like:\n",
            "-The startup was not as straightforward as I expected.  Again, no big deal, but I can see how this could be a problem for those who do not know how to enable autostart, or those whose antivirus prevents the startup of an .exe file.\n",
            "-The DVD could have came with the trial version of Dreamweaver.  No big deal if you have a fast internet connection, but I know a few people who are stuck with a slow DSL speed.\n",
            "\n",
            "In the end, you'll be familiar with the program's interface, and hopfully you will learn how to use the essential commands and tools to create and design websites.  It also identifies some areas that are typically and easily overlooked.\n",
            "\n",
            "The book (printed guide) is glued onto the packaging with those sticky gel dots.  Though it can be separated from the box, it was not immediately obvious and I ended up carrying the entire package with me.  I wish the book was kept separated or maybe in a pocket.  No big deal.\n",
            "\n",
            "Overall, it is a nice beginner's guide to becoming familiar with and using Adobe Dreamweaver CS5.  Highly recommended.\n",
            "Positive score: 14.125\n",
            "Negative score: 3.75\n",
            "Objective score: 246.125\n",
            "SENTIMENT OF A REVIEW IS POSITIVE.\n",
            "\n",
            "Review: I have had Dreamweaver MX2004 since it came out back then. Spent years with it. Feel like I know it real well, but I am still familiar with tables as opposed to CSS. So I thought this would be a great introduction, and it is. The problem is that while I am looking at the video, and that simplifies things a lot, I am not getting the intuitive explanation as to why things work the way they do. I understand just knowing how to work them is sufficient. I'm tempted to delve into the rich full attributes of Dreamweaver CS5 as explained by this video, albeit difficult to understand the more advanced features, but I won't because this is about the video.\n",
            "\n",
            "The opening salvo is chock full of... for example, this is the URL; this is where you type in the address bar etc. Only when you start to get into areas such as CSS do you get an introduction that for me is beneficial, and that is only because I am somewhat of a newbie to it. So there you have it, do you get an advanced lesson that flies through things and most find it hard to understand, or do you get this one and appreciate the fact that she walks you through everything step by step, even at the risk of boring the more in the know people, but finally arriving at the section you need to learn, and then appreciate that she is not moving at lightning speed.\n",
            "\n",
            "I'm holding off buying Dreamweaver CS5, although I got the upgrade to Photoshop CS5 and love it, because my MX2004 is not an eligible upgrade version. If I could qualify for the upgrade I would grab it, but the learning curve of CSS, and the steep price for the full version when I have MX2004 already is giving me some hesitation. If I was to upgrade, or should I say take the leap to the full version, this tutorial is the one I would use, and I also recommend the&nbsp;<a data-hook=\"product-link-linked\" class=\"a-link-normal\" href=\"/Adobe-Dreamweaver-CS5-on-Demand/dp/0789744449/ref=cm_cr_arp_d_rvw_txt?ie=UTF8\">Adobe Dreamweaver CS5 on Demand</a>&nbsp;which makes a very good reference guide.\n",
            "At some point I will get the new version of CS5 Dreamweaver, and at that point I will do the entire video series, and have a much more in depth analysis of it. But from what I can see after viewing a bunch of the video tutorials, it is the easiest way to indoctrinate you to the newest version. So I recommend it.\n",
            "Positive score: 9.875\n",
            "Negative score: 4.5\n",
            "Objective score: 136.625\n",
            "SENTIMENT OF A REVIEW IS POSITIVE.\n",
            "\n",
            "Review: Summary: EXTREMELY slow pace, awful stilted narration, redundant lessons and completely unprofessional page designs (imagine a mySpace page designed by a 13-year-old). HOWEVER, if you are a complete novice then this disc will teach you a lot. Just be prepared for a very very slow pace. If you've never designed a web page then this may get you started but it will probably leave you lost after a while, because although she spends a lot of time explaining things almost as elementary as how to use a mouse, she does not cover much of the most basic web design fundamentals you would get in a beginning course at a school. And you will only be shown extremely childish examples of actual visual design and layout of web pages. If you have designed a web page before, then there is probably 30 minutes of material at the end of the course that will be useful, and if you don't mind clawing your eyes out in frustration then you could take the time to watch some of the earlier lessons to learn about the Dreamweaver interface. However, as another reviewer noted, there is not detailed index, so you will spend a lot of time skipping through lessons to find the salient parts. There are many \"lessons\" where all she does is talk about what she is going to teach you in the next lesson, i.e. teaching you nothing.\n",
            "\n",
            "I used to code basic HTML by hand, but never learned CSS, so I wanted to learn it with this tutorial. I expected that to be part of the lessons but obviously not the majority. I also got Dreamweaver a while ago but haven't used it in years. I was patient at first, but then after a few hours of the most basic interface issues being hounded upon over and over again, I started skipping through lessons. And the author doesn't just give detailed lessons on how to use the Dreamweaver interface; she also goes in-depth to describe how to use basic OS functionality. Add to that her awkward, stilted speech and nasal voice (I'm not trying to be mean, but it just isn't professional), and I was pulling my hair out, even when listening to the lessons that I was interested in.\n",
            "\n",
            "Examples:\n",
            "\n",
            "* The bottom 10px of so of the screen in the videos is cut off, so that sometimes the narrator is referring\n",
            "  to something she's doing, but her cursor and what she's clicking on are not visible on the screen. In addition\n",
            "  there is a LARGE \"video2brain\" watermark obscuring some of the vital controls in the bottom right corner of the\n",
            "  screen, once again making it impossible to understand exactly what she is doing in the Dreamweaver interface.\n",
            "\n",
            "* An entire lesson (3:30 min) spent explaining how to create a new folder on your hard drive and change it's name.\n",
            "\n",
            "* Several minutes spent explaining how to open and close palettes and windows in Dreamweaver. (Not rocket science.)\n",
            "\n",
            "* Way too much time spent explaining basic OS/Browser functionality: Save/Save As functions, untitled documents,\n",
            "  naming HTML files, where page titles display on a browser window, how to bookmark sites in a browser and how\n",
            "  browser tabs work. None of this begins to expain how to use Dreamweaver, let alone build a web page.\n",
            "\n",
            "* The history of meta tags, featuring the quote \"It's a meta tag because it has HTML brackets and it says 'meta'.\"\n",
            "\n",
            "* An entire lesson (6.4) explaining how to select, copy and paste text -- elementary OS functionality. Really,\n",
            "  noting to do with Dreamweaver here! I'm not exaggerating. That was the lesson.\n",
            "\n",
            "* 5 minutes spent on making bold or italic text (not an exaggeration). Not via CSS either, just regular \"strong\"\n",
            "  and \"i\" tags, and using the clickable buttons [B] [I] to set them in Dreamweaver.\n",
            "\n",
            "* Time spent explaining how those little triangles on drop-down menus indicate that they are a menu with choices\n",
            "  that can be accessed. Didn't the first Mac television commercial in 1984 already cover that subject in-depth?\n",
            "  Or was that the Minesweeper tutorial?\n",
            "\n",
            "* Time wasted explaining how to select all text. Not something tricky about how to select text and not catch code\n",
            "  characters by mistake, just valuable time spent explaining that you could hit control-A to select all.\n",
            "\n",
            "* Six minutes and thirty seconds spent explaining what the different types of HTML links are. Not HOW to create them.\n",
            "  Not anything about styling them, or using javascript with them, or anything fancy like that. More than SIX MINUTES\n",
            "  explaining that you can have a basic hyperlink or an anchor link, perhaps talking about relative vs. absolute URL paths.\n",
            "\n",
            "* An example of her slow, wordy manner of speech. She adds 20px margin to something. Rather than saying \"that will\n",
            "  now add 20px around all sides of the object,\" instead she says it \"adds 20px to the right...the bottom...the left...\n",
            "  and the top edges.\" Now imagine that statement taking 10 seconds to utter.\n",
            "\n",
            "* The booklet is glued inside the box that the DVD comes in, so it is very inconvenient to reference or read\n",
            "  (bulky and inflexible).\n",
            "\n",
            "This video was quite obviously not scripted. The narrator makes several flubs throughout and laughs about them. She CONSTANTLY repeats herself from one lesson to another, which wouldn't be so bad if it was just a reference to what she taught us in a former lesson, but she invariably re-teaches that lesson again, so that you are begging on your hands and knees to be taught something new, anything! If you want to see an example of the author's web design capacity, take a look at my screen capture added to the product photos, taken from this DVD, where she shows a picture of her personal website which apparently has templates available for download. It absolutely boggles the mind that this woman would be officially Certified by Adobe. And according to her bio on the product page, she is also a \"Certified Internet Webmaster.\" Let's dial the Wayback Machine all the back to 1995 and learn about what kind of responsibility THAT entails.\n",
            "\n",
            "Lessons pertaining to CSS start at 11.2, which is dozens of lessons in. They do have some decent info.\n",
            "\n",
            "Overall, I think you can get better training by either going on YouTube (free! And some good stuff up there for specific issues.), or paying for a month of videos at Lynda.com, which is around half the price and much more professional. This DVD is overpriced and low quality. It does not live up to Adobe's otherwise impeccable standards.\n",
            "Positive score: 30.375\n",
            "Negative score: 24.375\n",
            "Objective score: 447.25\n",
            "SENTIMENT OF A REVIEW IS POSITIVE.\n",
            "\n",
            "Review: For the cost of about $40 and 12 hours of your time, you can pretty effectively learn Adobe's Dreamweaver CS5 at your own pace and location. It is not a DVD that you just pop into a DVD player to sit back and watch passively on TV. In fact, this DVD is only playable on the computer, because it requires you to use the mouse to select many of its options.  It's interactive and allows you to go to any and section as needed. At the end of each chapter, there is a test that you can take to see how well you have been learning.\n",
            "\n",
            "There are 17 chapters and each chapter is divided into various sections. In the Training Content screen, which is the home screen when you play the DVD, each chapter and section has its heading clearly spelled out, so that you know where to go when you are looking for a particular video. It's the sections that you can click to play; the chapters are just \"folder names\" for organization purposes. Each section can vary from less than 3 minutes to more than 13 minutes long, depending on the complexity of the topic discussed. You can pause the video at any time, and there is captioning at the bottom of the screen to enhance your learning experience. The sub-titling is also valuable for non-English learners to help them understand what was spoken.\n",
            "\n",
            "If you are a beginner, the best way to learn this program is to start from chapter 1, section 1 and proceed in order to the last chaper, because this video starts with the basics and progresses to more and more complex topics.\n",
            "\n",
            "Compared to classroom instruction, I prefer using this Learn by Video DVD because it is very well produced with the instructor speaking clearly and the contents well organized. You can learn at your pace, always go back to review any section, and there is no way you can take a classroom instruction course for $40.\n",
            "Positive score: 9.0\n",
            "Negative score: 3.375\n",
            "Objective score: 136.625\n",
            "SENTIMENT OF A REVIEW IS POSITIVE.\n",
            "\n",
            "Review: As a print designer and Adobe CS user, I was most humbled by how different Dreamweaver is from my tools of choice, InDesign, Illustrator and Photoshop. This summer, when I had to learn Dreamweaver on the fly, I relied upon web forums and a nearly useless Dreamweaver book to get by. Now that I've completed one project, I'm finally ready and motived to learn after years of resistance. Enter Learn Adobe: Dreamweaver CS5 by Video at just the right time.\n",
            "\n",
            "With more than 12 hours of video training and a full-color 120-page guide I can finally comprehend the basic principles of web design. The course covers an HTML refresher, good preparation for what's to come. I learned how to use the workspace to my advantage, how to add text, images and incorporate rich media and finally learned the proper way to use tables and forms. The publishing how-to is the icing on the cake and I can credit the video for my comprehension. It's much like having a private teacher who will patiently wait (when you press \"pause\") until you grasp a concept before moving on. Wish I had it a few months ago, but it'll be invaluable in the future. Recommended.\n",
            "Positive score: 7.625\n",
            "Negative score: 3.25\n",
            "Objective score: 81.125\n",
            "SENTIMENT OF A REVIEW IS POSITIVE.\n",
            "\n",
            "Review: I have also taken a local community college on-line course on DreamWeaver CS5 training. This video in comparison is quite a bit better in terms of the rich contents and course layout. The video has 17 sections covering the key elements of CS5 which allow the user to learn how to create a local web site from scratch and uploading it to the server. Each section is also broken down to several 3-6 minutes sub-sections which is just right in terms of the duration. At the end of each section there is also a test available to make sure you get a good understanding of the materials.\n",
            "\n",
            "There are also some other additional useful features such as real-time caption and bookmarks which allows us to jump to our favorite section easily.\n",
            "\n",
            "All in all, this is a great product for the price.\n",
            "Positive score: 4.125\n",
            "Negative score: 2.5\n",
            "Objective score: 63.375\n",
            "SENTIMENT OF A REVIEW IS POSITIVE.\n",
            "\n",
            "Review: Even though I use Dreamweaver a great deal and own several books on the subject, I found this set very helpful. Candyce Mairs takes you through everything, from opening the program and setting up your desktop to creating a site. The focus is on the software, not on CSS or HTML or web design, so you'll end up with a through understanding of just how the software is designed to work.\n",
            "\n",
            "The videos are brief, with clear screenshots and step by step narration which is subtitled. When occasionally the narrator makes a small error (\"Fireworks\" for \"Firefox,\" say), the subtitles correct it. The pace is slow but focused and always on task -- no rambling or making and fixing errors on screen.\n",
            "\n",
            "Since each video looks at just one issue, it's very easy to find your way back if you feel confused. I like the \"Watch and work\" option, too, which lets you keep the video running in the corner of your screen so that you can work along with the video.\n",
            "\n",
            "New features of CS5 are pointed out in detail, not only in the video training but in the accompanying booklet, which also has tables of keyboard shortcuts, a glossary, and lots of example code.\n",
            "\n",
            "If you're upgrading and want to master the new features immediately or if you usually hand code and want to get to know all the timesaving features of Dreamweaver, this is exactly what you need. If you're a moderately skilled web designer and would like to increase your skills, improving your ability to use Spry, for example, this is an excellent choice. It's probably not enough for the absolute beginner -- you'll still need to learn HTML and CSS and web design theory, but this is the best I've seen for using Dreamweaver in particular.\n",
            "Positive score: 11.125\n",
            "Negative score: 4.125\n",
            "Objective score: 123.75\n",
            "SENTIMENT OF A REVIEW IS POSITIVE.\n",
            "\n",
            "Review: I waited to complete the entire course before writing this review and, in no particular order, these are my observations.\n",
            "\n",
            "I should tell you that my web skills are limited. I used Front Page for years and have created several very elementary Dreamweaver sites for family members. I'm in the process of trying to work more professionally (cleaner, less, and better code) and more creatively (a less stilted and more unique and appealing design). This course doesn't purport to be a web design course, it assumes that you already have a basic idea for a (relatively simple) website and it's going to teach you how to implement it. Don't expect inspiration.\n",
            "\n",
            "POSITIVE:\n",
            "* Level: absolute beginner to intermediate.\n",
            "*  It is entirely DVD-based. The booklet (106 pages including index) that comes with the DVD just provides additional random information; it is in no way connected to the content or the sequence of the course.\n",
            "* The scope of the information presented is all that is needed for basic competence in the implementation of a simple Dreamweaver CS5 website. You do become familiar with the DW interface; the workflow; best practices; web and DW terminology; and basic website structure and creation.\n",
            "* The sequence and progression is logical and sequential. There is some reiteration of basic principles as the course progresses to clarify how something previously explained applies in a new situation.\n",
            "* The interface is very well thought out. You can go backwards or forwards easily. It has constant access to a table of contents that allows you to search (by both topic and subtopics) in case you want to navigate to a completely different topic. It allows you to bookmark (with long notes-to-self) on topics of interest you may want to keep coming back to. The interface coloring and design are neutral and un-intrusive. The screen always retains focus and the surrounding options melt away.\n",
            "* The course has the secondary purpose of preparing for the Adobe Certified Expert (ACE) test. Each main section has a practice test at the end.\n",
            "* Another asset is that the video transcript is captioned under the viewing screen (optional). This is particularly helpful if you're in in a public place where you can't turn on the sound.\n",
            "* All explanations of hard-to-grasp concepts (ex: the box model) are clearly demonstrated with visual examples. As a matter of fact, this is the clearest explanation I have ever seen of the box model.\n",
            "* I did find the booklet section on Fireworks instructive, since I have never used that program in the past. In fact, the entire booklet is very instructive and useful--it's just totally unrelated to the course on DVD.\n",
            "\n",
            "NOT SO POSITIVE:\n",
            "* Coverage of other concepts, such as content placement and positioning, are a little more basic and less detailed than I would have liked. I can't recall (or locate now) any reference to floats, whereas AP divs and frames (both older concepts) are well covered.\n",
            "* The narrator has a pleasant voice and clear diction, but is somewhat monotone and unexciting.\n",
            "* There is no \"search\" function or \"index.\" This makes it impossible to look up a term or a topic that is not specifically listed in the table of contents. I would have thought that the transcript text might have been searchable, but it isn't.\n",
            "* For my learning style, I would have preferred that the booklet function as support material for the video so I could follow along with text that directly reinforces the visual demonstration (and is easier to go back to or use as reference material.)\n",
            "* The bookmarks that you create when taking the course on your laptop are saved to that computer. If you want to change to your desktop, the bookmarks, obviously, are not there. So as a \"personal index\" these bookmarks have their limits.\n",
            "\n",
            "On the whole, I do recommend this course. I wish I had taken it earlier, because it laid down the groundwork better than an online course that I had just taken. However, I think that, for a person who is learning-as-you-go (not just learning general theory but actually trying to apply it to a real website) it is essential to have reference material on Dreamweaver CS5, some sort of guidance on design principles, and a solid HTML and CSS anthology--all in well-indexed books.\n",
            "\n",
            "Video and online courses teach you very well how to build their sample websites, but when you are stumped on YOUR website, you need to be able to supplement the general principles they taught you with a more on-point reference.\n",
            "Positive score: 21.375\n",
            "Negative score: 11.0\n",
            "Objective score: 317.625\n",
            "SENTIMENT OF A REVIEW IS POSITIVE.\n",
            "\n",
            "Review: A picture tells a thousand words! This is especially true if you're learning about some photo management software like Photoshop Lightroom. If you are new to Photoshop Lightroom 3 (and even if you've been using Lightroom 2), you will find that the authors thoroughly cover all the features of Lightroom 3.\n",
            "\n",
            "This tutorial literally holds your hand as you learn to use Lightroom 3. The videos are HD-quality and crystal clear. You can maximize or watch it full-screen, or you can watch it in a smaller window so you practice what you're learning at the same time.\n",
            "\n",
            "No wonder this is \"Adobe-approved\" training by experienced Adobe-certified instructors. Highly recommended for anyone who wants sit back, relax and let the instructors teach them Photoshop Lightroom 3 as opposed to reading a book that can get boring after a few chapters.\n",
            "Positive score: 5.0\n",
            "Negative score: 0.75\n",
            "Objective score: 54.25\n",
            "SENTIMENT OF A REVIEW IS POSITIVE.\n",
            "\n",
            "Review: This video is accompanied by a small book that covers general areas of interest within the field of photography.  It also offers general coverage of the new features in Lightroom 3, has a guide to keyboard shortcuts (very useful), and a glossary.  Thumbs up on the book.\n",
            "\n",
            "The video material, contained on a single DVD, does a good job of covering all the important aspects of Lightroom 3.  This video is in my opinion, for advanced beginners on up.  I say this because the material is covered more deeply than what a beginner in the field of digital photography might be comfortable with.  Also, it is assumed that the student has some knowledge of digital photographic concepts (white balance, exposure, RAW format, etc.).  These topics are discussed without much intro-type explanation for beginners.  For me this is a good thing, as I had a reasonably good background going in.\n",
            "\n",
            "The only thing that I wasn't thrilled about, although it is no reason to drop a star, is the pace of the training.  I actually like a faster pace.  If something is too fast, I just play it over.  The slower pace of this video training wouldn't bother me at all if there were a fast forward button that allowed me to still comprehend what is being said.  The only way I could speed things up was to skip ahead in small increments and then go back if I went too far.\n",
            "\n",
            "Here's the bottom line.  You can have no experience with Lightroom, but if you are a beginner with digital photography, bone up before hitting this video.  You'll get much more out of it.  If you've got a good footing with the basics of digital photography and you're ready to rock and roll, this video will take you where you want to go.\n",
            "Positive score: 6.0\n",
            "Negative score: 4.0\n",
            "Objective score: 124.0\n",
            "SENTIMENT OF A REVIEW IS POSITIVE.\n",
            "\n",
            "Review: As someone who has just upgraded from Lightroom version 2 to the new version 3, I got this to bring me up to speed on the new features. I thought I would just watch the video clips on the new items as I needed them. Boy was I wrong... this is so good that I ended up watching every one of them from start to finish.\n",
            "\n",
            "This package consists of a DVD and a small book. The book has a chapter on being a better photographer and another introducing the new features of Lightroom 3. The DVD contains the videos and a dedicated video player.  You can either use Internet Explorer or the player to view the content. My recommendation is to use the player.  It's full featured... a nice menu system, resizing for the screen, and the normal control buttons (stop, pause, play, etc.). The nicest feature of the player is the \"Work Along\" mode. In this mode, the video plays in a small window while you're working in Lightroom. This lets you try the commands along with the video.\n",
            "\n",
            "Video and audio quality is excellent. The 2 instructors do a great job. They don't get over technical and keep a good pace. Not only do they present the material, they also give examples of how they use a Lightroom feature or command in their own workflow. This product would be perfect for someone new to Lightroom or a seasoned user looking to learn the new version.\n",
            "Positive score: 8.0\n",
            "Negative score: 1.625\n",
            "Objective score: 110.375\n",
            "SENTIMENT OF A REVIEW IS POSITIVE.\n",
            "\n",
            "Review: Adobe approved \"Adobe Photoshop Lightroom 3, Learn by Video\" is the absolutely best method of learning Lightroom 3 that I've found. It's one on one training presented by Tim Grey and Mikkel Aaland. The program truly has just about everything to get you up and running full hilt. You'll progress from the very beginning of setting Lightroom up to importing photos, developing them, exporting them and everything in between. It does not contain everything that anyone would want in an educational program - that would be a practical impossibility. However, this program contains 10 hours of video training: you hear how a procedure occurs and you see how it's done, along with advice and opinion. There's even a testing procedure included and reference booklet. You can also copy selected video tutorials. I've had and have been using Adobe Lightroom for a couple years and recently upgraded to Lightroom 3. I've books written about Lightroom 3 by well known authors but I found reading about it was just a little too tedious and finally decided to find out how to make it work for me. This program works, it did for me and frankly I believe it's the best program available.\n",
            "Positive score: 5.0\n",
            "Negative score: 2.375\n",
            "Objective score: 84.625\n",
            "SENTIMENT OF A REVIEW IS POSITIVE.\n",
            "\n",
            "Review: I was lucky to find this offered in the Vine program as I'd just upgraded to Lightroom 3, and had been looking for a good text or other training material. It's pretty complete in its coverage of Lightroom basics, and differences from Lightroom 2; the only real issue I have is with the pacing. And that's not a real complaint about the product; it's more of a personal preference.\n",
            "\n",
            "What you get in the package is a slim volume of 100 pages, about half of which discuss Lightroom and photography in general terms; the remaining 50 pages are divided between notes on setting preferences in Lightroom and tables of keystroke shortcuts. Given that the booklet is glued into the packaging, it's not exactly a handy references. The bulk of the course, though, is on a disk that contains (as noted in the description) a full 10 hours of video lessons.\n",
            "\n",
            "The lessons are divided up functionally in a manner that reflects Lightrooom's functional division- the first section is devoted to importing photos, followed by a section on the Library function. Each section is in turn divided into lessons covering one or two detailed areas. You can play all the sections and lessons in order, or pick and choose as you like. I began by playing straight through the first two sections (over two separate sessions) and picked up a lot of new and useful information about using Lightroom 3. Each lesson involves watching an expert carry out some function while narrating exactly what he's doing. The demonstrations and accompanying narration afre very clear, and made it easy for me to perform the same actions on my own. There's also a \"watch and work\" mode, in which you can shrink the video window down and try an example on your own in Lightroom, using supplied data files. Very nice.\n",
            "\n",
            "What I particularly liked was the us of professional photographers, rather than trainers, to present the material. The result is a real-world approach, in which the instructor both demonstrates the full range of options for some piece (like importing) and then explains exactly how he uses this in his own workflow. What you get is not a theoretical exploration of how a piece of software could be used, but a real demonstration of how it's being used by someone working in the field. Of course, that can be a drawback, too; one particular photographer's idiosyncratic methods may not be best for you. But I think this program manages to avoid that, but presenting the full range of possible approaches before the instructor gives his personal preference.\n",
            "\n",
            "The one problem I do have with the course is, I suppose, unavoidable in this sort of presentation, and that's that the videos are fixed in duration and what's covered. Going through everything is going to take you the full 10 hours, at a minimum. You may look ahead to one chapter for something you're specifically interested in, only to discover after watching it through that what you really need is in a different chapter. That's why I generally prefer a text and image based approach. For me, at least, reading is several times faster than listening. But as I say, that's just my personal preference. For many, if not most new users, this may be one of the best ways to learn enough yo get started managing workflow with LR3.\n",
            "Positive score: 14.75\n",
            "Negative score: 4.75\n",
            "Objective score: 243.5\n",
            "SENTIMENT OF A REVIEW IS POSITIVE.\n",
            "\n",
            "Review: I was extremely pleased with this training video. The video player was very full featured; far better than any I have used in other video training I have used. Look over intro page ix of the accompanying book to get an over view if it's capabilities. Although it launches full screen, it can be reduced in size like any other on-screen window. Find the small handle at the lower right. You could of course shrink it down to the task bar, but it runs and looks great at both small and large sizes. What's more, you can pause the video at anytime, run you own copy of Lightroom and actually work through the same steps you are learning about. In fact, the image used on the DVD are also included on the DVD, so you could repeat the lessons with the identical images. (The video lessons are also on the DVD in .mp4 and .3gp format, so you may be able to work through some lessons on your iPhone/iPad or 3G cell phone while commuting.)\n",
            "\n",
            "It will pay to pause the first lesson and explore the user interface of the DVD playback software. It's not as complicated as LR itself, but quirky enough to make starting off somewhat confusing. You'll want to explore the LR interface at some point too.\n",
            "\n",
            "The Lightroom (LR) interface is designed around a good, flexible work flow, and the lessons generally follow that workflow. Of course, in actual use you can easily jump around the interface as you want, but seeing the software in an actual work flow is terrific. LR, like Photoshop, is a deep product, and watching it being used is actually far easier to do than trying to follow step-by-step instructions from a book.\n",
            "\n",
            "The DVD comes with a small book which you can remove from the packaging; it's got those small sticky pads holding the back of the book to the box. Just lift off carefully. The first half of the book is entitled \"The Photograper's Eye\" by Michael Jordan (but not that Michael Jordan.) This seems like basic filler, and is not related to Lightroom at all. The last half is pretty good, although a lot of those ridiculously small screen shots are included. The material covered is duplicated in  Lesson 1.4 to 1.4.9 so you can at least see a much bigger image. There is also a handy keyboard shortcuts list. The book is also handy in case you want to change some of the settings without reloading the DVD.\n",
            "\n",
            "I have a few quibbles. In general, this DVD is aimed at Lightroom beginners. But much of Lesson 1 (1.1 to 1.3.7) deals with \"What's New in LR3\" which is almost useless, and frankly confusing, for someone using LR3 the first time. (If you just upgraded from an earlier version, this might be more interesting.) Start up your own LR and jump to 1.4 to begin the process of customizing your setup. At 1.4 you get a really useful, well explained review of the many LR settings.\n",
            "\n",
            "If you start with the 'Play All' option, as recommended, the interface takes you automatically from lesson to lesson, although there is no visual indication of which lesson and chapter number you are actually on. The titles are shown on the right hand sidebar (Chapter Videos) if you open it, but not the lesson numbers. You can use the dropdown at the top of the main dialog to see this, however. You can choose specific lessons from the opening main screen if desired. As you go, you can set bookmarks for sections you might like to revisit. All you bookmarks are available from one of the tabs at the top... a really nice feature!\n",
            "\n",
            "If you truly are a Lightroom beginner, this DVD will get you up-and-running quickly. If you have used Photoshop, and Camera Raw (CR) in particular, you will quickly see how adjustments in LR are so similar to CR, with LR adding so much more in terms of automation, asset management etc. Quirky start-up aside, this is an easy 5 star rating!\n",
            "Positive score: 19.625\n",
            "Negative score: 9.0\n",
            "Objective score: 298.375\n",
            "SENTIMENT OF A REVIEW IS POSITIVE.\n",
            "\n",
            "Review: Learn By Video Adobe Photoshop Lightroom 3\n",
            "\n",
            "I have Lightroom 2.7 so I was intrigued for two reasons: 1) what is new in Lightroom 3 that I should upgrade and 2) could I still learn something about the version that I have with this video. I am happy to say it exceeded my expectations.\n",
            "\n",
            "The lessons are good; I actually look forward to learning more about Lightroom. The lessons are always focused on the computer screen - not wasted on watching the instructor speak. First I went through some of the lessons to get an overview of the features - some I found were explained in a way that made me realize that I should have been using them. But I will really use this as a reference when I want to work on my photos with the Watch and Work.\n",
            "\n",
            "Watch and Work is a really cool feature. If you click Watch and Work (in the lower right corner) the application shrinks down and is placed in the upper left corner sort of out of the way. I say sort of because it is always on top and on my screen I am not able to get Lightroom completely visible. I can't find a minimize button so I have to go back to standard mode and then minimize it. But it does work and is a quick way to get the video up while I am working. (It's probably time I get another monitor...) The DVD does come with samples but I have no problem following along using my own photos.\n",
            "\n",
            "While the lessons themselves are great I did find a few quirks.\n",
            "\n",
            "When you first put in the disc Windows 7 pops up suggesting to run Start.exe. Choosing that starts the video with an intro from the two authors but there is no mention how to use the program. Fortunately there is a Table of Content in the upper left corner which is how I actually go through this. It isn't terribly difficult to use the video but it would make for a smoother and less timely start if they went over the use of it. The booklet does explain a little but not completely which goes for the help screen as well.\n",
            "\n",
            "There is no install for the DVD. DVDs are either watched once or used for installation. Since I will use this as a reference and it will be used over and over they should have included an install so that you will always have access to the video. You can copy the entire DVD to your hard drive and setup a shortcut but for a lot of users that isn't always easy to do.\n",
            "\n",
            "Right away I found an annoying orange menu that pops up even if I slightly bump the mouse. All it has are options for Full Screen or an info sidebar. These options are also available in the lower right corner. At first I wasn't sure if it was part their screen shots or the application on my computer. I have not yet found any info that explains this or how to turn it off and I have no use for this menu - strictly annoying.\n",
            "\n",
            "Another annoyance is when you close the application it goes through the list, or credits, of who put it together. Why? My experience as a developer is that no one cares who created it; if it's good people will use it. But we get to see them every single time.\n",
            "Tip: although it is an added step after you click the close button, click again and you won't have to wait through the credits.\n",
            "\n",
            "The package comes with a booklet but it doesn't offer much. Half of it explains photography and how to take certain shots. If you are using Lightroom chances are you probably have several photography books already. Another section briefly goes through each of the new features in 3. And there is a section that shows the specific settings for certain screens and another section on the shortcuts. The booklet is not an alternative to learning the application but may be a handy reference for some.\n",
            "\n",
            "The begin where you left off doesn't work for me in fact it suggested something I used yesterday.\n",
            "\n",
            "But I really do look forward to learning Lightroom with this video. It is far better than the free ones I have found online. And it even helps me with 2.7. Once installed on my hard drive it works great as a quick reference. I am still debating on upgrading Lightroom at least right away. But this video made several features really clear that I otherwise might not have used. And while it does have a hefty price tag my benefits are worth the expense.\n",
            "Positive score: 19.625\n",
            "Negative score: 10.0\n",
            "Objective score: 316.375\n",
            "SENTIMENT OF A REVIEW IS POSITIVE.\n",
            "\n",
            "Review: Some people learn more by watching than by reading. I know that I first learned about how to use Lightroom in videos by the redoubtable Michael Reichmann and Jeff Schewe, but that was mostly because they were the first out with instructional material. Mostly those videos were images of talking heads with an occasional screen shot. \"Learn Adobe Photoshop Lightroom 3 by Video\" is an offering by two other great image processing authors, Tim Grey and Mikkel Aaland.\n",
            "\n",
            "The approach taken is fairly standard. After an introduction the videos go chapter by chapter through each of the Lightroom modules, and an examination of most of the buttons and sliders that, because of its easy interface, has made Lightroom popular with so many photographers.  Each section shows a screen shot where the viewer can follow the moves made by the authors to apply Lightroom functions, accompanied by the voice-over of one of the two authors. The chapters cover everything from bringing images into Lightroom to outputting them to web sites or slideshows. The level of instruction is fairly simple, but if you've never used the software, the instruction will get the average person processing pictures after several hours of watching. More experienced users won't learn anything new, but they are not the audience. Not every function is covered in all aspects, like my favorite test, whether the discussion of keywords covers the importation of a keyword list from another source into Lightroom. On the other hand, although this isn't covered, it clearly a subject for a more advanced user.\n",
            "\n",
            "At the end of each chapter there is an examination. Unfortunately, if you get an answer wrong, you won't be told the correct answer, so you'll have to watch the lesson again. Maybe that's not unfortunate.\n",
            "\n",
            "The video comes with a booklet where Aaland first presents some ideas about composition (perhaps added because the video, like most Lightroom books, doesn't tell you when a slider or button is appropriate; for that, I'd recommend \"<a data-hook=\"product-link-linked\" class=\"a-link-normal\" href=\"/Vision-Voice-Refining-Your-Vision-in-Adobe-Photoshop-Lightroom-Voices-That-Matter/dp/0321670094/ref=cm_cr_arp_d_rvw_txt?ie=UTF8\">Vision & Voice: Refining Your Vision in Adobe Photoshop Lightroom (Voices That Matter)</a>\" by David duChemin). That's followed by a chapter about what's new in Lightroom 3. The disk also contains images that can be imported into Lightroom by the viewer to follow the same procedures as the authors in the lessons. I'd like to say that this allows one to follow along with the authors, but it was here that video presentation encountered a stumbling block. With a book you could keep the book in front of the computer and, if images were provided, the reader could follow along. To duplicate the experience there is a button in the lower right hand corner of the video screen, called \"Watch-and-Work\". If you click this, the video is reduced to about one-fourth of the screen. Unfortunately, when I tried to follow along with the video, the video image was often in the way and had to be moved around to gain access to the Lightroom sliders. Eventually I figured out that it was easier to pause the video and minimize the video screen and work in Lightroom. This doesn't take a computer guru to figure out, but given that the videos are aimed at tyros, it might have been useful to provide more detailed instructions in how to use the videos. Unfortunately there is just a very brief help screen, that, to make matters worse, refers to processing the picture in Dreamweaver! It might also have been useful to suggest to users that as soon as possible, they should import the images provided on the disk into Lightroom, as well as other instructions on how to best use the videos to learn.\n",
            "\n",
            "I'm still a person who prefers books, being a geezer who didn't grow up with YouTube. I underline important ideas or read them twice, and even read them on a bus, without opening a laptop. To be fair, the video does allow for bookmarking (again undocumented), that accomplishes many of these functions and perhaps reading on the bus may not be the best way to learn about running a piece of software like Lightroom.\n",
            "\n",
            "I'm impressed by the video technology, and even though there are a few bumpy spots, as an introduction to Lightroom, this will certainly teach the new user how to use the software.\n",
            "Positive score: 14.875\n",
            "Negative score: 10.5\n",
            "Objective score: 293.625\n",
            "SENTIMENT OF A REVIEW IS POSITIVE.\n",
            "\n",
            "Review: I was looking forward to receiving his product. However, when I started to view the various items I was rather disappointed that the explanations were far to long winded and very short on actual facts and techniques. A pity, because these could be quite informative if the presenters got to the point earlier.  Needs a serious revision!\n",
            "Positive score: 2.0\n",
            "Negative score: 4.0\n",
            "Objective score: 23.0\n",
            "SENTIMENT OF A REVIEW IS NEGATIVE.\n",
            "\n",
            "Review: I thought these videos were too elementary.  I found it much easier to pick and choose from one of the many superb texts that are available.\n",
            "Positive score: 2.375\n",
            "Negative score: 0.875\n",
            "Objective score: 9.75\n",
            "SENTIMENT OF A REVIEW IS POSITIVE.\n",
            "\n",
            "Review: Its average prefer Laura Shoe's DVD. The instruction seemed very basic and just adequate. It could have gotten into the develop module better.\n",
            "Positive score: 1.625\n",
            "Negative score: 0.0\n",
            "Objective score: 10.375\n",
            "SENTIMENT OF A REVIEW IS POSITIVE.\n",
            "\n",
            "Review: This DVD is a fantastic tool for those who prefer a visual approach to learning rather than simply reading.  This DVD breaks down the basics of Lightroom, and explains it to you in a simple manner.  I like the fact that I can watch the video while having my copy of Lightroom open, so I can easily follow along.  In my opinion, my learning is enhanced by showing me how to use a function like the Adjustment Brush rather than simply reading about how to use the Adjustment Brush.\n",
            "\n",
            "If you are a little intimidated by programs like Lightroom or Photoshop Elements, then this is a perfect video for you.  Everything is presented in basic terms, and they instructors provide plenty of examples for the subject matter that is presented.  If you are someone who is an experienced Lightroom user, this DVD may teach/remind you a few elements available in Lightroom but IMHO it's not targeted at experienced Lightroom users.\n",
            "Positive score: 4.75\n",
            "Negative score: 3.25\n",
            "Objective score: 59.0\n",
            "SENTIMENT OF A REVIEW IS POSITIVE.\n",
            "\n",
            "Review: Want to cut Lightroom 3 learning curve by 5o to 80 percent? Get this training program. Its very well thought out and will have you up and running quickly. Well worth the money!\n",
            "Positive score: 0.25\n",
            "Negative score: 0.25\n",
            "Objective score: 16.5\n",
            "SENTIMENT OF A REVIEW IS NEUTRAL.\n",
            "\n",
            "Review: This is a greate collection of videos on the disk.  Most of the videos are between 2 and 6 minutes, The index allows you to quickly jump to a video that you want to review. The video goes from an introduction, to what is new in Lightroom 3. The videos cover working with the workflow, creating slideshows, and more.  I would recommend going to the authors website to get even more information on Lightroom\n",
            "\n",
            "At this low of a cost it is a no brainer.  I highly recommed this to anyone who is just starting with Lightroom or those who ahve worked with it for a while\n",
            "Positive score: 1.125\n",
            "Negative score: 0.375\n",
            "Objective score: 34.5\n",
            "SENTIMENT OF A REVIEW IS POSITIVE.\n",
            "\n",
            "Review: I can go over the material as often as I like to makes sure I understand and remember.  There are little quizzes at the end of each section that are very helpful too.  The presenters are easy to understand and overall very good.\n",
            "Positive score: 3.125\n",
            "Negative score: 1.0\n",
            "Objective score: 13.875\n",
            "SENTIMENT OF A REVIEW IS POSITIVE.\n",
            "\n",
            "Review: I have never owned a SLR camera and never used a photo editing software like LR3 before.  I'm a very visual leaner, therefore, appreciate being able to see not only the menus and what they select, but how to use the features and see the effects to the photos \"real time\".\n",
            "\n",
            "They also discussed general topics as to how to organize files, folders, catalogs, collections, (can get overwhelming w/out some instruction and context for how to use all the features), etc.  I continually go back to the DVD as I try to use the software but can't remember exactly how to from my first overview of all the lessons.  Every time I review a feature/section, I seem to pick up more tips that I missed with the first viewing.\n",
            "\n",
            "If you don't like to read and/or don't want to spend a lot of time trying to figure out how to interpret and apply written instructions vs. seeing a \"live\" demonstration, then this DVD/learning method is for you!  I love it.\n",
            "Positive score: 2.25\n",
            "Negative score: 2.375\n",
            "Objective score: 74.375\n",
            "SENTIMENT OF A REVIEW IS NEGATIVE.\n",
            "\n",
            "Review: One of the best purchases I have made in a long time.  Learned so much in a short time and can go back and rewatch the areas that I need to.\n",
            "Positive score: 0.875\n",
            "Negative score: 0.625\n",
            "Objective score: 12.5\n",
            "SENTIMENT OF A REVIEW IS POSITIVE.\n",
            "\n",
            "Review: Had a chance to try this out, here are a few impressions:\n",
            "\n",
            "Easy to use, well-designed, and useful.\n",
            "\n",
            "BUT... at a fairly basic \"this is Lightroom\" level.  So, if you're new to Lightroom, and a visual learner (as opposed to wanting to read everything in a book), this is an awesome resource.  It's kind of like having an experienced photographer friend sit down with you and a copy of LR3 for 10 hours and go over every feature, in a reasonable degree of depth, one feature at a time.  But you get to pause, rewind, and rewatch it whenever you want, add bookmarks to favorite parts you want to review later, etc.\n",
            "\n",
            "You can also learn LR3 on your own; that's what I did.  I'd been using the program for over a year before getting this, so I didn't think I had much to learn.  While I wasn't sure how useful this would be, I was pleasantly surprised.  I use primarily the Library and Develop modules (all the time), and was hoping to learn more about the other three (Print, Web, and Slideshow).  I certainly did, and am comfortable with those now.  But I also learned some pretty useful things about the ones I use constantly (I haven't really used collections before, for instance, and that's going to be a huge time-saver).\n",
            "\n",
            "The two photographers that guide you through lightroom introduce you to all of its features, but don't necessarily give too much creative input... they teach you what you CAN do, not what TO do.  For most people, this is fine.  But they're not there to refine and hone your creativity.  Just get you familiar with the program, which they do very well.\n",
            "\n",
            "What I'm a little disappointed by is that I didn't get&nbsp;<a data-hook=\"product-link-linked\" class=\"a-link-normal\" href=\"/Learn-Adobe-Photoshop-CS5-by-Video-Core-Training-in-Visual-Communication-Learn-by-Video/dp/0321719808/ref=cm_cr_arp_d_rvw_txt?ie=UTF8\">Learn Adobe Photoshop CS5 by Video: Core Training in Visual Communication (Learn by Video)</a>&nbsp;instead.  I don't know Photoshop nearly as well as I know Lightroom.  And while Lightroom isn't too hard to figure out without a guide, Photoshop is pretty much impossible.  And that particular video item, while the same price as this, has over twice as much video (21 hours instead of 10).  If you're trying to learn both programs, I'd probably recommend getting that instead, and figuring out LR3 on your own.\n",
            "\n",
            "Oh, and it comes with a book.  The book is a little odd, as it doesn't really go along with the product.  Instead, it has three main sections:  The first, is basically a \"welcome to photography, here's what you need to know to capture nice images\" with basic photographic advice.  Part 2 is \"what's new in LR3\" (compared to previous versions; only newly added stuff is mentioned).  The third part is Lightroom preferences... basically, descriptions of everything that you can tweak \"under the hood\".  I read them, and they're all okay... but they're not what you're buying this product for.\n",
            "Positive score: 15.75\n",
            "Negative score: 7.0\n",
            "Objective score: 173.25\n",
            "SENTIMENT OF A REVIEW IS POSITIVE.\n",
            "\n",
            "Review: There are over 100 video lessons here. Most users have given this a high rating and I assume they are very comfortable with video learning. Personally I found it rather tedious.\n",
            "\n",
            "I'd like to learn Lightroom because I've owned it for a while. I tried to use it but did not understand it so I went back to using Adobe Bridge, which is think is generally under-appreciated. I love Photoshop but tend to spend a lot of time with it, so the supposed time-saving features of Lightroom would be helpful.\n",
            "\n",
            "I really hoped this product would make it easy for me to use Lightroom. Unfortunately I had trouble staying alert through more than 3 or 4 lessons at a time, and that much only covers a small portion of the material.  I don't think this is because of the presenters so much as it is the difficulty of covering this sort of material in a video format.\n",
            "\n",
            "The Introduction alone consists of 26 videos. It seemed like a commercial for Lightroom rather than a tutorial. Seven of the lessons are devoted to \"What's New\" -- not too relevant for beginners. On the plus side, there were plenty of screen shots to familiarize us with the look of the software.\n",
            "\n",
            "Unit 2 has 11 video lessons on importing pictures. That gives you an idea on how much detail is here. If that's what you need, you'll find this product useful.\n",
            "Positive score: 7.75\n",
            "Negative score: 5.5\n",
            "Objective score: 91.75\n",
            "SENTIMENT OF A REVIEW IS POSITIVE.\n",
            "\n",
            "Review: No reason to restate all the positive comments. I just wanted to chime in to say that I, too, think this was a great purchase. I have been watching in \"Watch and Work\" mode, and really like being able to follow along; I learn by doing more than just by watching. Light Room has so many features that I can't imagine learning them all, but this video makes it simple. There are even chapter tests after each chapter. Very polished and professional.\n",
            "Positive score: 1.875\n",
            "Negative score: 0.5\n",
            "Objective score: 34.625\n",
            "SENTIMENT OF A REVIEW IS POSITIVE.\n",
            "\n",
            "Review: I am not an avid Lightroom user, although I have used it many times.  I have always wanted to dive into the tools and techniques of the software more and this video series has definitely put me on the right track.  The series does an excellent job of not only giving you a general tour and reference to what is available in Lightroom, but also diving into more important aspects that you do not pick up on out of the gate.\n",
            "\n",
            "Watching the entire video in one sitting is probably not feasible since it's ten hours of content.  In fact, finding the time to watch the entire ten hours at all might be difficult.  Don't be fooled though as any time you invest in going through this video will improve your usage of Lightroom.  It really depends on what you want out of Lightroom.  If you are just wanting some simple organization and editing you won't need this video or certainly won't need all of it.  If you would like to dive into the publishing aspects and really optimizing your workflow, then this would be a good investment for you.\n",
            "Positive score: 7.625\n",
            "Negative score: 2.25\n",
            "Objective score: 70.125\n",
            "SENTIMENT OF A REVIEW IS POSITIVE.\n",
            "\n",
            "Review: This was perfect and so well timed, I learn so much better via video then just reading a book! I was very happy with this particular DVD, it was the perfect training and introduction to how to use Lightroom properly! It comes with a great key shortcut reference booklet as well.\n",
            "Positive score: 2.125\n",
            "Negative score: 0.125\n",
            "Objective score: 21.75\n",
            "SENTIMENT OF A REVIEW IS POSITIVE.\n",
            "\n",
            "Review: This video was well paced and hit all of the highlights of the program it taught how to use most of the buttons and features of lightroom 3. It gave reasonable examples and by showing the screen shots of what was being talked about there was a ready reinforcement. I have already gone back to some of the chapters as a reference when I needed to do certain tasks. Would highly recommend this work.\n",
            "Positive score: 2.25\n",
            "Negative score: 1.25\n",
            "Objective score: 27.5\n",
            "SENTIMENT OF A REVIEW IS POSITIVE.\n",
            "\n",
            "Review: I am a long time user of Photoshop Lightroom, from the first version. I used to use Photoshop to manage and edit digital images, but switched to LR totally from then. LR is relatively user-friendly, you need very little instruction to get started. I never had any training, book or instructions of anykind, but always felt efficient with the software.\n",
            "\n",
            "Well, I think it is great that I now have access to this training video. It was kind of long (10 hrs.), so finding the time to watch them was a challenge. Especially for me, as I already know how to use the software. But of course, you will pick up things that you don't know before or how to do it better. And it is true. I learned more than I expected. So no matter how experienced you are or how user-friendly the software is, you will definitely gain something from it.\n",
            "\n",
            "If you are a new user of LR, it could be a little intimidating. If you are a casual user who only need to manage your photo and run slideshow, you don't need this video. But if you want more like publishing, converting and optimizing images, I recommend this training video.\n",
            "Positive score: 7.0\n",
            "Negative score: 4.375\n",
            "Objective score: 71.625\n",
            "SENTIMENT OF A REVIEW IS POSITIVE.\n",
            "\n",
            "Review: I've spent lots of money on Photoshop and Lightroom. These programs are so complicated that you end up buying lots of books to learn to use them, some of which end up collecting dust because they are so hard to read.\n",
            "\n",
            "This video instruction program is pretty long at 10hours but it really covers what you need to know to use Lightroom 3.0 properly.\n",
            "\n",
            "The format allows you to skip to chapters that you want to see.\n",
            "I think you need to watch this on a computer because it doesn't play like a regular DVD with menus that need to be clicked by mouse.\n",
            "\n",
            "The video shows step by step how to do actions from basic to advanced.\n",
            "\n",
            "Compared to books teaching Lightroom, this is by far the best way to learn that I have seen so far.\n",
            "\n",
            "Now I need to get a version for Photoshop CS5....\n",
            "Positive score: 4.0\n",
            "Negative score: 2.75\n",
            "Objective score: 58.25\n",
            "SENTIMENT OF A REVIEW IS POSITIVE.\n",
            "\n",
            "Review: The Tim Grey Lightroom video is a great learning tool. The content and pace are well suited for the beginner and intermediate user. The use of specific examples really enhancing the learning experience.\n",
            "Positive score: 1.375\n",
            "Negative score: 0.0\n",
            "Objective score: 17.625\n",
            "SENTIMENT OF A REVIEW IS POSITIVE.\n",
            "\n",
            "Review: This is a great package, full of helpful information! I am mostly self taught with Lightroom, so it's nice to have these materials to fall back on when I need some additional help. 10 hours seems like a lot, but it's broken up to where it doesn't feel like too much information. The index is very helpful, if you are looking for a certain topic you can scan the index in the book and see where to find that video.\n",
            "Some of the lessons include Importing photos, basic how-to's of how to use the Library module and organizing the Library module, Editing Essentials such as white balance, clarity, color adjustments, Retouching and Correction such as portrait touch up, and noise reduction. Also how to convert from color to black and white.\n",
            "Also included is a lesson on how to take photographs with different subjects such as nature, landscape, family, sports, etc.\n",
            "A book is also included, but I find the videos a lot more helpful. I'm looking forward to watching more videos, and even testing my knowledge at the end of each lesson!\n",
            "Positive score: 6.875\n",
            "Negative score: 1.75\n",
            "Objective score: 83.375\n",
            "SENTIMENT OF A REVIEW IS POSITIVE.\n",
            "\n",
            "Review: As a new user to Lightroom (coming from Nikon Capture NX2), I am extremely impressed.  The quality of the video is evident as is the quality of the book.  This product addresses a long standing need for video training when compared to written manuals.\n",
            "\n",
            "The DVD is well organized and seems quicker for reference than even having a manual near the keyboard.  Interestingly, there is a special mode that uses a smaller video window that plays while your work in Lightroom so you can actually work with the instructors in a sense.\n",
            "\n",
            "A new user of Lightroom would clearly benefit from this video.  Advanced users most likely not.\n",
            "Positive score: 5.125\n",
            "Negative score: 1.125\n",
            "Objective score: 45.75\n",
            "SENTIMENT OF A REVIEW IS POSITIVE.\n",
            "\n",
            "Review: The \"Learn by Video\" program for Flash CS5 would make a nice alternative to an introductory book - especially for visual learners.  I'd worked through the&nbsp;<a data-hook=\"product-link-linked\" class=\"a-link-normal\" href=\"/Adobe-Flash-Professional-CS5-Classroom-in-a-Book/dp/0321701801/ref=cm_cr_arp_d_rvw_txt?ie=UTF8\">Adobe Flash Professional CS5 Classroom in a Book</a>&nbsp;- and found that to be more comprehensive in its coverage, but there is a different emphasis here and I found I learned quite a bit that I didn't know or that wasn't clear before.  The little booklet that comes with the guide is an extremely useful introduction to design principles that are essential to effective working in Flash.\n",
            "\n",
            "There are several chapters on different introductory-level topics in Flash CS5.  Each is broken up into different sections, and usually these can be completed in under ten minutes each.  That makes this easy to work through in short sections.  You can set bookmarks to remember where you left off - although it would be nicer if the program saved your progress directly and remembered for you where you left off.  The exposition is clear, but perhaps a bit dry.  There's no hint of humor here, and I always find it helps to make verbal lessons a bit more interesting and memorable.  Each section tells you what you are going to learn, gives you an explanation and a tutorial you can follow along using one of the project files included on the dvd, and then explains what you have learned.\n",
            "\n",
            "The focus here is on learning how things work and what things mean at a fairly basic level.  You don't get very advanced, and by the end of things you'd really just have a rough idea of how things work in Flash, but it is very clear.  They assume a listener who is just getting started with Flash, and, while the lessons are sequential and they build upon each other, they remind you what you've learned and how to do things several times.  Sometimes that's a bit frustrating - in a beginner's level textbook it's easy just to skim through the repetition when it is familiar - with video it's harder to skim through what is inessential without missing the important bits.  That's one reason to prefer something like the \"Classroom in a Book\" series, rather than the Video Classroom approach.\n",
            "\n",
            "One thing I got here more clearly than in the \"Classroom in a Book\" for Flash CS5 is an emphasis on best practices - how to manage projects so as to be completely clear, and how that helps to achieve control over the project.  There is more explanation here - more whys behind the hows.  I thought the chapter on Action Script was excellent for giving a clear concept of how it works as an \"object based\" language - even though you'd only be able to do some very rudimentary things after working through the entire chapter, you'd have a pretty decent understanding of how the language works and a good basis for further learning.  There are video files on the disk that allow you to follow along on what they show you in the tutorials.  One thing they don't make clear is that to work with them you have to copy the assets folder to your hard drive and open and work with the projects there.  (I find it most convenient to backup the entire dvd to my hard drive and play it from there - since that means it's available and ready whenever I want to work through a section, and it also helps to protect the original disk from scratching).\n",
            "\n",
            "Overall, it's a good introduction to Flash and the emphasis on \"Best Practices\" serves as a useful complement to the \"how to\" guides you can find in other introductory Flash books.  I do have a few minor gripes:  the navigation through the chapter files is not as intuitive as I'd like: there are sections and subsections, and you can go to the next section in a chapter by clicking the \"Next Video\" button.  But: when you get to the end of a subsection, the \"Next Video\" button is not enabled and you have to go back to the main index and then open up the chapter index again to get to the next section in the chapter.  Several words in the projects are misspelt (e.g. \"Hawaiin\" instead of \"Hawaiian\"), and I also noticed that at least one of the project files they encourage you to use was missing (the \"inverseKinematics_start.fla\" file from chapter 9).  Still, the guide as a whole is very helpful and clear - and the emphasis on design principles in the included booklet makes this a very helpful overview and introduction to a rich and complicated program.\n",
            "Positive score: 31.125\n",
            "Negative score: 14.625\n",
            "Objective score: 294.25\n",
            "SENTIMENT OF A REVIEW IS POSITIVE.\n",
            "\n",
            "Review: In theory, the idea of watching a video tutorial while operating the program it's teaching is a great idea, but the implementation is at times flawed and frustrating.\n",
            "\n",
            "It appears that the tutorial is built on Adobe Air, which make Javascript look positively robust and blazing. The interface is slow and quite unresponsive on a fast Mac. It's very frustrating that it is not aware of dual monitor setups either. There is an option to watch it full screen, but if you try to place the video tutorial on a second monitor -- which would be customary if the program you are trying to learn was on your main monitor -- clicking on \"full-screen\" jumps the tutorial to your main display and makes it full-screen there, covering up the Flash program!\n",
            "\n",
            "The content and organization is pretty well done for beginner to intermediate level Flash programmers, but the numerous typos give it an  amateur whiff. How can there be typos in a video you ask? Well, the Video Training INSISTS on turning closed captioning on by default. No matter how many times you turn it off, when you relaunch the training, it appears again.\n",
            "\n",
            "My ultimate verdict is not-bad, but not great. I would give this 2-1/2 stars if that were an option, but as it's not I will tip the favor to three stars for ambition.\n",
            "Positive score: 5.5\n",
            "Negative score: 4.625\n",
            "Objective score: 93.875\n",
            "SENTIMENT OF A REVIEW IS POSITIVE.\n",
            "\n",
            "Review: The presenter here sounds much more natural than the semi-robotic delivery found in the DreamWeaver tutorial product.\n",
            "\n",
            "The lessons are broken up into easily digested 3-5 minute chunks, covering aspects of Flash from project planning and defining customer needs to an introduction to ActionScript fundamentails. Although it does not deal with programming in detail, it does cover basic concepts of object-oriented programming, variables, conditional statements, and functions. The rest covers working with artwork and text; library and symbols; layers, timeline, animation, and tweens; working with files, sound and video. You'll learn the fundamentals; you won't learn how to create those fancy user interfaces on those fancy sites; that's for a more advanced class.\n",
            "\n",
            "As with other products in this series, there are some usability issues. At the top of the interface, there's a \"Previous Video\" button and \"Next Video\" button. The \"Next Video\" button is disabled for the last video of each chapter, so to get to the next one you'll have to use other navigation. This is because the last item is the test. Kinda dumb UI choice, initially confusing. They could have changed it to read \"Take Test\" instead of putting up a virtual dead end. There is a sidebar which is normally hidden (you are cued that you can display it when the mouse strays into the video area), which has information on the current video and lists/links to the other videos in the chapter. The title bar (under the top-left tabs) is a dropdown to navigate the content.\n",
            "\n",
            "There's a \"Watch and Work\" mode which shrinks the video display to let you work with your copy of DreamWeaver (not included). You can move the video window around BUT you CANNOT resize it - and it may be kind of tiny to watch in that mode. So if you have a dual monitor setup, you'll want to drag the Standard Mode video player to the other screen; Standard Mode cannot be resized to be smaller, either.\n",
            "\n",
            "All in all it's a good way to get started in Flash programming, if you don't have the patience for going through a book. Know what to expect; you'll learn the basics, but you'll need to carry on the learning process yourself, by seeking out more advanced information or learning materials.\n",
            "Positive score: 5.0\n",
            "Negative score: 2.125\n",
            "Objective score: 172.875\n",
            "SENTIMENT OF A REVIEW IS POSITIVE.\n",
            "\n",
            "Review: If you've seen neat Flash presentations and wondered how you can create them yourself, this book will get you started in the right direction.  It contains a DVD and a hundred page book supplement.  The DVD provides well-done video tutorials that you can follow along in watch-and-work mode using the starter work files included in the DVD, and the book provides useful reference materials (e.g., colored screenshots of user interfaces and how to use the various tool components, keyboard short cuts for specific tasks, etc.)\n",
            "\n",
            "The video lessons cover all the important basics: how to create work projects and organize your files; how to use various tools and features; what are objects, shapes, symbols, movie clips, timelines, layers, frames, stage, etc; how to work with text and graphics; how to create animations such as objects moving in a choreographed fashion (motion tweens), or shapes morphing into other shapes (shape tweens); how to include ActionScript code snippets for more dynamic (but still simple) handling of events; how to build not just good-looking designs and presentations but also simple applications that react to text inputs, button presses, and mouse clicks; and how to test and deploy your work. By the time you're done with the lessons, you'll have an appreciation of how powerful Flash CS5 is and how learning even just the few techniques introduced in this video guide already empowers you to do interesting stuff!\n",
            "\n",
            "The user interface for the video tutorials is easy to use, and although the book supplement comes with instructions on how to use that interface and navigate through the tutorials, most people should be able to figure out how to use the interface without having read those instructions first.\n",
            "\n",
            "The video lessons are organized into eight chapters, most of which end with test questions that give you additional opportunities to revisit what you have just learned.  For the most part, the test questions quiz your knowledge of what was covered not just in the video lessons but also related materials in the book supplement; given that the video lessons and the chapters in the book supplement do not track each other perfectly (for example, the video lessons introduce motion tweens before shape tweens, but the supplement reverses this order), if you focus on the video lessons only, you might occasionally be surprised at getting quizzed on something that appeared unfamiliar by virtue of the fact that you might have missed reading some relevant materials presented (probably out of order) in the supplement.\n",
            "\n",
            "Finally, I thought that while some of the materials in the video lessons are somewhat repetitious, the instructors have nevertheless done a good job showcasing some of the most useful features of Flash. Many students will appreciate how when covering features newly available only in the latest CS5 version of Flash, the instructors clearly demonstrate how these new features improve upon the replaced \"classic\" features by illustrating how both sets of features work.\n",
            "Positive score: 11.0\n",
            "Negative score: 7.0\n",
            "Objective score: 230.0\n",
            "SENTIMENT OF A REVIEW IS POSITIVE.\n",
            "\n",
            "Review: There is just so much to learn with all of Adobe's products, that it's good to have yet another option offered to help navigate the product.\n",
            "I tend to be a person who learns by doing, so the \"side by side\" option to learn is a great attempt.  But there is just so many layers to the\n",
            "Adobe suite of products, that I'm not sure that there is truly a way to offer this course in any other way than in a more \"traditional\" classroom,\n",
            "where one can interact with the instructor and ask specific questions that a search just can't interpret.\n",
            "\n",
            "This is definitely something of worth, and is a strong introduction to the software.  But methinks that the only way one can really learn is to \"practice practice practice\" after all.\n",
            "##\n",
            "Positive score: 5.25\n",
            "Negative score: 2.0\n",
            "Objective score: 47.75\n",
            "SENTIMENT OF A REVIEW IS POSITIVE.\n",
            "\n",
            "Review: This certified associate courseware comes as a package containing a DVD-ROM plus supplemental written material. The software covered is Flash CS5.\n",
            "It is structured in an easy to follow manner.  It is very detailed and goes over most situations that can/will occur when using Flash CS5.  It covers the very basics and this might be off-putting to people with experience using MS Windows.\n",
            "The presentation voices are modulated and interesting. They are personable and the viewer gets an, \"in classroom,\" feel which improved the effectiveness of the lessons for me.  Some people learn better by working along with the instructor. This video course provides the necessary files to do this and complete the tutorial as it is watched.  The narrator leaves plenty of time for this.\n",
            "\n",
            "For those who learn best by listening and watching the pace of presentation designed for working along with the presentation it will seem to move slowly.\n",
            "The supplemental material is a good reference for after you have completed the video lesson.  The video creates a foundation of basic skills needed and the reference reinforces the lesson.  The materials are a good reference to use while one is using the program.\n",
            "\n",
            "All in all I found this lesson to be a useful introduction to using Flash CS5. This course helped me to learn skills that I can use in web development. For people like myself who learn better, especially at the begining in with a presentation format this provides a faster route to getting foundation skills to build upon with reference texts.\n",
            "Positive score: 7.375\n",
            "Negative score: 2.5\n",
            "Objective score: 116.125\n",
            "SENTIMENT OF A REVIEW IS POSITIVE.\n",
            "\n",
            "Review: Do you want a step in the right direction to create almost anything you've ever wanted with Adobe Flash Professional CS5? With this product, it's definitely possible.\n",
            "\n",
            "When I first recieved the product, all I had to do was insert the CD it came with, flip open the back cover of the box, and peel off the book. That was it! I was ready to learn in only seconds.\n",
            "\n",
            "The book and videos work in conjunction with each other, but you can read or watch either one in your own time and still understand all of what's to offer. The best part is the videos comes with subtitles, so if you're unable to listen to it, you can still understand what's going on.\n",
            "\n",
            "Both the book and video tutorials teach the basics all the way up to the more advanced things Flash has to offer. It will teach you how to get started, use the tools, create and import artwork, create text, work with tweens, use action scripting, importing and editing video/audio, and finally how to test and publish all you've made.\n",
            "\n",
            "In addition to both medias, there are many visualizations you will experience to really get you into what you are doing (yes, there are even picture examples with colors in the book). Almost all basics are covered and more, so you'll be really willing and able to learn all that you can for whatever you plan to create with Adobe Flash Professional CS5.\n",
            "\n",
            "In conclusion, after using this product, you'll have an incredibly easy time getting started with Adobe Flash Professional CS5. It comes with an easy to use CD, and a book, which both explain what you need to do to get started in creating almost whatever you want.\n",
            "Positive score: 5.5\n",
            "Negative score: 3.625\n",
            "Objective score: 120.875\n",
            "SENTIMENT OF A REVIEW IS POSITIVE.\n",
            "\n",
            "Review: I've been teaching Flash for about 7 years now at a local university. Over the years I've gone through many books to help students learn all aspects of Flash from the basics of using the timeline, creatign and using symbols, managing tweening, and everything else. Of course I can show the students everything there is to know about Flash but I always found it hard to find a complete training tool that students can use in the classroom and at home to complement my teachings.\n",
            "\n",
            "I pretty much went through every book on the market, whether in be the 'Visual Guide' series or the ones from Adobe or anything in between. I mean literally close to probably 20 or 30 books in that timespan. I even use videos by [...] and other. Trust me, you name, I have bought to try for my class. But always I find I need to use more than 1 book/video series to have my students buy that would cover everything I wanted them to know. Usually I ended up writing up a few lessons to supplement the material as well.\n",
            "\n",
            "But, I can honestly say, I found the most complete learning tool for Flash.\n",
            "\n",
            "This video DVD, combines multiple video series from [...], plus material from multiple books and puts it into one learning tool. I am guessing the DVD framework was created with Adobe Air, because the interface looks fantastic (nothing I ever have seen before). There are seperate menus for videos all broken down into multiple sub categories, there are review questions and quizes and review material. I really can't say enough good things about this DVD, other than if you buy anything else you are wasting your money.\n",
            "\n",
            "There is also a Dreamweaver and Photoshop DVD that I purchased that is equally impressive as well.\n",
            "\n",
            "A must and only buy if you want to learn or help teach Flash CS5\n",
            "Positive score: 11.625\n",
            "Negative score: 3.625\n",
            "Objective score: 134.75\n",
            "SENTIMENT OF A REVIEW IS POSITIVE.\n",
            "\n",
            "Review: I'm a big fan of the other Adobe video products, but this one of f***ing irritating- specifically Kevin Ruse. He repeats the same crap again and again and again and again!! WTH!! Just get one with the bloody lesson!!\n",
            "Positive score: 0.75\n",
            "Negative score: 0.375\n",
            "Objective score: 13.875\n",
            "SENTIMENT OF A REVIEW IS POSITIVE.\n",
            "\n",
            "Review: I was somewhat disappointed ... I'd read that this was a tutorial for Adobe beginners.  I am not a computer novice, and I have used Photoshop for at least a decade, but the instruction may as well have been delivered in Sanskrit.  This instruction is for people who already have a basic working knowledge of Flash.\n",
            "Positive score: 0.5\n",
            "Negative score: 0.5\n",
            "Objective score: 23.0\n",
            "SENTIMENT OF A REVIEW IS NEUTRAL.\n",
            "\n",
            "Review: Books on software put me to sleep.  When I see a video about software, I can't use it to easily flip back and forth to check topics. This combination is the best of both worlds. The book allows me to jump around and browse, while the video keeps me solidly on track.  Flash has a big learning curve for the unitiated.  This product is a great help.\n",
            "Positive score: 1.25\n",
            "Negative score: 0.875\n",
            "Objective score: 31.875\n",
            "SENTIMENT OF A REVIEW IS POSITIVE.\n",
            "\n",
            "Review: I have really enjoyed this training.  It's very thorough and I am able to follow along and put what I've learned into action right away with Flash CS5.  You do need to have the Flash CS5 software.  I'm a self-starter learner and I usually read books or tutorials to learn.  This training is perfect for anyone like me who doesn't have time or the money to sit in classroom to learn how to create flash applications.\n",
            "\n",
            "I've not yet completed the course, but will update my review when I do.  so far, it's been great to learn the interface and get started with Flash.  I also like that there is a reference book that accompanies it, as I like having a book and documentation to refer to as well.\n",
            "\n",
            "I think the way this is set up, with the interactive learning environment, the instructor-led \"lectures\" is great.\n",
            "Positive score: 3.375\n",
            "Negative score: 1.125\n",
            "Objective score: 58.5\n",
            "SENTIMENT OF A REVIEW IS POSITIVE.\n",
            "\n",
            "Review: I love this video.  I'm using it for an independent study and it has taught me a lot. I highly recommend this series.\n",
            "Positive score: 1.875\n",
            "Negative score: 0.25\n",
            "Objective score: 7.875\n",
            "SENTIMENT OF A REVIEW IS POSITIVE.\n",
            "\n",
            "Review: This was the first Learn by Video series course that I've used, and I'm very impressed with the production.  For the most part I'm impressed with the content too, although the introductory level was frustrating at times.\n",
            "\n",
            "The course provides a good introduction to the  CS5 user interface, the Flash tools, file types, and managing the timeline.  There's also a very basic chapter that introduces ActionScript (AS3), which is the coding language used to create complex logic in a Flash application. The AS3 material is extremely basic--too basic in my opinion.\n",
            "\n",
            "Again, I like the production of this video package. The videos can be played in Windows, Mac, or Linux. There are also MP4 versions of the video files, in case you want to view them on a portable device (iPod Touch, iPhone, iPad, etc.). This is helpful if you want to view the videos and work hands-on on your computer, although the small screen would be difficult.  The DVD also includes a collection of asset files that correspond with the lessons.\n",
            "\n",
            "If you are a visual learner or don't prefer thick technical books, then this video course would be a good low-cost alternative. Don't expect to be a Flash expert when you complete this course, but at least you'll understand the basic concepts.\n",
            "Positive score: 5.375\n",
            "Negative score: 3.5\n",
            "Objective score: 91.125\n",
            "SENTIMENT OF A REVIEW IS POSITIVE.\n",
            "\n",
            "Review: This course is well designed and well delivered. The information is presented in a very accessible way and you can tell that the presenters are qualified teachers in the tech industry. They know what their audience is looking for and cover all the relevant material to preempt questions.\n",
            "\n",
            "The topics start with the general concepts such as \"Planning your project\" and \"Saving .fla files\" and get into some coverage of the tools, working with symbols, artwork, text, and the timeline, and then gets into animation, sound, and video. The lesson on Actionscript 3.0 is a great introduction to Object Oriented Programming.\n",
            "\n",
            "Although it is touted as an \"Official Training for Adobe Certified Associate Exam\", this developer cannot believe that it is all the learner will need. Having taken the exam, I can say that there are plenty of concepts in the test that are not covered in this course.\n",
            "\n",
            "With that being said, it is an excellent way to learn Flash, or go over the basics for rustier developers.\n",
            "Positive score: 3.875\n",
            "Negative score: 1.0\n",
            "Objective score: 73.125\n",
            "SENTIMENT OF A REVIEW IS POSITIVE.\n",
            "\n",
            "Review: Recently going through school to obtain an IT degree I had wanted to take Flash as well but just didn't have enough time or cash to fit it into my degree program. This seems like a pretty viable way, with a good price, to get a handle on Adobe Flash CS5.\n",
            "\n",
            "I read the intro, plugged it in and thought I was going to just take off with it. The vocal on the presentation are pleasing and easy to understand. If you miss something it is *so easy* to back up and hear it again. There is closed caption at the bottom, but if you need that, good luck...it is pretty tiny. It took me a while to set things up so that I could use the assets that come along with the classes (or even find them) in order to do a 'hands-on' follow along with the lessons. Was pretty frustrating to set up an environment to do that as you can't save back to the DVD and Flash liked to argue with me about the destination of the items I wanted to save.\n",
            "\n",
            "Ended up just copying the DVD onto my computer and then using the files from there (but starting from the DVD itself) worked fine. Another thing I noticed is that when it opens up the tutorial screen is huge and not scalable. This to me is a royal pain because I wanted to work AND watch the video. There is a *work and watch* mode you can put it into, however then the *watch* portion becomes very small and you cannot minimize it without going back into regular mode (which is not full screen mode, but takes the whole screen without being able to 'down size it' like other items I am used to.\n",
            "\n",
            "Those frustrations aside, it is a sharp presentation that includes tests and items to help you make sure you capture the essence of what is being taught. I really *do* like it and when completed, it touts, that you will have learned all the skills necessary to become a 'Rich Media Communication Adobe Certified Associate'. I haven't gotten quite that far yet, but will come back and update shortly to let you know how *that* goes in conjunction with this particular 'Learn by Video' product.\n",
            "Positive score: 14.125\n",
            "Negative score: 6.375\n",
            "Objective score: 148.5\n",
            "SENTIMENT OF A REVIEW IS POSITIVE.\n",
            "\n",
            "Review: This is informative and also very utilitarian. Complete with video tutorials. It gives me a sense of focus and purpose, when I am given samples.\n",
            "Positive score: 0.625\n",
            "Negative score: 0.125\n",
            "Objective score: 11.25\n",
            "SENTIMENT OF A REVIEW IS POSITIVE.\n",
            "\n",
            "Review: I have always garnered a deep respect and fondness for animation, perhaps because of all of the now classic Disney films my parents treated me to during my childhood.  Although I am not a professional, nor do I care to be one, I do enjoy creating humorous flash animation which I circulate among family and friends.  I did find this video informative and enjoyable.  I certainly learn much more than I thought I would and would recommend this product to anyone with a love of animation and an extra 18 hours to spend.\n",
            "Positive score: 4.25\n",
            "Negative score: 1.125\n",
            "Objective score: 34.625\n",
            "SENTIMENT OF A REVIEW IS POSITIVE.\n",
            "\n",
            "Review: The title of this DVD is Introduction to Adobe Premiere Elements 11, and that is exactly what this is - a short introduction.  Maybe if you nare already an experienced operator of some older version of then program, It will familiarize you with the idiosynchrases of a newer version, but teach you the basics of movie-making and this program, nope!  You need something much more basic than this.  But you usually get what you pay for!\n",
            "Positive score: 1.625\n",
            "Negative score: 0.625\n",
            "Objective score: 27.75\n",
            "SENTIMENT OF A REVIEW IS POSITIVE.\n",
            "\n",
            "Review: I purchased Premier Elements 11 and its difficult well impossible to use. I am proficient Adobe Photoshop user all the way back to Photoshop 7\n",
            "I am new to video, this DVD-ROM is nice, and handy I just wish it was DVD split up in chapters so I can use it in my DVD player while I am working on my computer.\n",
            "Im still using it as a reference when I need to perform some unusual task.\n",
            "This DVD-ROM is a must with Premier Elements 11.\n",
            "Positive score: 2.375\n",
            "Negative score: 2.25\n",
            "Objective score: 33.375\n",
            "SENTIMENT OF A REVIEW IS POSITIVE.\n",
            "\n",
            "Review: Having no experience with Adobe Premiere Elements the \"Learn by Video\" answered a lot of my questions and got me off to a good start using the video editing program.  I would definitely recommended it.\n",
            "Positive score: 1.125\n",
            "Negative score: 1.0\n",
            "Objective score: 15.875\n",
            "SENTIMENT OF A REVIEW IS POSITIVE.\n",
            "\n",
            "Review: Adobe Premiere Elements 11 is difficult for a first-time user. Reading through the manual did not give me the push I needed to start editing my own footage. But Chad Perkins, the voice on this Learn by Video CD, gave me the knowledge and the motivation I needed to start experimenting with some of my own footage on the Timeline. His examples and explanations clarified what for me were difficult problems.\n",
            "\n",
            "Experienced film editors will probably not need this video; people new to film editing and the Adobe program will greatly benefit from it though. The actual creation of short, coherent movies from multiple clips in the video is a teaching technique that registers: I picked up some difficult concepts quickly because of this.\n",
            "\n",
            "Chad Perkins the host is intelligent and personable. His knowledge and subtle sense of humor made the many hours of teaching fly by fast. However, one viewing will not be enough. I'm on my third viewing now (perhaps I'm a slow learner) and I might need a few more. Chad's instruction sinks in better I think if a person is working on a real project. A real project plus Chad's insights are a good combination for mastering Premiere Elements.\n",
            "Positive score: 7.125\n",
            "Negative score: 6.5\n",
            "Objective score: 92.375\n",
            "SENTIMENT OF A REVIEW IS POSITIVE.\n",
            "\n",
            "Review: I bought Adobe Premier Elements 11 because I wanted to learn how to edit the footage that I was able to get out of my new Canon rebel T3I. I figured that because I was a whiz at Microsoft office (Excel, Word, PowerPoint, etc.) that I could just turn it on and it would be easy to pick it up. What I learned was that just because you're a whiz at 1 kind of software made by 1 company doesn't mean anything when you go to software made by another company. I could not get past just turning it on. Everything was so different. I got worried and figured that I needed help to learn this. I didn't want to spend some more money but if I didn't the software that I had already bought was going to be worthless to me.\n",
            "\n",
            "I sure am glad that I chose to get this. In the first 30 seconds of the DVD I learned an easier way to add media (video, audio, pictures) than what I had learned in studying Adobe's website for an hour. After watching it all, it seems so simple now. The narrator does move very quickly through the functions and how to work them so the pause button on my DVD player got a real workout. With the DVD paused I was able to try out some of his tips on my computer while I watched it. This was so helpful!\n",
            "\n",
            "I recommend this to anyone who is new to editing video. This really helped me understand how easy it is to work the software and also just how much the software will do. By the end of the DVD I had learned things that I didn't even know that it could do. Just remember that he goes quickly and if you want to try it out on the computer along with watching the DVD that you will have to become a pro at pausing the DVD player.\n",
            "\n",
            "Now that I know how to work Premier Elements to its full potential, Steven Spielberg and Martin Scorsese better watch out. I will soon be turning out better video than anyone in Hollywood! I know that a video review would be more logical for this, but I don't have a minute to spare. I am anxious to get started making incredible video.\n",
            "Positive score: 12.0\n",
            "Negative score: 4.625\n",
            "Objective score: 142.375\n",
            "SENTIMENT OF A REVIEW IS POSITIVE.\n",
            "\n",
            "Review: gets to the mechanics of the the software very succinctly.  It is augmented well by the book 100 (actually more--another 5 star) tips on Elements .\n",
            "Positive score: 0.375\n",
            "Negative score: 0.375\n",
            "Objective score: 12.25\n",
            "SENTIMENT OF A REVIEW IS NEUTRAL.\n",
            "\n",
            "Review: Using this to teach me how to use premiere elements 11, made me realized just how easy it is to use, I recommend this to anyone, you won't be sorry.\n",
            "Positive score: 1.0\n",
            "Negative score: 1.375\n",
            "Objective score: 10.625\n",
            "SENTIMENT OF A REVIEW IS NEGATIVE.\n",
            "\n",
            "Review: Human Japanese is a truly superb introduction to what from the outside seems a daunting task---learning an Asian language.  Instruction in grammar and usage in this CD language program is congenial and clear.  Words, phrases, and sentences are in clickable format with instant, clear, and repeatable hearing of essential Japanese vocabulary.  Cultural notes add to the over-all excellence of the program.  With a reasonable price and rapid and courteous customer support, Human Japanese instructs and satisfies.\n",
            "Positive score: 6.5\n",
            "Negative score: 0.5\n",
            "Objective score: 38.0\n",
            "SENTIMENT OF A REVIEW IS POSITIVE.\n",
            "\n",
            "Review: I got Human Japanese as a demo from its website. Within a week I knew I had to purchase it, and it's one of the best programs I have on my entire computer.\n",
            "\n",
            "HJ eases you into the Japanese language, beginning with the hiragana alphabet. It doesn't just show you the character, it demonstrates HOW to write it, with proper stroke order. Also, you can click on any Japanese characters, and it will pronounce them for you very clearly. There is even a quick demonstration on how to pronounce words properly as opposed to the \"foreign\" way.\n",
            "\n",
            "There are many quizzes as you progress through the hiragana and katakana to help you remember. (Although I also made my own flash cards to assist me - that was enormously helpful.) You will also learn Japanese vocabulary and grammar in an easy-to-understand way.\n",
            "\n",
            "It is now June of 2008 and I can confidently write all of the kana, as well as write and properly pronounce many sentences. It's inspired me to try to find Japanese pen pals, and makes me want to visit Japan as soon as I can!\n",
            "\n",
            "This is a very, very user-friendly program, and makes learning Japanese very rewarding and easy, even without a classroom.\n",
            "Positive score: 7.125\n",
            "Negative score: 1.75\n",
            "Objective score: 78.125\n",
            "SENTIMENT OF A REVIEW IS POSITIVE.\n",
            "\n",
            "Review: My first experience with Human Japanese was the very first version released. It was a simple program that, while not very attractive to look at, presented Japanese in a simple way that anyone could really understand. When I heard that there was a Human Japanese 2.0, I rushed to get the demo and eventually the full version.\n",
            "\n",
            "Well, first let me talk about Human Japanese in general. As the name implies, the program tries to teach you Japanese in a \"Human\" way. Without fancy terminology or complicated explanations, but rather doing it in a way that a tutor might teach you. Giving you little hints to remember writing, or making silly acronyms to remember concepts, this program tries to do things like that. It certainly is refreshing to see that kind of teaching being used in a computer program.\n",
            "\n",
            "Human Japanese 2.0 is broken up into 40 lessons, some focused on grammar while others try to steer the reader towards learning new words and expressions along with writing. At the end of each lesson, there is usually a quiz to test your knowledge of the things learned in that chapter. These can range from small multiple choice quizzes, matching games, and an \"Endless\" type quiz which tests your vocab.\n",
            "\n",
            "Stuck in between every seven or so lessons are chapters devoted entirely to culture. These small 4-7 page bits are a treat to read. They talk about things like Geography, Prices in Japan, and Bathing among other things. Many more of these for Human Japanese 3.0 would certainly be nice.\n",
            "\n",
            "The changes from Human Japanese 1 are certainly noticeable at first glance. The interface is changed from the plain white background of 1.0 to a nice background with shades of green and silhouettes of trees. There is now a small search bar on the right side of the screen to look up any vocab term that has appeared in the program. There are also visual aids added to the lessons which, while probably not amazingly helpful, do look nice.\n",
            "\n",
            "Unfortunately, the changes from Human Japanese 1 are mainly visual. Although there are now 40 lessons, they are mostly just each of the 20 lessons from the previous version split into two lessons. This means that most of the 40 lessons are identical to content in the last version, although they tend to have a bit more meat on them (They are a bit longer, and most have a few extra vocab added).\n",
            "\n",
            "The interface change is nice, but when making Human Japanese 3.0, I'd urge them to take the time to make up more lessons to further the readers knowledge.\n",
            "Positive score: 8.875\n",
            "Negative score: 3.875\n",
            "Objective score: 211.25\n",
            "SENTIMENT OF A REVIEW IS POSITIVE.\n",
            "\n",
            "Review: This is the first language software that I have purchased and I love it!  The way in which the information is organized makes it easy to learn.  I have not even gotten far in the chapters but feel confident in what I have learned already.  I was watching an episode of Naruto with my boyfried and was pleased when I recognied the syllables for the \"key word\" or \"word clue\" just as easily as I recognize ABC.  I highly recommend this product!\n",
            "Positive score: 4.0\n",
            "Negative score: 0.375\n",
            "Objective score: 28.625\n",
            "SENTIMENT OF A REVIEW IS POSITIVE.\n",
            "\n",
            "Review: Human japanese is the best pc program for learning japanese. Easy to juse and good quises to help you remember. 10/10\n",
            "Positive score: 1.875\n",
            "Negative score: 0.25\n",
            "Objective score: 8.875\n",
            "SENTIMENT OF A REVIEW IS POSITIVE.\n",
            "\n",
            "Review: If you want to learn or teach Japanese I would highly recommend Human Japanese. I was hooked after the first chapter and have made great progress. A nice user interface that includes excellent tools to make learning more productive and the high-quality audio is extremely helpful. Five Stars!\n",
            "Positive score: 3.625\n",
            "Negative score: 0.375\n",
            "Objective score: 24.0\n",
            "SENTIMENT OF A REVIEW IS POSITIVE.\n",
            "\n",
            "Review: Human Japanese has an elegant, yet simple user interface that walks users through a storybook of learning Japanese.  The lessons are simple, yet effective, and contain lots of cultural and lingual information one could only discover by living in Japan.  I'm teaching English in Japan, and I even learned things I hadn't realized yet.\n",
            "\n",
            "The style of writing is warm and has a conversational tone that keeps me reading.  That's something I think is really important when learning by book or even software.  It reads like a really knowledgable and interesting....friend.  The easy-access reference on the side let's you look up translations without jumping out of the lesson.  That's really convenient.\n",
            "\n",
            "I've tried the declan software and the rosetta stone software and it's all about vocab and phrases or trying to make you remember the words through pictures.  Just reading the introduction chapter of Human Japanese really shows how much the makers of this software care personally about teaching the fundamentals of Japanese.  The other companies just make software for learning many languages to make money.\n",
            "\n",
            "And I've just got to mention:  all the Japanese words in the text can be clicked on to hear the pronounciation.  It's really nice.  Also, there is a customizable review game for Japanese numbers.  It's awesome.  The Japanese number system is pretty simple, but listening to big numbers in any language is a pain.  The game will generate random numbers in the range you want and read them in Japanese and quiz you.\n",
            "\n",
            "If you are starting Japanese or if you want a really inexpensive software that helps you build some vocabulary and hear real Japanese pronounciation, this is it.\n",
            "Positive score: 12.5\n",
            "Negative score: 3.125\n",
            "Objective score: 122.375\n",
            "SENTIMENT OF A REVIEW IS POSITIVE.\n",
            "\n"
          ]
        }
      ],
      "source": [
        "for i, pol in enumerate(polarityList):\n",
        "  review = reviews[i]\n",
        "  print(\"Review:\", review)\n",
        "  print(\"Positive score:\", pol[0])\n",
        "  print(\"Negative score:\", pol[1])\n",
        "  print(\"Objective score:\", pol[2])\n",
        "\n",
        "  if(pol[0] > pol[1]):\n",
        "    print(\"SENTIMENT OF A REVIEW IS POSITIVE.\")\n",
        "  elif(pol[0] == pol[1]):\n",
        "    print(\"SENTIMENT OF A REVIEW IS NEUTRAL.\")\n",
        "  else:\n",
        "    print(\"SENTIMENT OF A REVIEW IS NEGATIVE.\")\n",
        "\n",
        "  print()"
      ]
    },
    {
      "cell_type": "markdown",
      "source": [
        "## Sentiment Analysis using SpaCy"
      ],
      "metadata": {
        "id": "vS0wcOLKbV81"
      }
    },
    {
      "cell_type": "markdown",
      "source": [
        "Reference: [from class modules] https://github.com/Jcharis/Natural-Language-Processing-Tutorials/blob/master/NLP_with_SpaCy/NLP%20with%20SpaCy-%20Adding%20Extensions%20Attributes%20in%20SpaCy(How%20to%20use%20sentiment%20analysis%20in%20SpaCy).ipynb"
      ],
      "metadata": {
        "id": "yttQrc2mfvhy"
      }
    },
    {
      "cell_type": "code",
      "source": [
        "import spacy\n",
        "from spacy.tokens import Doc\n",
        "from nltk.sentiment.vader import SentimentIntensityAnalyzer"
      ],
      "metadata": {
        "id": "OS87VZ6OXVcy"
      },
      "execution_count": 71,
      "outputs": []
    },
    {
      "cell_type": "code",
      "source": [
        "nlp = spacy.load(\"en_core_web_sm\")"
      ],
      "metadata": {
        "id": "6_uOBMWdbdc8"
      },
      "execution_count": 86,
      "outputs": []
    },
    {
      "cell_type": "code",
      "source": [
        "nlp.pipeline"
      ],
      "metadata": {
        "colab": {
          "base_uri": "https://localhost:8080/"
        },
        "id": "ektWjA5vbsNE",
        "outputId": "a5cdbe78-deda-4c99-debe-ae87e6fd386a"
      },
      "execution_count": 87,
      "outputs": [
        {
          "output_type": "execute_result",
          "data": {
            "text/plain": [
              "[('tok2vec', <spacy.pipeline.tok2vec.Tok2Vec at 0x7cfaebe1ab00>),\n",
              " ('tagger', <spacy.pipeline.tagger.Tagger at 0x7cfaebe1af80>),\n",
              " ('parser', <spacy.pipeline.dep_parser.DependencyParser at 0x7cfaeaca4e40>),\n",
              " ('attribute_ruler',\n",
              "  <spacy.pipeline.attributeruler.AttributeRuler at 0x7cfaeaa2a440>),\n",
              " ('lemmatizer',\n",
              "  <spacy.lang.en.lemmatizer.EnglishLemmatizer at 0x7cfaebe45e80>),\n",
              " ('ner', <spacy.pipeline.ner.EntityRecognizer at 0x7cfaeaca4f90>)]"
            ]
          },
          "metadata": {},
          "execution_count": 87
        }
      ]
    },
    {
      "cell_type": "code",
      "source": [
        "sent_analyzer = SentimentIntensityAnalyzer()"
      ],
      "metadata": {
        "id": "N6JpeZE7eVUS"
      },
      "execution_count": 83,
      "outputs": []
    },
    {
      "cell_type": "code",
      "source": [
        "def sentimentScores(docx):\n",
        "    return sent_analyzer.polarity_scores(docx.text)"
      ],
      "metadata": {
        "id": "LRvbh_XMe5cU"
      },
      "execution_count": 84,
      "outputs": []
    },
    {
      "cell_type": "code",
      "source": [
        "Doc.set_extension(\"sentimenter\",getter=sentimentScores)"
      ],
      "metadata": {
        "id": "y44RWX6afrlF"
      },
      "execution_count": 85,
      "outputs": []
    },
    {
      "cell_type": "code",
      "source": [
        "for review in noStopReviews[:100]:\n",
        "  print(review)\n",
        "  rev = nlp(review)\n",
        "  sent = (rev._.sentimenter)\n",
        "  print(sent)\n",
        "\n",
        "  #getting the maximum score for sentiments\n",
        "  maxScore = max(sent, key=sent.get)\n",
        "\n",
        "  #sentiment based on the maximum score\n",
        "  if maxScore == 'neg':\n",
        "      sentiment = \"Negative\"\n",
        "  elif maxScore == 'neu':\n",
        "      sentiment = \"Neutral\"\n",
        "  else:\n",
        "      sentiment = \"Positive\"\n",
        "  print(\"SENTIMENT OF A REVIEW: \",sentiment)\n",
        "\n",
        "  print()"
      ],
      "metadata": {
        "colab": {
          "base_uri": "https://localhost:8080/"
        },
        "id": "g7rAjPVWgQ1G",
        "outputId": "ea8be2c4-1dc6-4071-8a90-9e98b9236b3f"
      },
      "execution_count": 99,
      "outputs": [
        {
          "output_type": "stream",
          "name": "stdout",
          "text": [
            "materials arrived early excellent condition however money spent really shouldve come binder loose leaf\n",
            "{'neg': 0.128, 'neu': 0.667, 'pos': 0.206, 'compound': 0.34}\n",
            "SENTIMENT OF A REVIEW:  Neutral\n",
            "\n",
            "really enjoying book worksheets make review goals make reminds human sexuality classwork\n",
            "{'neg': 0.0, 'neu': 0.749, 'pos': 0.251, 'compound': 0.5709}\n",
            "SENTIMENT OF A REVIEW:  Neutral\n",
            "\n",
            "taking class dont waste money called book 14000 book isint even bound loose leafs provide binder turns buy access book mcgraw hill connect core 7000 book complete waste money\n",
            "{'neg': 0.07, 'neu': 0.789, 'pos': 0.141, 'compound': 0.3322}\n",
            "SENTIMENT OF A REVIEW:  Neutral\n",
            "\n",
            "book missing pages important pages couldnt answer test questions never happen\n",
            "{'neg': 0.169, 'neu': 0.692, 'pos': 0.138, 'compound': -0.1027}\n",
            "SENTIMENT OF A REVIEW:  Neutral\n",
            "\n",
            "used learnsmart officially say amazing study tool quickly simply adapts style learning access anytime go start using learnsmart quickly realize best way learn study business student use learnsmart accounting class however use accounting ii class grade difference accounting accounting ii whole letter grade thanks learnsmart every college student definitely check\n",
            "{'neg': 0.0, 'neu': 0.772, 'pos': 0.228, 'compound': 0.9274}\n",
            "SENTIMENT OF A REVIEW:  Positive\n",
            "\n",
            "strong backgroung good read quite date takes holistic approach subject lack references bit surprising jorge\n",
            "{'neg': 0.106, 'neu': 0.509, 'pos': 0.384, 'compound': 0.7184}\n",
            "SENTIMENT OF A REVIEW:  Positive\n",
            "\n",
            "live mars never heard internet good book\n",
            "{'neg': 0.286, 'neu': 0.714, 'pos': 0.0, 'compound': -0.3412}\n",
            "SENTIMENT OF A REVIEW:  Neutral\n",
            "\n",
            "got book amazon ended saving lot money great condition extremely useful\n",
            "{'neg': 0.0, 'neu': 0.471, 'pos': 0.529, 'compound': 0.8399}\n",
            "SENTIMENT OF A REVIEW:  Positive\n",
            "\n",
            "happy purchase shipment super fast thanks\n",
            "{'neg': 0.0, 'neu': 0.222, 'pos': 0.778, 'compound': 0.8885}\n",
            "SENTIMENT OF A REVIEW:  Positive\n",
            "\n",
            "recieved timely manner book great condition markings ledgible ordering site school books saved 200\n",
            "{'neg': 0.0, 'neu': 0.635, 'pos': 0.365, 'compound': 0.7845}\n",
            "SENTIMENT OF A REVIEW:  Positive\n",
            "\n",
            "maybe marketing background desperately want learn startup get hardly anything text tried hard tread writing learn something useful chapter chapter seems exact thing overly wordy rambling unnecessarily academic writing comprehensible message behind strategies apply business organization make sense feels almost like im reading paper college student bsed way whole bunch long words cryptic sentences order sound impressive ripoff paid 70 useless book ive paid research process ive read 16 books thus far help venture reason im giving two stars one star first six chapters ive read two actually made sense one international marketing good job explaining technology limitations countries ways foreign citizens adapt use technology actually helpful information im going use second legal ethical aspects using internet gave extremely concise explanation lots info easily understandable unfortunately ive read chapter like pretty much every ebusiness book ive picked far getting old\n",
            "{'neg': 0.056, 'neu': 0.737, 'pos': 0.207, 'compound': 0.9687}\n",
            "SENTIMENT OF A REVIEW:  Positive\n",
            "\n",
            "textbook used ecommerce course able understand stay focused read\n",
            "{'neg': 0.0, 'neu': 0.755, 'pos': 0.245, 'compound': 0.3818}\n",
            "SENTIMENT OF A REVIEW:  Neutral\n",
            "\n",
            "worth price concepts pretty superficial authors also little behind times\n",
            "{'neg': 0.0, 'neu': 0.611, 'pos': 0.389, 'compound': 0.6249}\n",
            "SENTIMENT OF A REVIEW:  Positive\n",
            "\n",
            "book served textbook first 3course series internet marketing mba course acceptable textbook broad survey ecommerce academic use would worth considerable cost someone need course academic course book serves base providing definitions explanations broad range topics course book used introduce number topics discussed detail class discussions supplemented case studies videos articles depth nonacademic reader would enrichment elements available thus would likely find book less useful book explain anything set online store write blog article configure analytics etc decent text someone looking broad view ecommerce emphasis defining terms covering big picture recommend book anything required course text\n",
            "{'neg': 0.0, 'neu': 0.895, 'pos': 0.105, 'compound': 0.8228}\n",
            "SENTIMENT OF A REVIEW:  Neutral\n",
            "\n",
            "love book structurated fact contains details graphics newbie lost minute also pretty amazing list sites webmaster tools makes book must everybodys internet marketers shelf\n",
            "{'neg': 0.069, 'neu': 0.597, 'pos': 0.334, 'compound': 0.872}\n",
            "SENTIMENT OF A REVIEW:  Positive\n",
            "\n",
            "great deliverydoing assignments write shipping charge little pricy book great condition smell like smokeas books purchased thank\n",
            "{'neg': 0.0, 'neu': 0.496, 'pos': 0.504, 'compound': 0.9217}\n",
            "SENTIMENT OF A REVIEW:  Positive\n",
            "\n",
            "book delivered faster told great condition book required text college class well written\n",
            "{'neg': 0.0, 'neu': 0.64, 'pos': 0.36, 'compound': 0.7351}\n",
            "SENTIMENT OF A REVIEW:  Positive\n",
            "\n",
            "required buy book marketing 3721 class rarely used even felt text dated informational\n",
            "{'neg': 0.0, 'neu': 1.0, 'pos': 0.0, 'compound': 0.0}\n",
            "SENTIMENT OF A REVIEW:  Neutral\n",
            "\n",
            "didnt help much course didnt learn much look information web pass course\n",
            "{'neg': 0.17, 'neu': 0.83, 'pos': 0.0, 'compound': -0.3089}\n",
            "SENTIMENT OF A REVIEW:  Neutral\n",
            "\n",
            "disappointing textbook start lack color dismal less importance however marketing book expected little eyegrabbing importantly book regularly cites wikipedia source caught least two examples incorrect information discussing companies fit certain profiles one example states kit kat nestle brand produced hersheys also uses companies examples long since bought companies neither two items errodes core idea marketing easily spotted makes difficult trust core information something simple little research could correct errors along wikipedia citing dont know would trust source authoritive\n",
            "{'neg': 0.147, 'neu': 0.672, 'pos': 0.182, 'compound': 0.3461}\n",
            "SENTIMENT OF A REVIEW:  Neutral\n",
            "\n",
            "book provides many useful knowledge emarketing basic steps really enjoy read\n",
            "{'neg': 0.0, 'neu': 0.585, 'pos': 0.415, 'compound': 0.7501}\n",
            "SENTIMENT OF A REVIEW:  Positive\n",
            "\n",
            "ive using dreamweaver predecessor macromedias ultradev many years someone experienced web designer course highlevel review cs5 version dreamweaver doesnt go great enough level detail find useful hand great tool someone relative novice web design starts basic overview html continues concepts necessary build modern web site someone goes course exit enough knowledge create something want dowithin reason dont expect go build entire ecommerce system class belt important note theres long gap site design actual implementation course teaches implement design user interface overall user experience different subject isnt covered hereits possible great implementation absolutely abysmal design speak experience said youre novice relative newcomer experienced web designer wants refresher course good way\n",
            "{'neg': 0.08, 'neu': 0.806, 'pos': 0.114, 'compound': 0.3222}\n",
            "SENTIMENT OF A REVIEW:  Neutral\n",
            "\n",
            "demo done pc version references mac version needed video closedcaptioned set bookmarks selftests chapter well starts html basic stuff includes topics planning website defining site dw creating new web page adding text formatting css images rich media links page layout w css tables forms reusable content testing etc section subsections video subsubsections flesh material one regarding project management css includes discussion css print however tutorial best way lay site using css anything like youll need book two subject site helpful resources eg checklists project management site development helpful urls decent introduction creating web sites sounds weird though like robot stephen hawkings voicebox halting clipped delivery tends slightly chatty repeat material bad could helpful retention people new subject ui top interface theres previous video button next video button next video button disabled last video chapter get next one youll use navigation last item test kinda dumb ui choice initially confusing could changed read take test instead putting virtual dead end sidebar normally hidden cued display mouse strays video area information current video listslinks videos chapter title bar topleft tabs dropdown navigate content theres watch work mode shrinks video display let work copy dreamweaver included move video window around resize may kind tiny watch mode dual monitor setup youll want drag standard mode video player screen standard mode resized smaller either good value want learn dreamweaver\n",
            "{'neg': 0.063, 'neu': 0.779, 'pos': 0.158, 'compound': 0.9661}\n",
            "SENTIMENT OF A REVIEW:  Positive\n",
            "\n",
            "youve wanting learn create website either lacked confidence knowledge affordable combination book video course enable learn leisure twelve hours video training included package split small absorbable sections courseware certified associate approved courseware dreamweaver premier product website creation offers several new advantagesfeatures user improved dynamic applications new css features offer control design turn individual css properties see affect designs fuse box model elements troubleshoot directly within dreamweaver confident dvdbook bundle simply bypass review read shorter versions long review keep reading software youll learn lot basics however already web designer lot experience may find lot material redundant hand anxious learn web design perfect place start taking course cost lot course quite affordable decide hand along someone else youll getting twelve hours video training adobe certified instructors reference book lesson files copy certain files iphone ipod ipad hearing impaired script dialogue runs along bottom narrator speaks stop video time get closer look done andor absorb material end section test enable know progressing section bookstore easily pick copy glance book see dvd ill try describe dvd buyer get good understanding decide adobe dreamweaver cs5 need ive simply listed words contents tried briefly explain youll learning videos contents 1 html refresher excellent section someone already knows html could use refresher form crash course youll find url overview html intro tags browsers read tags differently dreamweaver behind scenes 2 dreamweaver introduction youll finally able learn wysiwyg youll introduced dreamweaver design code split screens welcome screen youll learn dreamweaver interface workplace switcher softwares workplaces arranging saving workspace customize workspace setting preferences dhow customize insert bar 3 getting quick start youll learn several starter layouts customize css build starter layout page create set header area homepage add navigation bar shows customize css use css format main content youll learn add links using css formatting modify html tags background color using css add page border 4 planning website youll learn project management five videos site development two videos test site two videos opt play videos section consecutively 5 defining site dreamweaver youll learn defining site benefits defining course setup copying storing files youll need website defining site dreamweaver use files panel 6 creating new web page youll learn create web page using welcome screen save web page considerations needed naming page assign proper title web page youll learn meta tags important 7 adding tex content youll learn three ways add text webpage typing copyingpasting importing set headings create lists web pages unordered ordered definition several ways highlighting text insert special characters 8 formatting text css youll receive overview text formatting options css youll learn manage store styles site create css file link web pages create styles html tags create class styles edit styles youll learn add font styles custom font stack youll learn styles created page properties css styles printing use code navigator 9 images rich media youll learn pick right web image choose file format project importance inserting alternate text inserting images understanding creating file paths youll learn use assets panel modify images youll learn work photoshop smart objects use flash files enrich site use flash video flv learn optimize use favorites panel 10 creating links youll learn insert hyperlinks different kinds links create link internet resource create local lin document within single site link word microsoft excel file create anchor link create email lin recipients address prefilled youll learn images image mapping clickable hotspots create rollover images insert navigation bar fireworks 11 page layout css youll learn background information css master mechanics css page layout understand box model insert div tag add different styles div tags css control page content youll learn edit css style div tag insert div tag increase efficiency options using div tags fine tuning page different styles customize links make site attractive consistent center page content use ap elements use inspection tools edit troubleshoot youll learn four types positioning css youll learn use css selector types tools 12 tables youll learn easy create table options use modify table use css formatting tables match text rest website importing tabular data merging splitting table cells working rows columns table alignment border background colors centering 13 forms youll learn create basic use text fields common html elements ensure user input gets back form validation checkboxes submit buttons validate forms use spry validation implement ajax 14 reusable content youll learn templates library items use library modify library item keeping pages contemporary converting html template creating additional pages based template controlling working editable regions template application youll learn detach page template 15 testing youll learn use spellchecker search fix broken links preview work check browser compatibility dealing browser issues allow users test site offer valuable feedback learn page loading time dfile size dreamweaver extensions 16 publishing maintenance youll learn manage files set web server upload download files directly site dreamweaver learn expand files incontext editing allows nontechnical users edit web page subversion control integration features youll also treated four bonus videos long review hopefully anyone looking core training web communication know exactly receive purchase program\n",
            "{'neg': 0.014, 'neu': 0.821, 'pos': 0.165, 'compound': 0.9989}\n",
            "SENTIMENT OF A REVIEW:  Positive\n",
            "\n",
            "ive working dreamweaver years learning go got chance request videos thought id get chance learn dreamweaver finally maximize capabilities totally blown away videos superb female voiceover pleasant straightforward theres attempt humor attempt replicate classroom course program uses live action sequences walk us specific examples step step amazed many dreamweaver features havent used didnt even notice web designer know html css dont im sure opening video enough like wordpress dive negative comment offer dvd really hard dig box grab scissors getting started\n",
            "{'neg': 0.075, 'neu': 0.728, 'pos': 0.197, 'compound': 0.8967}\n",
            "SENTIMENT OF A REVIEW:  Positive\n",
            "\n",
            "ive creating websites dreamweaver years experience taught one thing im hack web designer recently trying learn industry css standards heard dreamweaver made great advances css management cs4 cs5 im embarrassed say version using got chance get reviewer copy training set jumped two reasons first mulling spending money upgrade dw cs5 second always missing lot dws capabilities obvious upgrade css management upgrades alone value training couldnt happier advanced tips tricks resource exhaustive boot camp web page authoring fairly thorough training taking site planning design creation publishing watched videos beginning end start pretty basic html refresher move meatier dw specific training see returning several sections later brush personally css media forms training videos enough justify price tag training lessons short easily digestible liked broke training 310 minutes time little indepth googling subjects like text wrapping absolute positioned css objects wont checking version dw adobe certification training aid starts low level introduction goes entire dw web creation process wonderfully designed interface great overview using dw isnt substitute spending time working dw jump start novice expert tips tricks reference highly recommend anyone trying learn dw even web design general css placement section enlightening coverage topic able find authors delivery videos great interface best intuitive seen bad thing say closed captioning defaulted times covered bottom properties table bottom screen sometimes close see things author pointing absolutely wonderful product\n",
            "{'neg': 0.089, 'neu': 0.719, 'pos': 0.192, 'compound': 0.9849}\n",
            "SENTIMENT OF A REVIEW:  Positive\n",
            "\n",
            "decided trying number products switch gold standard web site management dreamweaver bought books lynda courses still found wanting perfect product think reviewers confused dreamweaver product arent design dont already know want picking dreamweaver going help product reviewed use dreamweaver design web expect already design part used pure html editor beginners best way go youll learn html css along exactly code changes page dw time savings automation said also massively complex steep learning curve thats learn adobe dreamweaver comes clearly takes learning dw get designing web pages excellent addition library excellent companion dreamweaver thing might need one large reference books dw refer back questions\n",
            "{'neg': 0.029, 'neu': 0.786, 'pos': 0.184, 'compound': 0.9611}\n",
            "SENTIMENT OF A REVIEW:  Positive\n",
            "\n",
            "video wellpaced delivered understandable manner allows work software watching following directions instructor candyce mairs book reference guide something would access specific need question overall learn better seeing reading video starts basics builds logically everything want teaching videobook\n",
            "{'neg': 0.0, 'neu': 0.893, 'pos': 0.107, 'compound': 0.4939}\n",
            "SENTIMENT OF A REVIEW:  Neutral\n",
            "\n",
            "ive taken classes read books dummies books cant seem learn dreamweaver well enough design web site way want really hoped dvd video adobe approved would helped fell short first want give kudos way software interface designed made easy navigate find specific contents general ease candyce mairs teacher gives excellent explanations speaks clearly good pace pace isnt fast slow never rewind listen instructions course begins absolute basics really breaks everything dreamweaver knew basics hour skipped already knew first problem training video taught design websites 1990 look dated old waste time learning way anyone wanting design web site would want one looks dated blah videos finally get around showing css style designing show example web site current design style exactly wanting learn dont use trainingwhat joking go back 1990 styled site show beginning videos try update revamp css wanted focus css portion needs missing info held back finally learning make modern web site using dreamweaver sample used teach css many bells whistles like scroll thru site background didnt move background great illustration photo great drop sub nav links different colors maps columns video etc modern bells whistles yes teach many features old 1990 style css complete different way putting things program really wish used sample showed great css total bummer plenty experience web design im expert worked many programs years well designed many custom sites look modern unfortunately still search find info need use dreamweaver way want\n",
            "{'neg': 0.101, 'neu': 0.75, 'pos': 0.15, 'compound': 0.8895}\n",
            "SENTIMENT OF A REVIEW:  Positive\n",
            "\n",
            "candyce mairs offering excellent distintive presentational style perfectly paced always directly point hand learned much adobes new version dreamweaver cs5 begin explain particular note assets dreamweaver related files included dvd making personal practice skills learned snap new web design candyce covers many foundational skills html css along dreamweaverspecific functionality would give title six 6 stars could addition thanking candyce mairs also applaud folks video2brain great pedagogical tools thank facilitated learning cs5 ramped fashion dennis woodhall mis woodhall web design hosting\n",
            "{'neg': 0.0, 'neu': 0.763, 'pos': 0.237, 'compound': 0.9698}\n",
            "SENTIMENT OF A REVIEW:  Positive\n",
            "\n",
            "spent several hours lesson love detailed clear instructions graph audio video playback nice cut repeat lesson need come back review convenience lesson starts fundamental knowledge url allow students know source code layout use tools maneuver dreamweaver app excellent tool us uses tools tools dont even know function nice teacher like go easily without calling expensive tech support highly recommend teaching series\n",
            "{'neg': 0.026, 'neu': 0.621, 'pos': 0.353, 'compound': 0.9758}\n",
            "SENTIMENT OF A REVIEW:  Positive\n",
            "\n",
            "im 34 course using dreamweaver 10 years find good take course learn program mostly learned good learn things wasnt aware find instructors voice pleasant thorough although thought took way long get business didnt really feel like learning anything well lessons also seemed wander course much liking also found didnt prep well enough lesson telling files needed setting dreamweaver lesson frequently going dvds assets folder get files missing lessons luckily using dreamweaver long enough know troubleshoot find missing parts wonder beginner would get confused know without careful lesson setup could swear mistakes lessons end quiz answers end lesson questions confusing great way learn visually much better book opinion would ask good deal attention leaving student dark times\n",
            "{'neg': 0.111, 'neu': 0.663, 'pos': 0.226, 'compound': 0.9561}\n",
            "SENTIMENT OF A REVIEW:  Positive\n",
            "\n",
            "honest review adobe dreamweaver learn video dvd comes standard plastic disc holder cardboard box part whole box package come dreamweaver cs5 thought standard video dvd fact program executed without installing anything computer running pc workstation antivirusspyware programs gone yet seem malware associated video contains 12 hours video instruction accompanied printed guide book teach fundamentals adobe dreamweaver cs5 also goes basic principles fundamentals web design presenter candyce mairs clear eloquent speaker adobe certified instructor video runs middle window select sidebar available hidden first chapters basic intended little backgroundexperience terminology url domain name yeah goes fundamentals like subtitle bottom video first chapters basic actually started writing review video running monitor dualmonitor setup first chapter dedicated html fundamentals also acts refresher experience second chapter introduction dreamweaver chapter 3 quick start chapter gets user setup putting together homepage basic starter layouts building homepage creating header area etc tests end chapter help reinforce youve learned liked book designed beginners first chapters mostly overview fundamentals dvd comes guide book helps video brought around read without video course layout logical therefore makes sense ive seen many poorly designed guides jump place video guide one video speaker talking really helps follow screen look like caption bottom video major positive like startup straightforward expected big deal see could problem know enable autostart whose antivirus prevents startup exe file dvd could came trial version dreamweaver big deal fast internet connection know people stuck slow dsl speed end youll familiar programs interface hopfully learn use essential commands tools create design websites also identifies areas typically easily overlooked book printed guide glued onto packaging sticky gel dots though separated box immediately obvious ended carrying entire package wish book kept separated maybe pocket big deal overall nice beginners guide becoming familiar using adobe dreamweaver cs5 highly recommended\n",
            "{'neg': 0.018, 'neu': 0.833, 'pos': 0.149, 'compound': 0.9896}\n",
            "SENTIMENT OF A REVIEW:  Positive\n",
            "\n",
            "dreamweaver mx2004 since came back spent years feel like know real well still familiar tables opposed css thought would great introduction problem looking video simplifies things lot getting intuitive explanation things work way understand knowing work sufficient im tempted delve rich full attributes dreamweaver cs5 explained video albeit difficult understand advanced features wont video opening salvo chock full example url type address bar etc start get areas css get introduction beneficial somewhat newbie get advanced lesson flies things find hard understand get one appreciate fact walks everything step step even risk boring know people finally arriving section need learn appreciate moving lightning speed im holding buying dreamweaver cs5 although got upgrade photoshop cs5 love mx2004 eligible upgrade version could qualify upgrade would grab learning curve css steep price full version mx2004 already giving hesitation upgrade say take leap full version tutorial one would use also recommend datahookproductlinklinked classalinknormal hrefadobedreamweavercs5ondemanddp0789744449refcm_cr_arp_d_rvw_txtieutf8adobe dreamweaver cs5 demanda makes good reference guide point get new version cs5 dreamweaver point entire video series much depth analysis see viewing bunch video tutorials easiest way indoctrinate newest version recommend\n",
            "{'neg': 0.072, 'neu': 0.734, 'pos': 0.195, 'compound': 0.9786}\n",
            "SENTIMENT OF A REVIEW:  Positive\n",
            "\n",
            "summary extremely slow pace awful stilted narration redundant lessons completely unprofessional page designs imagine myspace page designed 13yearold however complete novice disc teach lot prepared slow pace youve never designed web page may get started probably leave lost although spends lot time explaining things almost elementary use mouse cover much basic web design fundamentals would get beginning course school shown extremely childish examples actual visual design layout web pages designed web page probably 30 minutes material end course useful dont mind clawing eyes frustration could take time watch earlier lessons learn dreamweaver interface however another reviewer noted detailed index spend lot time skipping lessons find salient parts many lessons talk going teach next lesson ie teaching nothing used code basic html hand never learned css wanted learn tutorial expected part lessons obviously majority also got dreamweaver ago havent used years patient first hours basic interface issues hounded upon started skipping lessons author doesnt give detailed lessons use dreamweaver interface also goes indepth describe use basic os functionality add awkward stilted speech nasal voice im trying mean isnt professional pulling hair even listening lessons interested examples bottom 10px screen videos cut sometimes narrator referring something shes cursor shes clicking visible screen addition large video2brain watermark obscuring vital controls bottom right corner screen making impossible understand exactly dreamweaver interface entire lesson 330 min spent explaining create new folder hard drive change name several minutes spent explaining open close palettes windows dreamweaver rocket science way much time spent explaining basic osbrowser functionality savesave functions untitled documents naming html files page titles display browser window bookmark sites browser browser tabs work none begins expain use dreamweaver let alone build web page history meta tags featuring quote meta tag html brackets says meta entire lesson 64 explaining select copy paste text elementary os functionality really noting dreamweaver im exaggerating lesson 5 minutes spent making bold italic text exaggeration via css either regular strong tags using clickable buttons b set dreamweaver time spent explaining little triangles dropdown menus indicate menu choices accessed didnt first mac television commercial 1984 already cover subject indepth minesweeper tutorial time wasted explaining select text something tricky select text catch code characters mistake valuable time spent explaining could hit controla select six minutes thirty seconds spent explaining different types html links create anything styling using javascript anything fancy like six minutes explaining basic hyperlink anchor link perhaps talking relative vs absolute url paths example slow wordy manner speech adds 20px margin something rather saying add 20px around sides object instead says adds 20px rightthe bottomthe left top edges imagine statement taking 10 seconds utter booklet glued inside box dvd comes inconvenient reference read bulky inflexible video quite obviously scripted narrator makes several flubs throughout laughs constantly repeats one lesson another wouldnt bad reference taught us former lesson invariably reteaches lesson begging hands knees taught something new anything want see example authors web design capacity take look screen capture added product photos taken dvd shows picture personal website apparently templates available download absolutely boggles mind woman would officially certified adobe according bio product page also certified internet webmaster lets dial wayback machine back 1995 learn kind responsibility entails lessons pertaining css start 112 dozens lessons decent info overall think get better training either going youtube free good stuff specific issues paying month videos lyndacom around half price much professional dvd overpriced low quality live adobes otherwise impeccable standards\n",
            "{'neg': 0.059, 'neu': 0.856, 'pos': 0.085, 'compound': 0.9509}\n",
            "SENTIMENT OF A REVIEW:  Positive\n",
            "\n",
            "cost 40 12 hours time pretty effectively learn adobes dreamweaver cs5 pace location dvd pop dvd player sit back watch passively tv fact dvd playable computer requires use mouse select many options interactive allows go section needed end chapter test take see well learning 17 chapters chapter divided various sections training content screen home screen play dvd chapter section heading clearly spelled know go looking particular video sections click play chapters folder names organization purposes section vary less 3 minutes 13 minutes long depending complexity topic discussed pause video time captioning bottom screen enhance learning experience subtitling also valuable nonenglish learners help understand spoken beginner best way learn program start chapter 1 section 1 proceed order last chaper video starts basics progresses complex topics compared classroom instruction prefer using learn video dvd well produced instructor speaking clearly contents well organized learn pace always go back review section way take classroom instruction course 40\n",
            "{'neg': 0.01, 'neu': 0.8, 'pos': 0.19, 'compound': 0.9816}\n",
            "SENTIMENT OF A REVIEW:  Positive\n",
            "\n",
            "print designer adobe cs user humbled different dreamweaver tools choice indesign illustrator photoshop summer learn dreamweaver fly relied upon web forums nearly useless dreamweaver book get ive completed one project im finally ready motived learn years resistance enter learn adobe dreamweaver cs5 video right time 12 hours video training fullcolor 120page guide finally comprehend basic principles web design course covers html refresher good preparation whats come learned use workspace advantage add text images incorporate rich media finally learned proper way use tables forms publishing howto icing cake credit video comprehension much like private teacher patiently wait press pause grasp concept moving wish months ago itll invaluable future recommended\n",
            "{'neg': 0.023, 'neu': 0.809, 'pos': 0.168, 'compound': 0.9413}\n",
            "SENTIMENT OF A REVIEW:  Positive\n",
            "\n",
            "also taken local community college online course dreamweaver cs5 training video comparison quite bit better terms rich contents course layout video 17 sections covering key elements cs5 allow user learn create local web site scratch uploading server section also broken several 36 minutes subsections right terms duration end section also test available make sure get good understanding materials also additional useful features realtime caption bookmarks allows us jump favorite section easily great product price\n",
            "{'neg': 0.033, 'neu': 0.667, 'pos': 0.3, 'compound': 0.9728}\n",
            "SENTIMENT OF A REVIEW:  Positive\n",
            "\n",
            "even though use dreamweaver great deal several books subject found set helpful candyce mairs takes everything opening program setting desktop creating site focus software css html web design youll end understanding software designed work videos brief clear screenshots step step narration subtitled occasionally narrator makes small error fireworks firefox say subtitles correct pace slow focused always task rambling making fixing errors screen since video looks one issue easy find way back feel confused like watch work option lets keep video running corner screen work along video new features cs5 pointed detail video training accompanying booklet also tables keyboard shortcuts glossary lots example code youre upgrading want master new features immediately usually hand code want get know timesaving features dreamweaver exactly need youre moderately skilled web designer would like increase skills improving ability use spry example excellent choice probably enough absolute beginner youll still need learn html css web design theory best ive seen using dreamweaver particular\n",
            "{'neg': 0.039, 'neu': 0.73, 'pos': 0.231, 'compound': 0.986}\n",
            "SENTIMENT OF A REVIEW:  Positive\n",
            "\n",
            "waited complete entire course writing review particular order observations tell web skills limited used front page years created several elementary dreamweaver sites family members im process trying work professionally cleaner less better code creatively less stilted unique appealing design course doesnt purport web design course assumes already basic idea relatively simple website going teach implement dont expect inspiration positive level absolute beginner intermediate entirely dvdbased booklet 106 pages including index comes dvd provides additional random information way connected content sequence course scope information presented needed basic competence implementation simple dreamweaver cs5 website become familiar dw interface workflow best practices web dw terminology basic website structure creation sequence progression logical sequential reiteration basic principles course progresses clarify something previously explained applies new situation interface well thought go backwards forwards easily constant access table contents allows search topic subtopics case want navigate completely different topic allows bookmark long notestoself topics interest may want keep coming back interface coloring design neutral unintrusive screen always retains focus surrounding options melt away course secondary purpose preparing adobe certified expert ace test main section practice test end another asset video transcript captioned viewing screen optional particularly helpful youre public place cant turn sound explanations hardtograsp concepts ex box model clearly demonstrated visual examples matter fact clearest explanation ever seen box model find booklet section fireworks instructive since never used program past fact entire booklet instructive usefulits totally unrelated course dvd positive coverage concepts content placement positioning little basic less detailed would liked cant recall locate reference floats whereas ap divs frames older concepts well covered narrator pleasant voice clear diction somewhat monotone unexciting search function index makes impossible look term topic specifically listed table contents would thought transcript text might searchable isnt learning style would preferred booklet function support material video could follow along text directly reinforces visual demonstration easier go back use reference material bookmarks create taking course laptop saved computer want change desktop bookmarks obviously personal index bookmarks limits whole recommend course wish taken earlier laid groundwork better online course taken however think person learningasyougo learning general theory actually trying apply real website essential reference material dreamweaver cs5 sort guidance design principles solid html css anthologyall wellindexed books video online courses teach well build sample websites stumped website need able supplement general principles taught onpoint reference\n",
            "{'neg': 0.025, 'neu': 0.813, 'pos': 0.162, 'compound': 0.9932}\n",
            "SENTIMENT OF A REVIEW:  Positive\n",
            "\n",
            "picture tells thousand words especially true youre learning photo management software like photoshop lightroom new photoshop lightroom 3 even youve using lightroom 2 find authors thoroughly cover features lightroom 3 tutorial literally holds hand learn use lightroom 3 videos hdquality crystal clear maximize watch fullscreen watch smaller window practice youre learning time wonder adobeapproved training experienced adobecertified instructors highly recommended anyone wants sit back relax let instructors teach photoshop lightroom 3 opposed reading book get boring chapters\n",
            "{'neg': 0.027, 'neu': 0.777, 'pos': 0.196, 'compound': 0.9199}\n",
            "SENTIMENT OF A REVIEW:  Positive\n",
            "\n",
            "video accompanied small book covers general areas interest within field photography also offers general coverage new features lightroom 3 guide keyboard shortcuts useful glossary thumbs book video material contained single dvd good job covering important aspects lightroom 3 video opinion advanced beginners say material covered deeply beginner field digital photography might comfortable also assumed student knowledge digital photographic concepts white balance exposure raw format etc topics discussed without much introtype explanation beginners good thing reasonably good background going thing wasnt thrilled although reason drop star pace training actually like faster pace something fast play slower pace video training wouldnt bother fast forward button allowed still comprehend said way could speed things skip ahead small increments go back went far heres bottom line experience lightroom beginner digital photography bone hitting video youll get much youve got good footing basics digital photography youre ready rock roll video take want go\n",
            "{'neg': 0.027, 'neu': 0.765, 'pos': 0.208, 'compound': 0.9795}\n",
            "SENTIMENT OF A REVIEW:  Positive\n",
            "\n",
            "someone upgraded lightroom version 2 new version 3 got bring speed new features thought would watch video clips new items needed boy wrong good ended watching every one start finish package consists dvd small book book chapter better photographer another introducing new features lightroom 3 dvd contains videos dedicated video player either use internet explorer player view content recommendation use player full featured nice menu system resizing screen normal control buttons stop pause play etc nicest feature player work along mode mode video plays small window youre working lightroom lets try commands along video video audio quality excellent 2 instructors great job dont get technical keep good pace present material also give examples use lightroom feature command workflow product would perfect someone new lightroom seasoned user looking learn new version\n",
            "{'neg': 0.035, 'neu': 0.744, 'pos': 0.221, 'compound': 0.9805}\n",
            "SENTIMENT OF A REVIEW:  Positive\n",
            "\n",
            "adobe approved adobe photoshop lightroom 3 learn video absolutely best method learning lightroom 3 ive found one one training presented tim grey mikkel aaland program truly everything get running full hilt youll progress beginning setting lightroom importing photos developing exporting everything contain everything anyone would want educational program would practical impossibility however program contains 10 hours video training hear procedure occurs see done along advice opinion theres even testing procedure included reference booklet also copy selected video tutorials ive using adobe lightroom couple years recently upgraded lightroom 3 ive books written lightroom 3 well known authors found reading little tedious finally decided find make work program works frankly believe best program available\n",
            "{'neg': 0.0, 'neu': 0.819, 'pos': 0.181, 'compound': 0.9642}\n",
            "SENTIMENT OF A REVIEW:  Positive\n",
            "\n",
            "lucky find offered vine program id upgraded lightroom 3 looking good text training material pretty complete coverage lightroom basics differences lightroom 2 real issue pacing thats real complaint product personal preference get package slim volume 100 pages half discuss lightroom photography general terms remaining 50 pages divided notes setting preferences lightroom tables keystroke shortcuts given booklet glued packaging exactly handy references bulk course though disk contains noted description full 10 hours video lessons lessons divided functionally manner reflects lightroooms functional division first section devoted importing photos followed section library function section turn divided lessons covering one two detailed areas play sections lessons order pick choose like began playing straight first two sections two separate sessions picked lot new useful information using lightroom 3 lesson involves watching expert carry function narrating exactly hes demonstrations accompanying narration afre clear made easy perform actions theres also watch work mode shrink video window try example lightroom using supplied data files nice particularly liked us professional photographers rather trainers present material result realworld approach instructor demonstrates full range options piece like importing explains exactly uses workflow get theoretical exploration piece software could used real demonstration used someone working field course drawback one particular photographers idiosyncratic methods may best think program manages avoid presenting full range possible approaches instructor gives personal preference one problem course suppose unavoidable sort presentation thats videos fixed duration whats covered going everything going take full 10 hours minimum may look ahead one chapter something youre specifically interested discover watching really need different chapter thats generally prefer text image based approach least reading several times faster listening say thats personal preference many new users may one best ways learn enough yo get started managing workflow lr3\n",
            "{'neg': 0.022, 'neu': 0.816, 'pos': 0.162, 'compound': 0.9908}\n",
            "SENTIMENT OF A REVIEW:  Positive\n",
            "\n",
            "extremely pleased training video video player full featured far better used video training used look intro page ix accompanying book get view capabilities although launches full screen reduced size like onscreen window find small handle lower right could course shrink task bar runs looks great small large sizes whats pause video anytime run copy lightroom actually work steps learning fact image used dvd also included dvd could repeat lessons identical images video lessons also dvd mp4 3gp format may able work lessons iphoneipad 3g cell phone commuting pay pause first lesson explore user interface dvd playback software complicated lr quirky enough make starting somewhat confusing youll want explore lr interface point lightroom lr interface designed around good flexible work flow lessons generally follow workflow course actual use easily jump around interface want seeing software actual work flow terrific lr like photoshop deep product watching used actually far easier trying follow stepbystep instructions book dvd comes small book remove packaging got small sticky pads holding back book box lift carefully first half book entitled photograpers eye michael jordan michael jordan seems like basic filler related lightroom last half pretty good although lot ridiculously small screen shots included material covered duplicated lesson 14 149 least see much bigger image also handy keyboard shortcuts list book also handy case want change settings without reloading dvd quibbles general dvd aimed lightroom beginners much lesson 1 11 137 deals whats new lr3 almost useless frankly confusing someone using lr3 first time upgraded earlier version might interesting start lr jump 14 begin process customizing setup 14 get really useful well explained review many lr settings start play option recommended interface takes automatically lesson lesson although visual indication lesson chapter number actually titles shown right hand sidebar chapter videos open lesson numbers use dropdown top main dialog see however choose specific lessons opening main screen desired go set bookmarks sections might like revisit bookmarks available one tabs top really nice feature truly lightroom beginner dvd get upandrunning quickly used photoshop camera raw cr particular quickly see adjustments lr similar cr lr adding much terms automation asset management etc quirky startup aside easy 5 star rating\n",
            "{'neg': 0.029, 'neu': 0.775, 'pos': 0.197, 'compound': 0.9957}\n",
            "SENTIMENT OF A REVIEW:  Positive\n",
            "\n",
            "learn video adobe photoshop lightroom 3 lightroom 27 intrigued two reasons 1 new lightroom 3 upgrade 2 could still learn something version video happy say exceeded expectations lessons good actually look forward learning lightroom lessons always focused computer screen wasted watching instructor speak first went lessons get overview features found explained way made realize using really use reference want work photos watch work watch work really cool feature click watch work lower right corner application shrinks placed upper left corner sort way say sort always top screen able get lightroom completely visible cant find minimize button go back standard mode minimize work quick way get video working probably time get another monitor dvd come samples problem following along using photos lessons great find quirks first put disc windows 7 pops suggesting run startexe choosing starts video intro two authors mention use program fortunately table content upper left corner actually go isnt terribly difficult use video would make smoother less timely start went use booklet explain little completely goes help screen well install dvd dvds either watched used installation since use reference used included install always access video copy entire dvd hard drive setup shortcut lot users isnt always easy right away found annoying orange menu pops even slightly bump mouse options full screen info sidebar options also available lower right corner first wasnt sure part screen shots application computer yet found info explains turn use menu strictly annoying another annoyance close application goes list credits put together experience developer one cares created good people use get see every single time tip although added step click close button click wont wait credits package comes booklet doesnt offer much half explains photography take certain shots using lightroom chances probably several photography books already another section briefly goes new features 3 section shows specific settings certain screens another section shortcuts booklet alternative learning application may handy reference begin left doesnt work fact suggested something used yesterday really look forward learning lightroom video far better free ones found online even helps 27 installed hard drive works great quick reference still debating upgrading lightroom least right away video made several features really clear otherwise might used hefty price tag benefits worth expense\n",
            "{'neg': 0.06, 'neu': 0.776, 'pos': 0.164, 'compound': 0.9907}\n",
            "SENTIMENT OF A REVIEW:  Positive\n",
            "\n",
            "people learn watching reading know first learned use lightroom videos redoubtable michael reichmann jeff schewe mostly first instructional material mostly videos images talking heads occasional screen shot learn adobe photoshop lightroom 3 video offering two great image processing authors tim grey mikkel aaland approach taken fairly standard introduction videos go chapter chapter lightroom modules examination buttons sliders easy interface made lightroom popular many photographers section shows screen shot viewer follow moves made authors apply lightroom functions accompanied voiceover one two authors chapters cover everything bringing images lightroom outputting web sites slideshows level instruction fairly simple youve never used software instruction get average person processing pictures several hours watching experienced users wont learn anything new audience every function covered aspects like favorite test whether discussion keywords covers importation keyword list another source lightroom hand although isnt covered clearly subject advanced user end chapter examination unfortunately get answer wrong wont told correct answer youll watch lesson maybe thats unfortunate video comes booklet aaland first presents ideas composition perhaps added video like lightroom books doesnt tell slider button appropriate id recommend datahookproductlinklinked classalinknormal hrefvisionvoicerefiningyourvisioninadobephotoshoplightroomvoicesthatmatterdp0321670094refcm_cr_arp_d_rvw_txtieutf8vision voice refining vision adobe photoshop lightroom voices mattera david duchemin thats followed chapter whats new lightroom 3 disk also contains images imported lightroom viewer follow procedures authors lessons id like say allows one follow along authors video presentation encountered stumbling block book could keep book front computer images provided reader could follow along duplicate experience button lower right hand corner video screen called watchandwork click video reduced onefourth screen unfortunately tried follow along video video image often way moved around gain access lightroom sliders eventually figured easier pause video minimize video screen work lightroom doesnt take computer guru figure given videos aimed tyros might useful provide detailed instructions use videos unfortunately brief help screen make matters worse refers processing picture dreamweaver might also useful suggest users soon possible import images provided disk lightroom well instructions best use videos learn im still person prefers books geezer didnt grow youtube underline important ideas read twice even read bus without opening laptop fair video allow bookmarking undocumented accomplishes many functions perhaps reading bus may best way learn running piece software like lightroom im impressed video technology even though bumpy spots introduction lightroom certainly teach new user use software\n",
            "{'neg': 0.059, 'neu': 0.769, 'pos': 0.172, 'compound': 0.9925}\n",
            "SENTIMENT OF A REVIEW:  Positive\n",
            "\n",
            "looking forward receiving product however started view various items rather disappointed explanations far long winded short actual facts techniques pity could quite informative presenters got point earlier needs serious revision\n",
            "{'neg': 0.196, 'neu': 0.804, 'pos': 0.0, 'compound': -0.6808}\n",
            "SENTIMENT OF A REVIEW:  Neutral\n",
            "\n",
            "thought videos elementary found much easier pick choose one many superb texts available\n",
            "{'neg': 0.0, 'neu': 0.615, 'pos': 0.385, 'compound': 0.7845}\n",
            "SENTIMENT OF A REVIEW:  Positive\n",
            "\n",
            "average prefer laura shoes dvd instruction seemed basic adequate could gotten develop module better\n",
            "{'neg': 0.0, 'neu': 0.714, 'pos': 0.286, 'compound': 0.5859}\n",
            "SENTIMENT OF A REVIEW:  Neutral\n",
            "\n",
            "dvd fantastic tool prefer visual approach learning rather simply reading dvd breaks basics lightroom explains simple manner like fact watch video copy lightroom open easily follow along opinion learning enhanced showing use function like adjustment brush rather simply reading use adjustment brush little intimidated programs like lightroom photoshop elements perfect video everything presented basic terms instructors provide plenty examples subject matter presented someone experienced lightroom user dvd may teachremind elements available lightroom imho targeted experienced lightroom users\n",
            "{'neg': 0.029, 'neu': 0.767, 'pos': 0.204, 'compound': 0.9286}\n",
            "SENTIMENT OF A REVIEW:  Positive\n",
            "\n",
            "want cut lightroom 3 learning curve 5o 80 percent get training program well thought running quickly well worth money\n",
            "{'neg': 0.093, 'neu': 0.578, 'pos': 0.329, 'compound': 0.5106}\n",
            "SENTIMENT OF A REVIEW:  Neutral\n",
            "\n",
            "greate collection videos disk videos 2 6 minutes index allows quickly jump video want review video goes introduction new lightroom 3 videos cover working workflow creating slideshows would recommend going authors website get even information lightroom low cost brainer highly recommed anyone starting lightroom ahve worked\n",
            "{'neg': 0.045, 'neu': 0.828, 'pos': 0.127, 'compound': 0.4404}\n",
            "SENTIMENT OF A REVIEW:  Neutral\n",
            "\n",
            "go material often like makes sure understand remember little quizzes end section helpful presenters easy understand overall good\n",
            "{'neg': 0.0, 'neu': 0.492, 'pos': 0.508, 'compound': 0.9081}\n",
            "SENTIMENT OF A REVIEW:  Positive\n",
            "\n",
            "never owned slr camera never used photo editing software like lr3 im visual leaner therefore appreciate able see menus select use features see effects photos real time also discussed general topics organize files folders catalogs collections get overwhelming wout instruction context use features etc continually go back dvd try use software cant remember exactly first overview lessons every time review featuresection seem pick tips missed first viewing dont like read andor dont want spend lot time trying figure interpret apply written instructions vs seeing live demonstration dvdlearning method love\n",
            "{'neg': 0.035, 'neu': 0.831, 'pos': 0.135, 'compound': 0.8714}\n",
            "SENTIMENT OF A REVIEW:  Positive\n",
            "\n",
            "one best purchases made long time learned much short time go back rewatch areas need\n",
            "{'neg': 0.0, 'neu': 0.769, 'pos': 0.231, 'compound': 0.6369}\n",
            "SENTIMENT OF A REVIEW:  Neutral\n",
            "\n",
            "chance try impressions easy use welldesigned useful fairly basic lightroom level youre new lightroom visual learner opposed wanting read everything book awesome resource kind like experienced photographer friend sit copy lr3 10 hours go every feature reasonable degree depth one feature time get pause rewind rewatch whenever want add bookmarks favorite parts want review later etc also learn lr3 thats id using program year getting didnt think much learn wasnt sure useful would pleasantly surprised use primarily library develop modules time hoping learn three print web slideshow certainly comfortable also learned pretty useful things ones use constantly havent really used collections instance thats going huge timesaver two photographers guide lightroom introduce features dont necessarily give much creative input teach people fine theyre refine hone creativity get familiar program well im little disappointed didnt get datahookproductlinklinked classalinknormal hreflearnadobephotoshopcs5byvideocoretraininginvisualcommunicationlearnbyvideodp0321719808refcm_cr_arp_d_rvw_txtieutf8learn adobe photoshop cs5 video core training visual communication learn videoa instead dont know photoshop nearly well know lightroom lightroom isnt hard figure without guide photoshop pretty much impossible particular video item price twice much video 21 hours instead 10 youre trying learn programs id probably recommend getting instead figuring lr3 oh comes book book little odd doesnt really go along product instead three main sections first basically welcome photography heres need know capture nice images basic photographic advice part 2 whats new lr3 compared previous versions newly added stuff mentioned third part lightroom preferences basically descriptions everything tweak hood read theyre okay theyre youre buying product\n",
            "{'neg': 0.023, 'neu': 0.707, 'pos': 0.27, 'compound': 0.9963}\n",
            "SENTIMENT OF A REVIEW:  Positive\n",
            "\n",
            "100 video lessons users given high rating assume comfortable video learning personally found rather tedious id like learn lightroom ive owned tried use understand went back using adobe bridge think generally underappreciated love photoshop tend spend lot time supposed timesaving features lightroom would helpful really hoped product would make easy use lightroom unfortunately trouble staying alert 3 4 lessons time much covers small portion material dont think presenters much difficulty covering sort material video format introduction alone consists 26 videos seemed like commercial lightroom rather tutorial seven lessons devoted whats new relevant beginners plus side plenty screen shots familiarize us look software unit 2 11 video lessons importing pictures gives idea much detail thats need youll find product useful\n",
            "{'neg': 0.068, 'neu': 0.727, 'pos': 0.206, 'compound': 0.9606}\n",
            "SENTIMENT OF A REVIEW:  Positive\n",
            "\n",
            "reason restate positive comments wanted chime say think great purchase watching watch work mode really like able follow along learn watching light room many features cant imagine learning video makes simple even chapter tests chapter polished professional\n",
            "{'neg': 0.0, 'neu': 0.764, 'pos': 0.236, 'compound': 0.8883}\n",
            "SENTIMENT OF A REVIEW:  Positive\n",
            "\n",
            "avid lightroom user although used many times always wanted dive tools techniques software video series definitely put right track series excellent job giving general tour reference available lightroom also diving important aspects pick gate watching entire video one sitting probably feasible since ten hours content fact finding time watch entire ten hours might difficult dont fooled though time invest going video improve usage lightroom really depends want lightroom wanting simple organization editing wont need video certainly wont need would like dive publishing aspects really optimizing workflow would good investment\n",
            "{'neg': 0.061, 'neu': 0.691, 'pos': 0.248, 'compound': 0.9539}\n",
            "SENTIMENT OF A REVIEW:  Positive\n",
            "\n",
            "perfect well timed learn much better via video reading book happy particular dvd perfect training introduction use lightroom properly comes great key shortcut reference booklet well\n",
            "{'neg': 0.0, 'neu': 0.46, 'pos': 0.54, 'compound': 0.9694}\n",
            "SENTIMENT OF A REVIEW:  Positive\n",
            "\n",
            "video well paced hit highlights program taught use buttons features lightroom 3 gave reasonable examples showing screen shots talked ready reinforcement already gone back chapters reference needed certain tasks would highly recommend work\n",
            "{'neg': 0.0, 'neu': 0.747, 'pos': 0.253, 'compound': 0.8173}\n",
            "SENTIMENT OF A REVIEW:  Positive\n",
            "\n",
            "long time user photoshop lightroom first version used use photoshop manage edit digital images switched lr totally lr relatively userfriendly need little instruction get started never training book instructions anykind always felt efficient software well think great access training video kind long 10 hrs finding time watch challenge especially already know use software course pick things dont know better true learned expected matter experienced userfriendly software definitely gain something new user lr could little intimidating casual user need manage photo run slideshow dont need video want like publishing converting optimizing images recommend training video\n",
            "{'neg': 0.073, 'neu': 0.667, 'pos': 0.26, 'compound': 0.9631}\n",
            "SENTIMENT OF A REVIEW:  Positive\n",
            "\n",
            "ive spent lots money photoshop lightroom programs complicated end buying lots books learn use end collecting dust hard read video instruction program pretty long 10hours really covers need know use lightroom 30 properly format allows skip chapters want see think need watch computer doesnt play like regular dvd menus need clicked mouse video shows step step actions basic advanced compared books teaching lightroom far best way learn seen far need get version photoshop cs5\n",
            "{'neg': 0.067, 'neu': 0.805, 'pos': 0.129, 'compound': 0.7314}\n",
            "SENTIMENT OF A REVIEW:  Neutral\n",
            "\n",
            "tim grey lightroom video great learning tool content pace well suited beginner intermediate user use specific examples really enhancing learning experience\n",
            "{'neg': 0.0, 'neu': 0.709, 'pos': 0.291, 'compound': 0.7506}\n",
            "SENTIMENT OF A REVIEW:  Positive\n",
            "\n",
            "great package full helpful information mostly self taught lightroom nice materials fall back need additional help 10 hours seems like lot broken doesnt feel like much information index helpful looking certain topic scan index book see find video lessons include importing photos basic howtos use library module organizing library module editing essentials white balance clarity color adjustments retouching correction portrait touch noise reduction also convert color black white also included lesson take photographs different subjects nature landscape family sports etc book also included find videos lot helpful im looking forward watching videos even testing knowledge end lesson\n",
            "{'neg': 0.027, 'neu': 0.736, 'pos': 0.238, 'compound': 0.9709}\n",
            "SENTIMENT OF A REVIEW:  Positive\n",
            "\n",
            "new user lightroom coming nikon capture nx2 extremely impressed quality video evident quality book product addresses long standing need video training compared written manuals dvd well organized seems quicker reference even manual near keyboard interestingly special mode uses smaller video window plays work lightroom actually work instructors sense new user lightroom would clearly benefit video advanced users likely\n",
            "{'neg': 0.0, 'neu': 0.708, 'pos': 0.292, 'compound': 0.9558}\n",
            "SENTIMENT OF A REVIEW:  Positive\n",
            "\n",
            "learn video program flash cs5 would make nice alternative introductory book especially visual learners id worked datahookproductlinklinked classalinknormal hrefadobeflashprofessionalcs5classroominabookdp0321701801refcm_cr_arp_d_rvw_txtieutf8adobe flash professional cs5 classroom booka found comprehensive coverage different emphasis found learned quite bit didnt know wasnt clear little booklet comes guide extremely useful introduction design principles essential effective working flash several chapters different introductorylevel topics flash cs5 broken different sections usually completed ten minutes makes easy work short sections set bookmarks remember left although would nicer program saved progress directly remembered left exposition clear perhaps bit dry theres hint humor always find helps make verbal lessons bit interesting memorable section tells going learn gives explanation tutorial follow along using one project files included dvd explains learned focus learning things work things mean fairly basic level dont get advanced end things youd really rough idea things work flash clear assume listener getting started flash lessons sequential build upon remind youve learned things several times sometimes thats bit frustrating beginners level textbook easy skim repetition familiar video harder skim inessential without missing important bits thats one reason prefer something like classroom book series rather video classroom approach one thing got clearly classroom book flash cs5 emphasis best practices manage projects completely clear helps achieve control project explanation whys behind hows thought chapter action script excellent giving clear concept works object based language even though youd able rudimentary things working entire chapter youd pretty decent understanding language works good basis learning video files disk allow follow along show tutorials one thing dont make clear work copy assets folder hard drive open work projects find convenient backup entire dvd hard drive play since means available ready whenever want work section also helps protect original disk scratching overall good introduction flash emphasis best practices serves useful complement guides find introductory flash books minor gripes navigation chapter files intuitive id like sections subsections go next section chapter clicking next video button get end subsection next video button enabled go back main index open chapter index get next section chapter several words projects misspelt eg hawaiin instead hawaiian also noticed least one project files encourage use missing inversekinematics_startfla file chapter 9 still guide whole helpful clear emphasis design principles included booklet makes helpful overview introduction rich complicated program\n",
            "{'neg': 0.027, 'neu': 0.713, 'pos': 0.26, 'compound': 0.9982}\n",
            "SENTIMENT OF A REVIEW:  Positive\n",
            "\n",
            "theory idea watching video tutorial operating program teaching great idea implementation times flawed frustrating appears tutorial built adobe air make javascript look positively robust blazing interface slow quite unresponsive fast mac frustrating aware dual monitor setups either option watch full screen try place video tutorial second monitor would customary program trying learn main monitor clicking fullscreen jumps tutorial main display makes fullscreen covering flash program content organization pretty well done beginner intermediate level flash programmers numerous typos give amateur whiff typos video ask well video training insists turning closed captioning default matter many times turn relaunch training appears ultimate verdict notbad great would give 212 stars option tip favor three stars ambition\n",
            "{'neg': 0.044, 'neu': 0.754, 'pos': 0.202, 'compound': 0.9584}\n",
            "SENTIMENT OF A REVIEW:  Positive\n",
            "\n",
            "presenter sounds much natural semirobotic delivery found dreamweaver tutorial product lessons broken easily digested 35 minute chunks covering aspects flash project planning defining customer needs introduction actionscript fundamentails although deal programming detail cover basic concepts objectoriented programming variables conditional statements functions rest covers working artwork text library symbols layers timeline animation tweens working files sound video youll learn fundamentals wont learn create fancy user interfaces fancy sites thats advanced class products series usability issues top interface theres previous video button next video button next video button disabled last video chapter get next one youll use navigation last item test kinda dumb ui choice initially confusing could changed read take test instead putting virtual dead end sidebar normally hidden cued display mouse strays video area information current video listslinks videos chapter title bar topleft tabs dropdown navigate content theres watch work mode shrinks video display let work copy dreamweaver included move video window around resize may kind tiny watch mode dual monitor setup youll want drag standard mode video player screen standard mode resized smaller either good way get started flash programming dont patience going book know expect youll learn basics youll need carry learning process seeking advanced information learning materials\n",
            "{'neg': 0.073, 'neu': 0.844, 'pos': 0.083, 'compound': 0.0719}\n",
            "SENTIMENT OF A REVIEW:  Neutral\n",
            "\n",
            "youve seen neat flash presentations wondered create book get started right direction contains dvd hundred page book supplement dvd provides welldone video tutorials follow along watchandwork mode using starter work files included dvd book provides useful reference materials eg colored screenshots user interfaces use various tool components keyboard short cuts specific tasks etc video lessons cover important basics create work projects organize files use various tools features objects shapes symbols movie clips timelines layers frames stage etc work text graphics create animations objects moving choreographed fashion motion tweens shapes morphing shapes shape tweens include actionscript code snippets dynamic still simple handling events build goodlooking designs presentations also simple applications react text inputs button presses mouse clicks test deploy work time youre done lessons youll appreciation powerful flash cs5 learning even techniques introduced video guide already empowers interesting stuff user interface video tutorials easy use although book supplement comes instructions use interface navigate tutorials people able figure use interface without read instructions first video lessons organized eight chapters end test questions give additional opportunities revisit learned part test questions quiz knowledge covered video lessons also related materials book supplement given video lessons chapters book supplement track perfectly example video lessons introduce motion tweens shape tweens supplement reverses order focus video lessons might occasionally surprised getting quizzed something appeared unfamiliar virtue fact might missed reading relevant materials presented probably order supplement finally thought materials video lessons somewhat repetitious instructors nevertheless done good job showcasing useful features flash many students appreciate covering features newly available latest cs5 version flash instructors clearly demonstrate new features improve upon replaced classic features illustrating sets features work\n",
            "{'neg': 0.014, 'neu': 0.81, 'pos': 0.175, 'compound': 0.9924}\n",
            "SENTIMENT OF A REVIEW:  Positive\n",
            "\n",
            "much learn adobes products good yet another option offered help navigate product tend person learns side side option learn great attempt many layers adobe suite products im sure truly way offer course way traditional classroom one interact instructor ask specific questions search cant interpret definitely something worth strong introduction software methinks way one really learn practice practice practice\n",
            "{'neg': 0.031, 'neu': 0.691, 'pos': 0.278, 'compound': 0.9505}\n",
            "SENTIMENT OF A REVIEW:  Positive\n",
            "\n",
            "certified associate courseware comes package containing dvdrom plus supplemental written material software covered flash cs5 structured easy follow manner detailed goes situations canwill occur using flash cs5 covers basics might offputting people experience using ms windows presentation voices modulated interesting personable viewer gets classroom feel improved effectiveness lessons people learn better working along instructor video course provides necessary files complete tutorial watched narrator leaves plenty time learn best listening watching pace presentation designed working along presentation seem move slowly supplemental material good reference completed video lesson video creates foundation basic skills needed reference reinforces lesson materials good reference use one using program found lesson useful introduction using flash cs5 course helped learn skills use web development people like learn better especially begining presentation format provides faster route getting foundation skills build upon reference texts\n",
            "{'neg': 0.0, 'neu': 0.794, 'pos': 0.206, 'compound': 0.9834}\n",
            "SENTIMENT OF A REVIEW:  Positive\n",
            "\n",
            "want step right direction create almost anything youve ever wanted adobe flash professional cs5 product definitely possible first recieved product insert cd came flip open back cover box peel book ready learn seconds book videos work conjunction read watch either one time still understand whats offer best part videos comes subtitles youre unable listen still understand whats going book video tutorials teach basics way advanced things flash offer teach get started use tools create import artwork create text work tweens use action scripting importing editing videoaudio finally test publish youve made addition medias many visualizations experience really get yes even picture examples colors book almost basics covered youll really willing able learn whatever plan create adobe flash professional cs5 conclusion using product youll incredibly easy time getting started adobe flash professional cs5 comes easy use cd book explain need get started creating almost whatever want\n",
            "{'neg': 0.0, 'neu': 0.794, 'pos': 0.206, 'compound': 0.9817}\n",
            "SENTIMENT OF A REVIEW:  Positive\n",
            "\n",
            "ive teaching flash 7 years local university years ive gone many books help students learn aspects flash basics using timeline creatign using symbols managing tweening everything else course show students everything know flash always found hard find complete training tool students use classroom home complement teachings pretty much went every book market whether visual guide series ones adobe anything mean literally close probably 20 30 books timespan even use videos trust name bought try class always find need use 1 bookvideo series students buy would cover everything wanted know usually ended writing lessons supplement material well honestly say found complete learning tool flash video dvd combines multiple video series plus material multiple books puts one learning tool guessing dvd framework created adobe air interface looks fantastic nothing ever seen seperate menus videos broken multiple sub categories review questions quizes review material really cant say enough good things dvd buy anything else wasting money also dreamweaver photoshop dvd purchased equally impressive well must buy want learn help teach flash cs5\n",
            "{'neg': 0.05, 'neu': 0.796, 'pos': 0.153, 'compound': 0.9565}\n",
            "SENTIMENT OF A REVIEW:  Positive\n",
            "\n",
            "im big fan adobe video products one fing irritating specifically kevin ruse repeats crap wth get one bloody lesson\n",
            "{'neg': 0.422, 'neu': 0.496, 'pos': 0.082, 'compound': -0.8625}\n",
            "SENTIMENT OF A REVIEW:  Neutral\n",
            "\n",
            "somewhat disappointed id read tutorial adobe beginners computer novice used photoshop least decade instruction may well delivered sanskrit instruction people already basic working knowledge flash\n",
            "{'neg': 0.101, 'neu': 0.824, 'pos': 0.075, 'compound': -0.1796}\n",
            "SENTIMENT OF A REVIEW:  Neutral\n",
            "\n",
            "books software put sleep see video software cant use easily flip back forth check topics combination best worlds book allows jump around browse video keeps solidly track flash big learning curve unitiated product great help\n",
            "{'neg': 0.046, 'neu': 0.704, 'pos': 0.25, 'compound': 0.8739}\n",
            "SENTIMENT OF A REVIEW:  Positive\n",
            "\n",
            "really enjoyed training thorough able follow along put ive learned action right away flash cs5 need flash cs5 software im selfstarter learner usually read books tutorials learn training perfect anyone like doesnt time money sit classroom learn create flash applications ive yet completed course update review far great learn interface get started flash also like reference book accompanies like book documentation refer well think way set interactive learning environment instructorled lectures great\n",
            "{'neg': 0.0, 'neu': 0.699, 'pos': 0.301, 'compound': 0.9781}\n",
            "SENTIMENT OF A REVIEW:  Positive\n",
            "\n",
            "love video im using independent study taught lot highly recommend series\n",
            "{'neg': 0.0, 'neu': 0.563, 'pos': 0.437, 'compound': 0.7902}\n",
            "SENTIMENT OF A REVIEW:  Positive\n",
            "\n",
            "first learn video series course ive used im impressed production part im impressed content although introductory level frustrating times course provides good introduction cs5 user interface flash tools file types managing timeline theres also basic chapter introduces actionscript as3 coding language used create complex logic flash application as3 material extremely basictoo basic opinion like production video package videos played windows mac linux also mp4 versions video files case want view portable device ipod touch iphone ipad etc helpful want view videos work handson computer although small screen would difficult dvd also includes collection asset files correspond lessons visual learner dont prefer thick technical books video course would good lowcost alternative dont expect flash expert complete course least youll understand basic concepts\n",
            "{'neg': 0.038, 'neu': 0.77, 'pos': 0.192, 'compound': 0.9552}\n",
            "SENTIMENT OF A REVIEW:  Positive\n",
            "\n",
            "course well designed well delivered information presented accessible way tell presenters qualified teachers tech industry know audience looking cover relevant material preempt questions topics start general concepts planning project saving fla files get coverage tools working symbols artwork text timeline gets animation sound video lesson actionscript 30 great introduction object oriented programming although touted official training adobe certified associate exam developer believe learner need taken exam say plenty concepts test covered course said excellent way learn flash go basics rustier developers\n",
            "{'neg': 0.013, 'neu': 0.852, 'pos': 0.135, 'compound': 0.8957}\n",
            "SENTIMENT OF A REVIEW:  Positive\n",
            "\n",
            "recently going school obtain degree wanted take flash well didnt enough time cash fit degree program seems like pretty viable way good price get handle adobe flash cs5 read intro plugged thought going take vocal presentation pleasing easy understand miss something easy back hear closed caption bottom need good luckit pretty tiny took set things could use assets come along classes even find order handson follow along lessons pretty frustrating set environment cant save back dvd flash liked argue destination items wanted save ended copying dvd onto computer using files starting dvd worked fine another thing noticed opens tutorial screen huge scalable royal pain wanted work watch video work watch mode put however watch portion becomes small minimize without going back regular mode full screen mode takes whole screen without able size like items used frustrations aside sharp presentation includes tests items help make sure capture essence taught really like completed touts learned skills necessary become rich media communication adobe certified associate havent gotten quite far yet come back update shortly let know goes conjunction particular learn video product\n",
            "{'neg': 0.088, 'neu': 0.672, 'pos': 0.24, 'compound': 0.985}\n",
            "SENTIMENT OF A REVIEW:  Positive\n",
            "\n",
            "informative also utilitarian complete video tutorials gives sense focus purpose given samples\n",
            "{'neg': 0.0, 'neu': 1.0, 'pos': 0.0, 'compound': 0.0}\n",
            "SENTIMENT OF A REVIEW:  Neutral\n",
            "\n",
            "always garnered deep respect fondness animation perhaps classic disney films parents treated childhood although professional care one enjoy creating humorous flash animation circulate among family friends find video informative enjoyable certainly learn much thought would would recommend product anyone love animation extra 18 hours spend\n",
            "{'neg': 0.0, 'neu': 0.508, 'pos': 0.492, 'compound': 0.9847}\n",
            "SENTIMENT OF A REVIEW:  Positive\n",
            "\n",
            "title dvd introduction adobe premiere elements 11 exactly short introduction maybe nare already experienced operator older version program familiarize idiosynchrases newer version teach basics moviemaking program nope need something much basic usually get pay\n",
            "{'neg': 0.041, 'neu': 0.959, 'pos': 0.0, 'compound': -0.1027}\n",
            "SENTIMENT OF A REVIEW:  Neutral\n",
            "\n",
            "purchased premier elements 11 difficult well impossible use proficient adobe photoshop user way back photoshop 7 new video dvdrom nice handy wish dvd split chapters use dvd player working computer im still using reference need perform unusual task dvdrom must premier elements 11\n",
            "{'neg': 0.052, 'neu': 0.79, 'pos': 0.158, 'compound': 0.6249}\n",
            "SENTIMENT OF A REVIEW:  Neutral\n",
            "\n",
            "experience adobe premiere elements learn video answered lot questions got good start using video editing program would definitely recommended\n",
            "{'neg': 0.0, 'neu': 0.684, 'pos': 0.316, 'compound': 0.7506}\n",
            "SENTIMENT OF A REVIEW:  Positive\n",
            "\n",
            "adobe premiere elements 11 difficult firsttime user reading manual give push needed start editing footage chad perkins voice learn video cd gave knowledge motivation needed start experimenting footage timeline examples explanations clarified difficult problems experienced film editors probably need video people new film editing adobe program greatly benefit though actual creation short coherent movies multiple clips video teaching technique registers picked difficult concepts quickly chad perkins host intelligent personable knowledge subtle sense humor made many hours teaching fly fast however one viewing enough im third viewing perhaps im slow learner might need chads instruction sinks better think person working real project real project plus chads insights good combination mastering premiere elements\n",
            "{'neg': 0.079, 'neu': 0.776, 'pos': 0.145, 'compound': 0.8173}\n",
            "SENTIMENT OF A REVIEW:  Positive\n",
            "\n",
            "bought adobe premier elements 11 wanted learn edit footage able get new canon rebel t3i figured whiz microsoft office excel word powerpoint etc could turn would easy pick learned youre whiz 1 kind software made 1 company doesnt mean anything go software made another company could get past turning everything different got worried figured needed help learn didnt want spend money didnt software already bought going worthless sure glad chose get first 30 seconds dvd learned easier way add media video audio pictures learned studying adobes website hour watching seems simple narrator move quickly functions work pause button dvd player got real workout dvd paused able try tips computer watched helpful recommend anyone new editing video really helped understand easy work software also much software end dvd learned things didnt even know could remember goes quickly want try computer along watching dvd become pro pausing dvd player know work premier elements full potential steven spielberg martin scorsese better watch soon turning better video anyone hollywood know video review would logical dont minute spare anxious get started making incredible video\n",
            "{'neg': 0.045, 'neu': 0.779, 'pos': 0.176, 'compound': 0.9792}\n",
            "SENTIMENT OF A REVIEW:  Positive\n",
            "\n",
            "gets mechanics software succinctly augmented well book 100 actually moreanother 5 star tips elements\n",
            "{'neg': 0.0, 'neu': 0.851, 'pos': 0.149, 'compound': 0.2732}\n",
            "SENTIMENT OF A REVIEW:  Neutral\n",
            "\n",
            "using teach use premiere elements 11 made realized easy use recommend anyone wont sorry\n",
            "{'neg': 0.0, 'neu': 0.624, 'pos': 0.376, 'compound': 0.683}\n",
            "SENTIMENT OF A REVIEW:  Positive\n",
            "\n",
            "human japanese truly superb introduction outside seems daunting tasklearning asian language instruction grammar usage cd language program congenial clear words phrases sentences clickable format instant clear repeatable hearing essential japanese vocabulary cultural notes add overall excellence program reasonable price rapid courteous customer support human japanese instructs satisfies\n",
            "{'neg': 0.0, 'neu': 0.591, 'pos': 0.409, 'compound': 0.9758}\n",
            "SENTIMENT OF A REVIEW:  Positive\n",
            "\n",
            "got human japanese demo website within week knew purchase one best programs entire computer hj eases japanese language beginning hiragana alphabet doesnt show character demonstrates write proper stroke order also click japanese characters pronounce clearly even quick demonstration pronounce words properly opposed foreign way many quizzes progress hiragana katakana help remember although also made flash cards assist enormously helpful also learn japanese vocabulary grammar easytounderstand way june 2008 confidently write kana well write properly pronounce many sentences inspired try find japanese pen pals makes want visit japan soon userfriendly program makes learning japanese rewarding easy even without classroom\n",
            "{'neg': 0.0, 'neu': 0.698, 'pos': 0.302, 'compound': 0.9854}\n",
            "SENTIMENT OF A REVIEW:  Positive\n",
            "\n",
            "first experience human japanese first version released simple program attractive look presented japanese simple way anyone could really understand heard human japanese 20 rushed get demo eventually full version well first let talk human japanese general name implies program tries teach japanese human way without fancy terminology complicated explanations rather way tutor might teach giving little hints remember writing making silly acronyms remember concepts program tries things like certainly refreshing see kind teaching used computer program human japanese 20 broken 40 lessons focused grammar others try steer reader towards learning new words expressions along writing end lesson usually quiz test knowledge things learned chapter range small multiple choice quizzes matching games endless type quiz tests vocab stuck every seven lessons chapters devoted entirely culture small 47 page bits treat read talk things like geography prices japan bathing among things many human japanese 30 would certainly nice changes human japanese 1 certainly noticeable first glance interface changed plain white background 10 nice background shades green silhouettes trees small search bar right side screen look vocab term appeared program also visual aids added lessons probably amazingly helpful look nice unfortunately changes human japanese 1 mainly visual although 40 lessons mostly 20 lessons previous version split two lessons means 40 lessons identical content last version although tend bit meat bit longer extra vocab added interface change nice making human japanese 30 id urge take time make lessons readers knowledge\n",
            "{'neg': 0.028, 'neu': 0.798, 'pos': 0.174, 'compound': 0.9871}\n",
            "SENTIMENT OF A REVIEW:  Positive\n",
            "\n",
            "first language software purchased love way information organized makes easy learn even gotten far chapters feel confident learned already watching episode naruto boyfried pleased recognied syllables key word word clue easily recognize abc highly recommend product\n",
            "{'neg': 0.0, 'neu': 0.62, 'pos': 0.38, 'compound': 0.9545}\n",
            "SENTIMENT OF A REVIEW:  Positive\n",
            "\n",
            "human japanese best pc program learning japanese easy juse good quises help remember 1010\n",
            "{'neg': 0.0, 'neu': 0.441, 'pos': 0.559, 'compound': 0.9136}\n",
            "SENTIMENT OF A REVIEW:  Positive\n",
            "\n",
            "want learn teach japanese would highly recommend human japanese hooked first chapter made great progress nice user interface includes excellent tools make learning productive highquality audio extremely helpful five stars\n",
            "{'neg': 0.0, 'neu': 0.528, 'pos': 0.472, 'compound': 0.9617}\n",
            "SENTIMENT OF A REVIEW:  Positive\n",
            "\n",
            "human japanese elegant yet simple user interface walks users storybook learning japanese lessons simple yet effective contain lots cultural lingual information one could discover living japan im teaching english japan even learned things hadnt realized yet style writing warm conversational tone keeps reading thats something think really important learning book even software reads like really knowledgable interestingfriend easyaccess reference side lets look translations without jumping lesson thats really convenient ive tried declan software rosetta stone software vocab phrases trying make remember words pictures reading introduction chapter human japanese really shows much makers software care personally teaching fundamentals japanese companies make software learning many languages make money ive got mention japanese words text clicked hear pronounciation really nice also customizable review game japanese numbers awesome japanese number system pretty simple listening big numbers language pain game generate random numbers range want read japanese quiz starting japanese want really inexpensive software helps build vocabulary hear real japanese pronounciation\n",
            "{'neg': 0.019, 'neu': 0.796, 'pos': 0.185, 'compound': 0.977}\n",
            "SENTIMENT OF A REVIEW:  Positive\n",
            "\n"
          ]
        }
      ]
    },
    {
      "cell_type": "code",
      "source": [],
      "metadata": {
        "id": "yPFd9oTVf-_j"
      },
      "execution_count": null,
      "outputs": []
    }
  ],
  "metadata": {
    "colab": {
      "provenance": []
    },
    "kernelspec": {
      "display_name": "Python 3",
      "name": "python3"
    },
    "language_info": {
      "name": "python"
    }
  },
  "nbformat": 4,
  "nbformat_minor": 0
}